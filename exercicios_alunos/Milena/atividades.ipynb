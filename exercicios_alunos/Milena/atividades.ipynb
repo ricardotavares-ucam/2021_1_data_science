{
 "metadata": {
  "language_info": {
   "codemirror_mode": {
    "name": "ipython",
    "version": 3
   },
   "file_extension": ".py",
   "mimetype": "text/x-python",
   "name": "python",
   "nbconvert_exporter": "python",
   "pygments_lexer": "ipython3",
   "version": "3.7.3-final"
  },
  "orig_nbformat": 2,
  "kernelspec": {
   "name": "python373jvsc74a57bd097ae724bfa85b9b34df7982b8bb8c7216f435b92902d749e4263f71162bea840",
   "display_name": "Python 3.7.3 64-bit (conda)"
  }
 },
 "nbformat": 4,
 "nbformat_minor": 2,
 "cells": [
  {
   "cell_type": "code",
   "execution_count": 8,
   "metadata": {},
   "outputs": [],
   "source": [
    "import pandas as pd\n",
    "import numpy as np\n",
    "import seaborn as sns\n",
    "import matplotlib.pyplot as plt\n",
    "\n"
   ]
  },
  {
   "cell_type": "code",
   "execution_count": 9,
   "metadata": {},
   "outputs": [
    {
     "output_type": "execute_result",
     "data": {
      "text/plain": [
       "           Make                             Model    Type  Origin DriveTrain  \\\n",
       "0         Acura                               MDX     SUV    Asia        All   \n",
       "1         Acura                    RSX Type S 2dr   Sedan    Asia      Front   \n",
       "2         Acura                           TSX 4dr   Sedan    Asia      Front   \n",
       "3         Acura                            TL 4dr   Sedan    Asia      Front   \n",
       "4         Acura                        3.5 RL 4dr   Sedan    Asia      Front   \n",
       "5         Acura           3.5 RL w/Navigation 4dr   Sedan    Asia      Front   \n",
       "6         Acura            NSX coupe 2dr manual S  Sports    Asia       Rear   \n",
       "7          Audi                       A4 1.8T 4dr   Sedan  Europe      Front   \n",
       "8          Audi            A41.8T convertible 2dr   Sedan  Europe      Front   \n",
       "9          Audi                        A4 3.0 4dr   Sedan  Europe      Front   \n",
       "10         Audi         A4 3.0 Quattro 4dr manual   Sedan  Europe        All   \n",
       "11         Audi           A4 3.0 Quattro 4dr auto   Sedan  Europe        All   \n",
       "12         Audi                        A6 3.0 4dr   Sedan  Europe      Front   \n",
       "13         Audi                A6 3.0 Quattro 4dr   Sedan  Europe        All   \n",
       "14         Audi            A4 3.0 convertible 2dr   Sedan  Europe      Front   \n",
       "15         Audi    A4 3.0 Quattro convertible 2dr   Sedan  Europe        All   \n",
       "16         Audi          A6 2.7 Turbo Quattro 4dr   Sedan  Europe        All   \n",
       "17         Audi                A6 4.2 Quattro 4dr   Sedan  Europe        All   \n",
       "18         Audi                  A8 L Quattro 4dr   Sedan  Europe        All   \n",
       "19         Audi                    S4 Quattro 4dr   Sedan  Europe        All   \n",
       "20         Audi                          RS 6 4dr  Sports  Europe      Front   \n",
       "21         Audi    TT 1.8 convertible 2dr (coupe)  Sports  Europe      Front   \n",
       "22         Audi  TT 1.8 Quattro 2dr (convertible)  Sports  Europe        All   \n",
       "23         Audi    TT 3.2 coupe 2dr (convertible)  Sports  Europe        All   \n",
       "24         Audi              A6 3.0 Avant Quattro   Wagon  Europe        All   \n",
       "25         Audi                  S4 Avant Quattro   Wagon  Europe        All   \n",
       "26          BMW                           X3 3.0i     SUV  Europe        All   \n",
       "27          BMW                           X5 4.4i     SUV  Europe        All   \n",
       "28          BMW                          325i 4dr   Sedan  Europe       Rear   \n",
       "29          BMW                         325Ci 2dr   Sedan  Europe       Rear   \n",
       "..          ...                               ...     ...     ...        ...   \n",
       "398      Toyota             Tundra Regular Cab V6   Truck    Asia       Rear   \n",
       "399      Toyota          Tundra Access Cab V6 SR5   Truck    Asia        All   \n",
       "400      Toyota                         Matrix XR   Wagon    Asia      Front   \n",
       "401  Volkswagen                        Touareg V6     SUV  Europe        All   \n",
       "402  Volkswagen                      Golf GLS 4dr   Sedan  Europe      Front   \n",
       "403  Volkswagen                GTI 1.8T 2dr hatch   Sedan  Europe      Front   \n",
       "404  Volkswagen                 Jetta GLS TDI 4dr   Sedan  Europe      Front   \n",
       "405  Volkswagen           New Beetle GLS 1.8T 2dr   Sedan  Europe      Front   \n",
       "406  Volkswagen                 Jetta GLI VR6 4dr   Sedan  Europe      Front   \n",
       "407  Volkswagen    New Beetle GLS convertible 2dr   Sedan  Europe      Front   \n",
       "408  Volkswagen                    Passat GLS 4dr   Sedan  Europe      Front   \n",
       "409  Volkswagen         Passat GLX V6 4MOTION 4dr   Sedan  Europe      Front   \n",
       "410  Volkswagen             Passat W8 4MOTION 4dr   Sedan  Europe      Front   \n",
       "411  Volkswagen                       Phaeton 4dr   Sedan  Europe      Front   \n",
       "412  Volkswagen                   Phaeton W12 4dr   Sedan  Europe      Front   \n",
       "413  Volkswagen                          Jetta GL   Wagon  Europe      Front   \n",
       "414  Volkswagen                   Passat GLS 1.8T   Wagon  Europe      Front   \n",
       "415  Volkswagen                         Passat W8   Wagon  Europe      Front   \n",
       "416       Volvo                           XC90 T6     SUV  Europe        All   \n",
       "417       Volvo                           S40 4dr   Sedan  Europe      Front   \n",
       "418       Volvo                       S60 2.5 4dr   Sedan  Europe        All   \n",
       "419       Volvo                        S60 T5 4dr   Sedan  Europe      Front   \n",
       "420       Volvo                         S60 R 4dr   Sedan  Europe        All   \n",
       "421       Volvo                       S80 2.9 4dr   Sedan  Europe      Front   \n",
       "422       Volvo                      S80 2.5T 4dr   Sedan  Europe        All   \n",
       "423       Volvo           C70 LPT convertible 2dr   Sedan  Europe      Front   \n",
       "424       Volvo           C70 HPT convertible 2dr   Sedan  Europe      Front   \n",
       "425       Volvo                        S80 T6 4dr   Sedan  Europe      Front   \n",
       "426       Volvo                               V40   Wagon  Europe      Front   \n",
       "427       Volvo                              XC70   Wagon  Europe        All   \n",
       "\n",
       "        MSRP  Invoice  EngineSize  Cylinders  Horsepower  MPG_City  \\\n",
       "0    $36,945  $33,337         3.5        6.0         265        17   \n",
       "1    $23,820  $21,761         2.0        4.0         200        24   \n",
       "2    $26,990  $24,647         2.4        4.0         200        22   \n",
       "3    $33,195  $30,299         3.2        6.0         270        20   \n",
       "4    $43,755  $39,014         3.5        6.0         225        18   \n",
       "5    $46,100  $41,100         3.5        6.0         225        18   \n",
       "6    $89,765  $79,978         3.2        6.0         290        17   \n",
       "7    $25,940  $23,508         1.8        4.0         170        22   \n",
       "8    $35,940  $32,506         1.8        4.0         170        23   \n",
       "9    $31,840  $28,846         3.0        6.0         220        20   \n",
       "10   $33,430  $30,366         3.0        6.0         220        17   \n",
       "11   $34,480  $31,388         3.0        6.0         220        18   \n",
       "12   $36,640  $33,129         3.0        6.0         220        20   \n",
       "13   $39,640  $35,992         3.0        6.0         220        18   \n",
       "14   $42,490  $38,325         3.0        6.0         220        20   \n",
       "15   $44,240  $40,075         3.0        6.0         220        18   \n",
       "16   $42,840  $38,840         2.7        6.0         250        18   \n",
       "17   $49,690  $44,936         4.2        8.0         300        17   \n",
       "18   $69,190  $64,740         4.2        8.0         330        17   \n",
       "19   $48,040  $43,556         4.2        8.0         340        14   \n",
       "20   $84,600  $76,417         4.2        8.0         450        15   \n",
       "21   $35,940  $32,512         1.8        4.0         180        20   \n",
       "22   $37,390  $33,891         1.8        4.0         225        20   \n",
       "23   $40,590  $36,739         3.2        6.0         250        21   \n",
       "24   $40,840  $37,060         3.0        6.0         220        18   \n",
       "25   $49,090  $44,446         4.2        8.0         340        15   \n",
       "26   $37,000  $33,873         3.0        6.0         225        16   \n",
       "27   $52,195  $47,720         4.4        8.0         325        16   \n",
       "28   $28,495  $26,155         2.5        6.0         184        20   \n",
       "29   $30,795  $28,245         2.5        6.0         184        20   \n",
       "..       ...      ...         ...        ...         ...       ...   \n",
       "398  $16,495  $14,978         3.4        6.0         190        16   \n",
       "399  $25,935  $23,520         3.4        6.0         190        14   \n",
       "400  $16,695  $15,156         1.8        4.0         130        29   \n",
       "401  $35,515  $32,243         3.2        6.0         220        15   \n",
       "402  $18,715  $17,478         2.0        4.0         115        24   \n",
       "403  $19,825  $18,109         1.8        4.0         180        24   \n",
       "404  $21,055  $19,638         1.9        4.0         100        38   \n",
       "405  $21,055  $19,638         1.8        4.0         150        24   \n",
       "406  $23,785  $21,686         2.8        6.0         200        21   \n",
       "407  $23,215  $21,689         2.0        4.0         115        24   \n",
       "408  $23,955  $21,898         1.8        4.0         170        22   \n",
       "409  $33,180  $30,583         2.8        6.0         190        19   \n",
       "410  $39,235  $36,052         4.0        8.0         270        18   \n",
       "411  $65,000  $59,912         4.2        8.0         335        16   \n",
       "412  $75,000  $69,130         6.0       12.0         420        12   \n",
       "413  $19,005  $17,427         2.0        4.0         115        24   \n",
       "414  $24,955  $22,801         1.8        4.0         170        22   \n",
       "415  $40,235  $36,956         4.0        8.0         270        18   \n",
       "416  $41,250  $38,851         2.9        6.0         268        15   \n",
       "417  $25,135  $23,701         1.9        4.0         170        22   \n",
       "418  $31,745  $29,916         2.5        5.0         208        20   \n",
       "419  $34,845  $32,902         2.3        5.0         247        20   \n",
       "420  $37,560  $35,382         2.5        5.0         300        18   \n",
       "421  $37,730  $35,542         2.9        6.0         208        20   \n",
       "422  $37,885  $35,688         2.5        5.0         194        20   \n",
       "423  $40,565  $38,203         2.4        5.0         197        21   \n",
       "424  $42,565  $40,083         2.3        5.0         242        20   \n",
       "425  $45,210  $42,573         2.9        6.0         268        19   \n",
       "426  $26,135  $24,641         1.9        4.0         170        22   \n",
       "427  $35,145  $33,112         2.5        5.0         208        20   \n",
       "\n",
       "     MPG_Highway  Weight  Wheelbase  Length  \n",
       "0             23    4451        106     189  \n",
       "1             31    2778        101     172  \n",
       "2             29    3230        105     183  \n",
       "3             28    3575        108     186  \n",
       "4             24    3880        115     197  \n",
       "5             24    3893        115     197  \n",
       "6             24    3153        100     174  \n",
       "7             31    3252        104     179  \n",
       "8             30    3638        105     180  \n",
       "9             28    3462        104     179  \n",
       "10            26    3583        104     179  \n",
       "11            25    3627        104     179  \n",
       "12            27    3561        109     192  \n",
       "13            25    3880        109     192  \n",
       "14            27    3814        105     180  \n",
       "15            25    4013        105     180  \n",
       "16            25    3836        109     192  \n",
       "17            24    4024        109     193  \n",
       "18            24    4399        121     204  \n",
       "19            20    3825        104     179  \n",
       "20            22    4024        109     191  \n",
       "21            28    3131         95     159  \n",
       "22            28    2921         96     159  \n",
       "23            29    3351         96     159  \n",
       "24            25    4035        109     192  \n",
       "25            21    3936        104     179  \n",
       "26            23    4023        110     180  \n",
       "27            22    4824        111     184  \n",
       "28            29    3219        107     176  \n",
       "29            29    3197        107     177  \n",
       "..           ...     ...        ...     ...  \n",
       "398           18    3925        128     218  \n",
       "399           17    4435        128     218  \n",
       "400           36    2679        102     171  \n",
       "401           20    5086        112     187  \n",
       "402           31    2897         99     165  \n",
       "403           31    2934         99     168  \n",
       "404           46    3003         99     172  \n",
       "405           31    2820         99     161  \n",
       "406           30    3179         99     172  \n",
       "407           30    3082         99     161  \n",
       "408           31    3241        106     185  \n",
       "409           26    3721        106     185  \n",
       "410           25    3953        106     185  \n",
       "411           22    5194        118     204  \n",
       "412           19    5399        118     204  \n",
       "413           30    3034         99     174  \n",
       "414           31    3338        106     184  \n",
       "415           25    4067        106     184  \n",
       "416           20    4638        113     189  \n",
       "417           29    2767        101     178  \n",
       "418           27    3903        107     180  \n",
       "419           28    3766        107     180  \n",
       "420           25    3571        107     181  \n",
       "421           28    3576        110     190  \n",
       "422           27    3691        110     190  \n",
       "423           28    3450        105     186  \n",
       "424           26    3450        105     186  \n",
       "425           26    3653        110     190  \n",
       "426           29    2822        101     180  \n",
       "427           27    3823        109     186  \n",
       "\n",
       "[428 rows x 15 columns]"
      ],
      "text/html": "<div>\n<style scoped>\n    .dataframe tbody tr th:only-of-type {\n        vertical-align: middle;\n    }\n\n    .dataframe tbody tr th {\n        vertical-align: top;\n    }\n\n    .dataframe thead th {\n        text-align: right;\n    }\n</style>\n<table border=\"1\" class=\"dataframe\">\n  <thead>\n    <tr style=\"text-align: right;\">\n      <th></th>\n      <th>Make</th>\n      <th>Model</th>\n      <th>Type</th>\n      <th>Origin</th>\n      <th>DriveTrain</th>\n      <th>MSRP</th>\n      <th>Invoice</th>\n      <th>EngineSize</th>\n      <th>Cylinders</th>\n      <th>Horsepower</th>\n      <th>MPG_City</th>\n      <th>MPG_Highway</th>\n      <th>Weight</th>\n      <th>Wheelbase</th>\n      <th>Length</th>\n    </tr>\n  </thead>\n  <tbody>\n    <tr>\n      <th>0</th>\n      <td>Acura</td>\n      <td>MDX</td>\n      <td>SUV</td>\n      <td>Asia</td>\n      <td>All</td>\n      <td>$36,945</td>\n      <td>$33,337</td>\n      <td>3.5</td>\n      <td>6.0</td>\n      <td>265</td>\n      <td>17</td>\n      <td>23</td>\n      <td>4451</td>\n      <td>106</td>\n      <td>189</td>\n    </tr>\n    <tr>\n      <th>1</th>\n      <td>Acura</td>\n      <td>RSX Type S 2dr</td>\n      <td>Sedan</td>\n      <td>Asia</td>\n      <td>Front</td>\n      <td>$23,820</td>\n      <td>$21,761</td>\n      <td>2.0</td>\n      <td>4.0</td>\n      <td>200</td>\n      <td>24</td>\n      <td>31</td>\n      <td>2778</td>\n      <td>101</td>\n      <td>172</td>\n    </tr>\n    <tr>\n      <th>2</th>\n      <td>Acura</td>\n      <td>TSX 4dr</td>\n      <td>Sedan</td>\n      <td>Asia</td>\n      <td>Front</td>\n      <td>$26,990</td>\n      <td>$24,647</td>\n      <td>2.4</td>\n      <td>4.0</td>\n      <td>200</td>\n      <td>22</td>\n      <td>29</td>\n      <td>3230</td>\n      <td>105</td>\n      <td>183</td>\n    </tr>\n    <tr>\n      <th>3</th>\n      <td>Acura</td>\n      <td>TL 4dr</td>\n      <td>Sedan</td>\n      <td>Asia</td>\n      <td>Front</td>\n      <td>$33,195</td>\n      <td>$30,299</td>\n      <td>3.2</td>\n      <td>6.0</td>\n      <td>270</td>\n      <td>20</td>\n      <td>28</td>\n      <td>3575</td>\n      <td>108</td>\n      <td>186</td>\n    </tr>\n    <tr>\n      <th>4</th>\n      <td>Acura</td>\n      <td>3.5 RL 4dr</td>\n      <td>Sedan</td>\n      <td>Asia</td>\n      <td>Front</td>\n      <td>$43,755</td>\n      <td>$39,014</td>\n      <td>3.5</td>\n      <td>6.0</td>\n      <td>225</td>\n      <td>18</td>\n      <td>24</td>\n      <td>3880</td>\n      <td>115</td>\n      <td>197</td>\n    </tr>\n    <tr>\n      <th>5</th>\n      <td>Acura</td>\n      <td>3.5 RL w/Navigation 4dr</td>\n      <td>Sedan</td>\n      <td>Asia</td>\n      <td>Front</td>\n      <td>$46,100</td>\n      <td>$41,100</td>\n      <td>3.5</td>\n      <td>6.0</td>\n      <td>225</td>\n      <td>18</td>\n      <td>24</td>\n      <td>3893</td>\n      <td>115</td>\n      <td>197</td>\n    </tr>\n    <tr>\n      <th>6</th>\n      <td>Acura</td>\n      <td>NSX coupe 2dr manual S</td>\n      <td>Sports</td>\n      <td>Asia</td>\n      <td>Rear</td>\n      <td>$89,765</td>\n      <td>$79,978</td>\n      <td>3.2</td>\n      <td>6.0</td>\n      <td>290</td>\n      <td>17</td>\n      <td>24</td>\n      <td>3153</td>\n      <td>100</td>\n      <td>174</td>\n    </tr>\n    <tr>\n      <th>7</th>\n      <td>Audi</td>\n      <td>A4 1.8T 4dr</td>\n      <td>Sedan</td>\n      <td>Europe</td>\n      <td>Front</td>\n      <td>$25,940</td>\n      <td>$23,508</td>\n      <td>1.8</td>\n      <td>4.0</td>\n      <td>170</td>\n      <td>22</td>\n      <td>31</td>\n      <td>3252</td>\n      <td>104</td>\n      <td>179</td>\n    </tr>\n    <tr>\n      <th>8</th>\n      <td>Audi</td>\n      <td>A41.8T convertible 2dr</td>\n      <td>Sedan</td>\n      <td>Europe</td>\n      <td>Front</td>\n      <td>$35,940</td>\n      <td>$32,506</td>\n      <td>1.8</td>\n      <td>4.0</td>\n      <td>170</td>\n      <td>23</td>\n      <td>30</td>\n      <td>3638</td>\n      <td>105</td>\n      <td>180</td>\n    </tr>\n    <tr>\n      <th>9</th>\n      <td>Audi</td>\n      <td>A4 3.0 4dr</td>\n      <td>Sedan</td>\n      <td>Europe</td>\n      <td>Front</td>\n      <td>$31,840</td>\n      <td>$28,846</td>\n      <td>3.0</td>\n      <td>6.0</td>\n      <td>220</td>\n      <td>20</td>\n      <td>28</td>\n      <td>3462</td>\n      <td>104</td>\n      <td>179</td>\n    </tr>\n    <tr>\n      <th>10</th>\n      <td>Audi</td>\n      <td>A4 3.0 Quattro 4dr manual</td>\n      <td>Sedan</td>\n      <td>Europe</td>\n      <td>All</td>\n      <td>$33,430</td>\n      <td>$30,366</td>\n      <td>3.0</td>\n      <td>6.0</td>\n      <td>220</td>\n      <td>17</td>\n      <td>26</td>\n      <td>3583</td>\n      <td>104</td>\n      <td>179</td>\n    </tr>\n    <tr>\n      <th>11</th>\n      <td>Audi</td>\n      <td>A4 3.0 Quattro 4dr auto</td>\n      <td>Sedan</td>\n      <td>Europe</td>\n      <td>All</td>\n      <td>$34,480</td>\n      <td>$31,388</td>\n      <td>3.0</td>\n      <td>6.0</td>\n      <td>220</td>\n      <td>18</td>\n      <td>25</td>\n      <td>3627</td>\n      <td>104</td>\n      <td>179</td>\n    </tr>\n    <tr>\n      <th>12</th>\n      <td>Audi</td>\n      <td>A6 3.0 4dr</td>\n      <td>Sedan</td>\n      <td>Europe</td>\n      <td>Front</td>\n      <td>$36,640</td>\n      <td>$33,129</td>\n      <td>3.0</td>\n      <td>6.0</td>\n      <td>220</td>\n      <td>20</td>\n      <td>27</td>\n      <td>3561</td>\n      <td>109</td>\n      <td>192</td>\n    </tr>\n    <tr>\n      <th>13</th>\n      <td>Audi</td>\n      <td>A6 3.0 Quattro 4dr</td>\n      <td>Sedan</td>\n      <td>Europe</td>\n      <td>All</td>\n      <td>$39,640</td>\n      <td>$35,992</td>\n      <td>3.0</td>\n      <td>6.0</td>\n      <td>220</td>\n      <td>18</td>\n      <td>25</td>\n      <td>3880</td>\n      <td>109</td>\n      <td>192</td>\n    </tr>\n    <tr>\n      <th>14</th>\n      <td>Audi</td>\n      <td>A4 3.0 convertible 2dr</td>\n      <td>Sedan</td>\n      <td>Europe</td>\n      <td>Front</td>\n      <td>$42,490</td>\n      <td>$38,325</td>\n      <td>3.0</td>\n      <td>6.0</td>\n      <td>220</td>\n      <td>20</td>\n      <td>27</td>\n      <td>3814</td>\n      <td>105</td>\n      <td>180</td>\n    </tr>\n    <tr>\n      <th>15</th>\n      <td>Audi</td>\n      <td>A4 3.0 Quattro convertible 2dr</td>\n      <td>Sedan</td>\n      <td>Europe</td>\n      <td>All</td>\n      <td>$44,240</td>\n      <td>$40,075</td>\n      <td>3.0</td>\n      <td>6.0</td>\n      <td>220</td>\n      <td>18</td>\n      <td>25</td>\n      <td>4013</td>\n      <td>105</td>\n      <td>180</td>\n    </tr>\n    <tr>\n      <th>16</th>\n      <td>Audi</td>\n      <td>A6 2.7 Turbo Quattro 4dr</td>\n      <td>Sedan</td>\n      <td>Europe</td>\n      <td>All</td>\n      <td>$42,840</td>\n      <td>$38,840</td>\n      <td>2.7</td>\n      <td>6.0</td>\n      <td>250</td>\n      <td>18</td>\n      <td>25</td>\n      <td>3836</td>\n      <td>109</td>\n      <td>192</td>\n    </tr>\n    <tr>\n      <th>17</th>\n      <td>Audi</td>\n      <td>A6 4.2 Quattro 4dr</td>\n      <td>Sedan</td>\n      <td>Europe</td>\n      <td>All</td>\n      <td>$49,690</td>\n      <td>$44,936</td>\n      <td>4.2</td>\n      <td>8.0</td>\n      <td>300</td>\n      <td>17</td>\n      <td>24</td>\n      <td>4024</td>\n      <td>109</td>\n      <td>193</td>\n    </tr>\n    <tr>\n      <th>18</th>\n      <td>Audi</td>\n      <td>A8 L Quattro 4dr</td>\n      <td>Sedan</td>\n      <td>Europe</td>\n      <td>All</td>\n      <td>$69,190</td>\n      <td>$64,740</td>\n      <td>4.2</td>\n      <td>8.0</td>\n      <td>330</td>\n      <td>17</td>\n      <td>24</td>\n      <td>4399</td>\n      <td>121</td>\n      <td>204</td>\n    </tr>\n    <tr>\n      <th>19</th>\n      <td>Audi</td>\n      <td>S4 Quattro 4dr</td>\n      <td>Sedan</td>\n      <td>Europe</td>\n      <td>All</td>\n      <td>$48,040</td>\n      <td>$43,556</td>\n      <td>4.2</td>\n      <td>8.0</td>\n      <td>340</td>\n      <td>14</td>\n      <td>20</td>\n      <td>3825</td>\n      <td>104</td>\n      <td>179</td>\n    </tr>\n    <tr>\n      <th>20</th>\n      <td>Audi</td>\n      <td>RS 6 4dr</td>\n      <td>Sports</td>\n      <td>Europe</td>\n      <td>Front</td>\n      <td>$84,600</td>\n      <td>$76,417</td>\n      <td>4.2</td>\n      <td>8.0</td>\n      <td>450</td>\n      <td>15</td>\n      <td>22</td>\n      <td>4024</td>\n      <td>109</td>\n      <td>191</td>\n    </tr>\n    <tr>\n      <th>21</th>\n      <td>Audi</td>\n      <td>TT 1.8 convertible 2dr (coupe)</td>\n      <td>Sports</td>\n      <td>Europe</td>\n      <td>Front</td>\n      <td>$35,940</td>\n      <td>$32,512</td>\n      <td>1.8</td>\n      <td>4.0</td>\n      <td>180</td>\n      <td>20</td>\n      <td>28</td>\n      <td>3131</td>\n      <td>95</td>\n      <td>159</td>\n    </tr>\n    <tr>\n      <th>22</th>\n      <td>Audi</td>\n      <td>TT 1.8 Quattro 2dr (convertible)</td>\n      <td>Sports</td>\n      <td>Europe</td>\n      <td>All</td>\n      <td>$37,390</td>\n      <td>$33,891</td>\n      <td>1.8</td>\n      <td>4.0</td>\n      <td>225</td>\n      <td>20</td>\n      <td>28</td>\n      <td>2921</td>\n      <td>96</td>\n      <td>159</td>\n    </tr>\n    <tr>\n      <th>23</th>\n      <td>Audi</td>\n      <td>TT 3.2 coupe 2dr (convertible)</td>\n      <td>Sports</td>\n      <td>Europe</td>\n      <td>All</td>\n      <td>$40,590</td>\n      <td>$36,739</td>\n      <td>3.2</td>\n      <td>6.0</td>\n      <td>250</td>\n      <td>21</td>\n      <td>29</td>\n      <td>3351</td>\n      <td>96</td>\n      <td>159</td>\n    </tr>\n    <tr>\n      <th>24</th>\n      <td>Audi</td>\n      <td>A6 3.0 Avant Quattro</td>\n      <td>Wagon</td>\n      <td>Europe</td>\n      <td>All</td>\n      <td>$40,840</td>\n      <td>$37,060</td>\n      <td>3.0</td>\n      <td>6.0</td>\n      <td>220</td>\n      <td>18</td>\n      <td>25</td>\n      <td>4035</td>\n      <td>109</td>\n      <td>192</td>\n    </tr>\n    <tr>\n      <th>25</th>\n      <td>Audi</td>\n      <td>S4 Avant Quattro</td>\n      <td>Wagon</td>\n      <td>Europe</td>\n      <td>All</td>\n      <td>$49,090</td>\n      <td>$44,446</td>\n      <td>4.2</td>\n      <td>8.0</td>\n      <td>340</td>\n      <td>15</td>\n      <td>21</td>\n      <td>3936</td>\n      <td>104</td>\n      <td>179</td>\n    </tr>\n    <tr>\n      <th>26</th>\n      <td>BMW</td>\n      <td>X3 3.0i</td>\n      <td>SUV</td>\n      <td>Europe</td>\n      <td>All</td>\n      <td>$37,000</td>\n      <td>$33,873</td>\n      <td>3.0</td>\n      <td>6.0</td>\n      <td>225</td>\n      <td>16</td>\n      <td>23</td>\n      <td>4023</td>\n      <td>110</td>\n      <td>180</td>\n    </tr>\n    <tr>\n      <th>27</th>\n      <td>BMW</td>\n      <td>X5 4.4i</td>\n      <td>SUV</td>\n      <td>Europe</td>\n      <td>All</td>\n      <td>$52,195</td>\n      <td>$47,720</td>\n      <td>4.4</td>\n      <td>8.0</td>\n      <td>325</td>\n      <td>16</td>\n      <td>22</td>\n      <td>4824</td>\n      <td>111</td>\n      <td>184</td>\n    </tr>\n    <tr>\n      <th>28</th>\n      <td>BMW</td>\n      <td>325i 4dr</td>\n      <td>Sedan</td>\n      <td>Europe</td>\n      <td>Rear</td>\n      <td>$28,495</td>\n      <td>$26,155</td>\n      <td>2.5</td>\n      <td>6.0</td>\n      <td>184</td>\n      <td>20</td>\n      <td>29</td>\n      <td>3219</td>\n      <td>107</td>\n      <td>176</td>\n    </tr>\n    <tr>\n      <th>29</th>\n      <td>BMW</td>\n      <td>325Ci 2dr</td>\n      <td>Sedan</td>\n      <td>Europe</td>\n      <td>Rear</td>\n      <td>$30,795</td>\n      <td>$28,245</td>\n      <td>2.5</td>\n      <td>6.0</td>\n      <td>184</td>\n      <td>20</td>\n      <td>29</td>\n      <td>3197</td>\n      <td>107</td>\n      <td>177</td>\n    </tr>\n    <tr>\n      <th>...</th>\n      <td>...</td>\n      <td>...</td>\n      <td>...</td>\n      <td>...</td>\n      <td>...</td>\n      <td>...</td>\n      <td>...</td>\n      <td>...</td>\n      <td>...</td>\n      <td>...</td>\n      <td>...</td>\n      <td>...</td>\n      <td>...</td>\n      <td>...</td>\n      <td>...</td>\n    </tr>\n    <tr>\n      <th>398</th>\n      <td>Toyota</td>\n      <td>Tundra Regular Cab V6</td>\n      <td>Truck</td>\n      <td>Asia</td>\n      <td>Rear</td>\n      <td>$16,495</td>\n      <td>$14,978</td>\n      <td>3.4</td>\n      <td>6.0</td>\n      <td>190</td>\n      <td>16</td>\n      <td>18</td>\n      <td>3925</td>\n      <td>128</td>\n      <td>218</td>\n    </tr>\n    <tr>\n      <th>399</th>\n      <td>Toyota</td>\n      <td>Tundra Access Cab V6 SR5</td>\n      <td>Truck</td>\n      <td>Asia</td>\n      <td>All</td>\n      <td>$25,935</td>\n      <td>$23,520</td>\n      <td>3.4</td>\n      <td>6.0</td>\n      <td>190</td>\n      <td>14</td>\n      <td>17</td>\n      <td>4435</td>\n      <td>128</td>\n      <td>218</td>\n    </tr>\n    <tr>\n      <th>400</th>\n      <td>Toyota</td>\n      <td>Matrix XR</td>\n      <td>Wagon</td>\n      <td>Asia</td>\n      <td>Front</td>\n      <td>$16,695</td>\n      <td>$15,156</td>\n      <td>1.8</td>\n      <td>4.0</td>\n      <td>130</td>\n      <td>29</td>\n      <td>36</td>\n      <td>2679</td>\n      <td>102</td>\n      <td>171</td>\n    </tr>\n    <tr>\n      <th>401</th>\n      <td>Volkswagen</td>\n      <td>Touareg V6</td>\n      <td>SUV</td>\n      <td>Europe</td>\n      <td>All</td>\n      <td>$35,515</td>\n      <td>$32,243</td>\n      <td>3.2</td>\n      <td>6.0</td>\n      <td>220</td>\n      <td>15</td>\n      <td>20</td>\n      <td>5086</td>\n      <td>112</td>\n      <td>187</td>\n    </tr>\n    <tr>\n      <th>402</th>\n      <td>Volkswagen</td>\n      <td>Golf GLS 4dr</td>\n      <td>Sedan</td>\n      <td>Europe</td>\n      <td>Front</td>\n      <td>$18,715</td>\n      <td>$17,478</td>\n      <td>2.0</td>\n      <td>4.0</td>\n      <td>115</td>\n      <td>24</td>\n      <td>31</td>\n      <td>2897</td>\n      <td>99</td>\n      <td>165</td>\n    </tr>\n    <tr>\n      <th>403</th>\n      <td>Volkswagen</td>\n      <td>GTI 1.8T 2dr hatch</td>\n      <td>Sedan</td>\n      <td>Europe</td>\n      <td>Front</td>\n      <td>$19,825</td>\n      <td>$18,109</td>\n      <td>1.8</td>\n      <td>4.0</td>\n      <td>180</td>\n      <td>24</td>\n      <td>31</td>\n      <td>2934</td>\n      <td>99</td>\n      <td>168</td>\n    </tr>\n    <tr>\n      <th>404</th>\n      <td>Volkswagen</td>\n      <td>Jetta GLS TDI 4dr</td>\n      <td>Sedan</td>\n      <td>Europe</td>\n      <td>Front</td>\n      <td>$21,055</td>\n      <td>$19,638</td>\n      <td>1.9</td>\n      <td>4.0</td>\n      <td>100</td>\n      <td>38</td>\n      <td>46</td>\n      <td>3003</td>\n      <td>99</td>\n      <td>172</td>\n    </tr>\n    <tr>\n      <th>405</th>\n      <td>Volkswagen</td>\n      <td>New Beetle GLS 1.8T 2dr</td>\n      <td>Sedan</td>\n      <td>Europe</td>\n      <td>Front</td>\n      <td>$21,055</td>\n      <td>$19,638</td>\n      <td>1.8</td>\n      <td>4.0</td>\n      <td>150</td>\n      <td>24</td>\n      <td>31</td>\n      <td>2820</td>\n      <td>99</td>\n      <td>161</td>\n    </tr>\n    <tr>\n      <th>406</th>\n      <td>Volkswagen</td>\n      <td>Jetta GLI VR6 4dr</td>\n      <td>Sedan</td>\n      <td>Europe</td>\n      <td>Front</td>\n      <td>$23,785</td>\n      <td>$21,686</td>\n      <td>2.8</td>\n      <td>6.0</td>\n      <td>200</td>\n      <td>21</td>\n      <td>30</td>\n      <td>3179</td>\n      <td>99</td>\n      <td>172</td>\n    </tr>\n    <tr>\n      <th>407</th>\n      <td>Volkswagen</td>\n      <td>New Beetle GLS convertible 2dr</td>\n      <td>Sedan</td>\n      <td>Europe</td>\n      <td>Front</td>\n      <td>$23,215</td>\n      <td>$21,689</td>\n      <td>2.0</td>\n      <td>4.0</td>\n      <td>115</td>\n      <td>24</td>\n      <td>30</td>\n      <td>3082</td>\n      <td>99</td>\n      <td>161</td>\n    </tr>\n    <tr>\n      <th>408</th>\n      <td>Volkswagen</td>\n      <td>Passat GLS 4dr</td>\n      <td>Sedan</td>\n      <td>Europe</td>\n      <td>Front</td>\n      <td>$23,955</td>\n      <td>$21,898</td>\n      <td>1.8</td>\n      <td>4.0</td>\n      <td>170</td>\n      <td>22</td>\n      <td>31</td>\n      <td>3241</td>\n      <td>106</td>\n      <td>185</td>\n    </tr>\n    <tr>\n      <th>409</th>\n      <td>Volkswagen</td>\n      <td>Passat GLX V6 4MOTION 4dr</td>\n      <td>Sedan</td>\n      <td>Europe</td>\n      <td>Front</td>\n      <td>$33,180</td>\n      <td>$30,583</td>\n      <td>2.8</td>\n      <td>6.0</td>\n      <td>190</td>\n      <td>19</td>\n      <td>26</td>\n      <td>3721</td>\n      <td>106</td>\n      <td>185</td>\n    </tr>\n    <tr>\n      <th>410</th>\n      <td>Volkswagen</td>\n      <td>Passat W8 4MOTION 4dr</td>\n      <td>Sedan</td>\n      <td>Europe</td>\n      <td>Front</td>\n      <td>$39,235</td>\n      <td>$36,052</td>\n      <td>4.0</td>\n      <td>8.0</td>\n      <td>270</td>\n      <td>18</td>\n      <td>25</td>\n      <td>3953</td>\n      <td>106</td>\n      <td>185</td>\n    </tr>\n    <tr>\n      <th>411</th>\n      <td>Volkswagen</td>\n      <td>Phaeton 4dr</td>\n      <td>Sedan</td>\n      <td>Europe</td>\n      <td>Front</td>\n      <td>$65,000</td>\n      <td>$59,912</td>\n      <td>4.2</td>\n      <td>8.0</td>\n      <td>335</td>\n      <td>16</td>\n      <td>22</td>\n      <td>5194</td>\n      <td>118</td>\n      <td>204</td>\n    </tr>\n    <tr>\n      <th>412</th>\n      <td>Volkswagen</td>\n      <td>Phaeton W12 4dr</td>\n      <td>Sedan</td>\n      <td>Europe</td>\n      <td>Front</td>\n      <td>$75,000</td>\n      <td>$69,130</td>\n      <td>6.0</td>\n      <td>12.0</td>\n      <td>420</td>\n      <td>12</td>\n      <td>19</td>\n      <td>5399</td>\n      <td>118</td>\n      <td>204</td>\n    </tr>\n    <tr>\n      <th>413</th>\n      <td>Volkswagen</td>\n      <td>Jetta GL</td>\n      <td>Wagon</td>\n      <td>Europe</td>\n      <td>Front</td>\n      <td>$19,005</td>\n      <td>$17,427</td>\n      <td>2.0</td>\n      <td>4.0</td>\n      <td>115</td>\n      <td>24</td>\n      <td>30</td>\n      <td>3034</td>\n      <td>99</td>\n      <td>174</td>\n    </tr>\n    <tr>\n      <th>414</th>\n      <td>Volkswagen</td>\n      <td>Passat GLS 1.8T</td>\n      <td>Wagon</td>\n      <td>Europe</td>\n      <td>Front</td>\n      <td>$24,955</td>\n      <td>$22,801</td>\n      <td>1.8</td>\n      <td>4.0</td>\n      <td>170</td>\n      <td>22</td>\n      <td>31</td>\n      <td>3338</td>\n      <td>106</td>\n      <td>184</td>\n    </tr>\n    <tr>\n      <th>415</th>\n      <td>Volkswagen</td>\n      <td>Passat W8</td>\n      <td>Wagon</td>\n      <td>Europe</td>\n      <td>Front</td>\n      <td>$40,235</td>\n      <td>$36,956</td>\n      <td>4.0</td>\n      <td>8.0</td>\n      <td>270</td>\n      <td>18</td>\n      <td>25</td>\n      <td>4067</td>\n      <td>106</td>\n      <td>184</td>\n    </tr>\n    <tr>\n      <th>416</th>\n      <td>Volvo</td>\n      <td>XC90 T6</td>\n      <td>SUV</td>\n      <td>Europe</td>\n      <td>All</td>\n      <td>$41,250</td>\n      <td>$38,851</td>\n      <td>2.9</td>\n      <td>6.0</td>\n      <td>268</td>\n      <td>15</td>\n      <td>20</td>\n      <td>4638</td>\n      <td>113</td>\n      <td>189</td>\n    </tr>\n    <tr>\n      <th>417</th>\n      <td>Volvo</td>\n      <td>S40 4dr</td>\n      <td>Sedan</td>\n      <td>Europe</td>\n      <td>Front</td>\n      <td>$25,135</td>\n      <td>$23,701</td>\n      <td>1.9</td>\n      <td>4.0</td>\n      <td>170</td>\n      <td>22</td>\n      <td>29</td>\n      <td>2767</td>\n      <td>101</td>\n      <td>178</td>\n    </tr>\n    <tr>\n      <th>418</th>\n      <td>Volvo</td>\n      <td>S60 2.5 4dr</td>\n      <td>Sedan</td>\n      <td>Europe</td>\n      <td>All</td>\n      <td>$31,745</td>\n      <td>$29,916</td>\n      <td>2.5</td>\n      <td>5.0</td>\n      <td>208</td>\n      <td>20</td>\n      <td>27</td>\n      <td>3903</td>\n      <td>107</td>\n      <td>180</td>\n    </tr>\n    <tr>\n      <th>419</th>\n      <td>Volvo</td>\n      <td>S60 T5 4dr</td>\n      <td>Sedan</td>\n      <td>Europe</td>\n      <td>Front</td>\n      <td>$34,845</td>\n      <td>$32,902</td>\n      <td>2.3</td>\n      <td>5.0</td>\n      <td>247</td>\n      <td>20</td>\n      <td>28</td>\n      <td>3766</td>\n      <td>107</td>\n      <td>180</td>\n    </tr>\n    <tr>\n      <th>420</th>\n      <td>Volvo</td>\n      <td>S60 R 4dr</td>\n      <td>Sedan</td>\n      <td>Europe</td>\n      <td>All</td>\n      <td>$37,560</td>\n      <td>$35,382</td>\n      <td>2.5</td>\n      <td>5.0</td>\n      <td>300</td>\n      <td>18</td>\n      <td>25</td>\n      <td>3571</td>\n      <td>107</td>\n      <td>181</td>\n    </tr>\n    <tr>\n      <th>421</th>\n      <td>Volvo</td>\n      <td>S80 2.9 4dr</td>\n      <td>Sedan</td>\n      <td>Europe</td>\n      <td>Front</td>\n      <td>$37,730</td>\n      <td>$35,542</td>\n      <td>2.9</td>\n      <td>6.0</td>\n      <td>208</td>\n      <td>20</td>\n      <td>28</td>\n      <td>3576</td>\n      <td>110</td>\n      <td>190</td>\n    </tr>\n    <tr>\n      <th>422</th>\n      <td>Volvo</td>\n      <td>S80 2.5T 4dr</td>\n      <td>Sedan</td>\n      <td>Europe</td>\n      <td>All</td>\n      <td>$37,885</td>\n      <td>$35,688</td>\n      <td>2.5</td>\n      <td>5.0</td>\n      <td>194</td>\n      <td>20</td>\n      <td>27</td>\n      <td>3691</td>\n      <td>110</td>\n      <td>190</td>\n    </tr>\n    <tr>\n      <th>423</th>\n      <td>Volvo</td>\n      <td>C70 LPT convertible 2dr</td>\n      <td>Sedan</td>\n      <td>Europe</td>\n      <td>Front</td>\n      <td>$40,565</td>\n      <td>$38,203</td>\n      <td>2.4</td>\n      <td>5.0</td>\n      <td>197</td>\n      <td>21</td>\n      <td>28</td>\n      <td>3450</td>\n      <td>105</td>\n      <td>186</td>\n    </tr>\n    <tr>\n      <th>424</th>\n      <td>Volvo</td>\n      <td>C70 HPT convertible 2dr</td>\n      <td>Sedan</td>\n      <td>Europe</td>\n      <td>Front</td>\n      <td>$42,565</td>\n      <td>$40,083</td>\n      <td>2.3</td>\n      <td>5.0</td>\n      <td>242</td>\n      <td>20</td>\n      <td>26</td>\n      <td>3450</td>\n      <td>105</td>\n      <td>186</td>\n    </tr>\n    <tr>\n      <th>425</th>\n      <td>Volvo</td>\n      <td>S80 T6 4dr</td>\n      <td>Sedan</td>\n      <td>Europe</td>\n      <td>Front</td>\n      <td>$45,210</td>\n      <td>$42,573</td>\n      <td>2.9</td>\n      <td>6.0</td>\n      <td>268</td>\n      <td>19</td>\n      <td>26</td>\n      <td>3653</td>\n      <td>110</td>\n      <td>190</td>\n    </tr>\n    <tr>\n      <th>426</th>\n      <td>Volvo</td>\n      <td>V40</td>\n      <td>Wagon</td>\n      <td>Europe</td>\n      <td>Front</td>\n      <td>$26,135</td>\n      <td>$24,641</td>\n      <td>1.9</td>\n      <td>4.0</td>\n      <td>170</td>\n      <td>22</td>\n      <td>29</td>\n      <td>2822</td>\n      <td>101</td>\n      <td>180</td>\n    </tr>\n    <tr>\n      <th>427</th>\n      <td>Volvo</td>\n      <td>XC70</td>\n      <td>Wagon</td>\n      <td>Europe</td>\n      <td>All</td>\n      <td>$35,145</td>\n      <td>$33,112</td>\n      <td>2.5</td>\n      <td>5.0</td>\n      <td>208</td>\n      <td>20</td>\n      <td>27</td>\n      <td>3823</td>\n      <td>109</td>\n      <td>186</td>\n    </tr>\n  </tbody>\n</table>\n<p>428 rows × 15 columns</p>\n</div>"
     },
     "metadata": {},
     "execution_count": 9
    }
   ],
   "source": [
    "carros = pd.read_csv(\"cars.csv\")\n",
    "carros"
   ]
  },
  {
   "cell_type": "code",
   "execution_count": 10,
   "metadata": {},
   "outputs": [
    {
     "output_type": "execute_result",
     "data": {
      "text/plain": [
       "2.375"
      ]
     },
     "metadata": {},
     "execution_count": 10
    }
   ],
   "source": [
    "Q1 = carros[\"EngineSize\"].quantile(0.25)\n",
    "Q1"
   ]
  },
  {
   "cell_type": "code",
   "execution_count": 11,
   "metadata": {},
   "outputs": [
    {
     "output_type": "execute_result",
     "data": {
      "text/plain": [
       "3.0"
      ]
     },
     "metadata": {},
     "execution_count": 11
    }
   ],
   "source": [
    "Q2 = carros['EngineSize'].quantile(0.50)\n",
    "Q2"
   ]
  },
  {
   "cell_type": "code",
   "execution_count": 12,
   "metadata": {},
   "outputs": [
    {
     "output_type": "execute_result",
     "data": {
      "text/plain": [
       "3.9"
      ]
     },
     "metadata": {},
     "execution_count": 12
    }
   ],
   "source": [
    "Q3 = carros['EngineSize'].quantile(0.75)\n",
    "Q3"
   ]
  },
  {
   "cell_type": "code",
   "execution_count": 13,
   "metadata": {},
   "outputs": [
    {
     "output_type": "execute_result",
     "data": {
      "text/plain": [
       "1.525"
      ]
     },
     "metadata": {},
     "execution_count": 13
    }
   ],
   "source": [
    "IQR = Q3 - Q1\n",
    "IQR"
   ]
  },
  {
   "cell_type": "code",
   "execution_count": 14,
   "metadata": {},
   "outputs": [
    {
     "output_type": "execute_result",
     "data": {
      "text/plain": [
       "0.08750000000000036"
      ]
     },
     "metadata": {},
     "execution_count": 14
    }
   ],
   "source": [
    "\n",
    "LI = Q1 - ( 1.5 * IQR)\n",
    "LI"
   ]
  },
  {
   "cell_type": "code",
   "execution_count": 15,
   "metadata": {},
   "outputs": [
    {
     "output_type": "execute_result",
     "data": {
      "text/plain": [
       "6.1875"
      ]
     },
     "metadata": {},
     "execution_count": 15
    }
   ],
   "source": [
    "LS = Q3 + ( 1.5 * IQR)\n",
    "LS"
   ]
  },
  {
   "cell_type": "code",
   "execution_count": 18,
   "metadata": {},
   "outputs": [
    {
     "output_type": "execute_result",
     "data": {
      "text/plain": [
       "<matplotlib.axes._subplots.AxesSubplot at 0x1f047cfc5c0>"
      ]
     },
     "metadata": {},
     "execution_count": 18
    },
    {
     "output_type": "display_data",
     "data": {
      "text/plain": "<Figure size 432x288 with 1 Axes>",
      "image/svg+xml": "<?xml version=\"1.0\" encoding=\"utf-8\" standalone=\"no\"?>\r\n<!DOCTYPE svg PUBLIC \"-//W3C//DTD SVG 1.1//EN\"\r\n  \"http://www.w3.org/Graphics/SVG/1.1/DTD/svg11.dtd\">\r\n<!-- Created with matplotlib (https://matplotlib.org/) -->\r\n<svg height=\"248.518125pt\" version=\"1.1\" viewBox=\"0 0 362.5625 248.518125\" width=\"362.5625pt\" xmlns=\"http://www.w3.org/2000/svg\" xmlns:xlink=\"http://www.w3.org/1999/xlink\">\r\n <defs>\r\n  <style type=\"text/css\">\r\n*{stroke-linecap:butt;stroke-linejoin:round;white-space:pre;}\r\n  </style>\r\n </defs>\r\n <g id=\"figure_1\">\r\n  <g id=\"patch_1\">\r\n   <path d=\"M 0 248.518125 \r\nL 362.5625 248.518125 \r\nL 362.5625 0 \r\nL 0 0 \r\nz\r\n\" style=\"fill:none;\"/>\r\n  </g>\r\n  <g id=\"axes_1\">\r\n   <g id=\"patch_2\">\r\n    <path d=\"M 20.5625 224.64 \r\nL 355.3625 224.64 \r\nL 355.3625 7.2 \r\nL 20.5625 7.2 \r\nz\r\n\" style=\"fill:#ffffff;\"/>\r\n   </g>\r\n   <g id=\"matplotlib.axis_1\">\r\n    <g id=\"xtick_1\">\r\n     <g id=\"line2d_1\">\r\n      <path clip-path=\"url(#p2597ff69ff)\" d=\"M 187.9625 224.64 \r\nL 187.9625 7.2 \r\n\" style=\"fill:none;stroke:#b0b0b0;stroke-linecap:square;stroke-width:0.8;\"/>\r\n     </g>\r\n     <g id=\"line2d_2\">\r\n      <defs>\r\n       <path d=\"M 0 0 \r\nL 0 3.5 \r\n\" id=\"m8107b6cb8f\" style=\"stroke:#000000;stroke-width:0.8;\"/>\r\n      </defs>\r\n      <g>\r\n       <use style=\"stroke:#000000;stroke-width:0.8;\" x=\"187.9625\" xlink:href=\"#m8107b6cb8f\" y=\"224.64\"/>\r\n      </g>\r\n     </g>\r\n     <g id=\"text_1\">\r\n      <!-- EngineSize -->\r\n      <defs>\r\n       <path d=\"M 9.8125 72.90625 \r\nL 55.90625 72.90625 \r\nL 55.90625 64.59375 \r\nL 19.671875 64.59375 \r\nL 19.671875 43.015625 \r\nL 54.390625 43.015625 \r\nL 54.390625 34.71875 \r\nL 19.671875 34.71875 \r\nL 19.671875 8.296875 \r\nL 56.78125 8.296875 \r\nL 56.78125 0 \r\nL 9.8125 0 \r\nz\r\n\" id=\"DejaVuSans-69\"/>\r\n       <path d=\"M 54.890625 33.015625 \r\nL 54.890625 0 \r\nL 45.90625 0 \r\nL 45.90625 32.71875 \r\nQ 45.90625 40.484375 42.875 44.328125 \r\nQ 39.84375 48.1875 33.796875 48.1875 \r\nQ 26.515625 48.1875 22.3125 43.546875 \r\nQ 18.109375 38.921875 18.109375 30.90625 \r\nL 18.109375 0 \r\nL 9.078125 0 \r\nL 9.078125 54.6875 \r\nL 18.109375 54.6875 \r\nL 18.109375 46.1875 \r\nQ 21.34375 51.125 25.703125 53.5625 \r\nQ 30.078125 56 35.796875 56 \r\nQ 45.21875 56 50.046875 50.171875 \r\nQ 54.890625 44.34375 54.890625 33.015625 \r\nz\r\n\" id=\"DejaVuSans-110\"/>\r\n       <path d=\"M 45.40625 27.984375 \r\nQ 45.40625 37.75 41.375 43.109375 \r\nQ 37.359375 48.484375 30.078125 48.484375 \r\nQ 22.859375 48.484375 18.828125 43.109375 \r\nQ 14.796875 37.75 14.796875 27.984375 \r\nQ 14.796875 18.265625 18.828125 12.890625 \r\nQ 22.859375 7.515625 30.078125 7.515625 \r\nQ 37.359375 7.515625 41.375 12.890625 \r\nQ 45.40625 18.265625 45.40625 27.984375 \r\nz\r\nM 54.390625 6.78125 \r\nQ 54.390625 -7.171875 48.1875 -13.984375 \r\nQ 42 -20.796875 29.203125 -20.796875 \r\nQ 24.46875 -20.796875 20.265625 -20.09375 \r\nQ 16.0625 -19.390625 12.109375 -17.921875 \r\nL 12.109375 -9.1875 \r\nQ 16.0625 -11.328125 19.921875 -12.34375 \r\nQ 23.78125 -13.375 27.78125 -13.375 \r\nQ 36.625 -13.375 41.015625 -8.765625 \r\nQ 45.40625 -4.15625 45.40625 5.171875 \r\nL 45.40625 9.625 \r\nQ 42.625 4.78125 38.28125 2.390625 \r\nQ 33.9375 0 27.875 0 \r\nQ 17.828125 0 11.671875 7.65625 \r\nQ 5.515625 15.328125 5.515625 27.984375 \r\nQ 5.515625 40.671875 11.671875 48.328125 \r\nQ 17.828125 56 27.875 56 \r\nQ 33.9375 56 38.28125 53.609375 \r\nQ 42.625 51.21875 45.40625 46.390625 \r\nL 45.40625 54.6875 \r\nL 54.390625 54.6875 \r\nz\r\n\" id=\"DejaVuSans-103\"/>\r\n       <path d=\"M 9.421875 54.6875 \r\nL 18.40625 54.6875 \r\nL 18.40625 0 \r\nL 9.421875 0 \r\nz\r\nM 9.421875 75.984375 \r\nL 18.40625 75.984375 \r\nL 18.40625 64.59375 \r\nL 9.421875 64.59375 \r\nz\r\n\" id=\"DejaVuSans-105\"/>\r\n       <path d=\"M 56.203125 29.59375 \r\nL 56.203125 25.203125 \r\nL 14.890625 25.203125 \r\nQ 15.484375 15.921875 20.484375 11.0625 \r\nQ 25.484375 6.203125 34.421875 6.203125 \r\nQ 39.59375 6.203125 44.453125 7.46875 \r\nQ 49.3125 8.734375 54.109375 11.28125 \r\nL 54.109375 2.78125 \r\nQ 49.265625 0.734375 44.1875 -0.34375 \r\nQ 39.109375 -1.421875 33.890625 -1.421875 \r\nQ 20.796875 -1.421875 13.15625 6.1875 \r\nQ 5.515625 13.8125 5.515625 26.8125 \r\nQ 5.515625 40.234375 12.765625 48.109375 \r\nQ 20.015625 56 32.328125 56 \r\nQ 43.359375 56 49.78125 48.890625 \r\nQ 56.203125 41.796875 56.203125 29.59375 \r\nz\r\nM 47.21875 32.234375 \r\nQ 47.125 39.59375 43.09375 43.984375 \r\nQ 39.0625 48.390625 32.421875 48.390625 \r\nQ 24.90625 48.390625 20.390625 44.140625 \r\nQ 15.875 39.890625 15.1875 32.171875 \r\nz\r\n\" id=\"DejaVuSans-101\"/>\r\n       <path d=\"M 53.515625 70.515625 \r\nL 53.515625 60.890625 \r\nQ 47.90625 63.578125 42.921875 64.890625 \r\nQ 37.9375 66.21875 33.296875 66.21875 \r\nQ 25.25 66.21875 20.875 63.09375 \r\nQ 16.5 59.96875 16.5 54.203125 \r\nQ 16.5 49.359375 19.40625 46.890625 \r\nQ 22.3125 44.4375 30.421875 42.921875 \r\nL 36.375 41.703125 \r\nQ 47.40625 39.59375 52.65625 34.296875 \r\nQ 57.90625 29 57.90625 20.125 \r\nQ 57.90625 9.515625 50.796875 4.046875 \r\nQ 43.703125 -1.421875 29.984375 -1.421875 \r\nQ 24.8125 -1.421875 18.96875 -0.25 \r\nQ 13.140625 0.921875 6.890625 3.21875 \r\nL 6.890625 13.375 \r\nQ 12.890625 10.015625 18.65625 8.296875 \r\nQ 24.421875 6.59375 29.984375 6.59375 \r\nQ 38.421875 6.59375 43.015625 9.90625 \r\nQ 47.609375 13.234375 47.609375 19.390625 \r\nQ 47.609375 24.75 44.3125 27.78125 \r\nQ 41.015625 30.8125 33.5 32.328125 \r\nL 27.484375 33.5 \r\nQ 16.453125 35.6875 11.515625 40.375 \r\nQ 6.59375 45.0625 6.59375 53.421875 \r\nQ 6.59375 63.09375 13.40625 68.65625 \r\nQ 20.21875 74.21875 32.171875 74.21875 \r\nQ 37.3125 74.21875 42.625 73.28125 \r\nQ 47.953125 72.359375 53.515625 70.515625 \r\nz\r\n\" id=\"DejaVuSans-83\"/>\r\n       <path d=\"M 5.515625 54.6875 \r\nL 48.1875 54.6875 \r\nL 48.1875 46.484375 \r\nL 14.40625 7.171875 \r\nL 48.1875 7.171875 \r\nL 48.1875 0 \r\nL 4.296875 0 \r\nL 4.296875 8.203125 \r\nL 38.09375 47.515625 \r\nL 5.515625 47.515625 \r\nz\r\n\" id=\"DejaVuSans-122\"/>\r\n      </defs>\r\n      <g transform=\"translate(160.561719 239.238437)scale(0.1 -0.1)\">\r\n       <use xlink:href=\"#DejaVuSans-69\"/>\r\n       <use x=\"63.183594\" xlink:href=\"#DejaVuSans-110\"/>\r\n       <use x=\"126.5625\" xlink:href=\"#DejaVuSans-103\"/>\r\n       <use x=\"190.039062\" xlink:href=\"#DejaVuSans-105\"/>\r\n       <use x=\"217.822266\" xlink:href=\"#DejaVuSans-110\"/>\r\n       <use x=\"281.201172\" xlink:href=\"#DejaVuSans-101\"/>\r\n       <use x=\"342.724609\" xlink:href=\"#DejaVuSans-83\"/>\r\n       <use x=\"406.201172\" xlink:href=\"#DejaVuSans-105\"/>\r\n       <use x=\"433.984375\" xlink:href=\"#DejaVuSans-122\"/>\r\n       <use x=\"486.474609\" xlink:href=\"#DejaVuSans-101\"/>\r\n      </g>\r\n     </g>\r\n    </g>\r\n   </g>\r\n   <g id=\"matplotlib.axis_2\">\r\n    <g id=\"ytick_1\">\r\n     <g id=\"line2d_3\">\r\n      <path clip-path=\"url(#p2597ff69ff)\" d=\"M 20.5625 223.228052 \r\nL 355.3625 223.228052 \r\n\" style=\"fill:none;stroke:#b0b0b0;stroke-linecap:square;stroke-width:0.8;\"/>\r\n     </g>\r\n     <g id=\"line2d_4\">\r\n      <defs>\r\n       <path d=\"M 0 0 \r\nL -3.5 0 \r\n\" id=\"m052f49125e\" style=\"stroke:#000000;stroke-width:0.8;\"/>\r\n      </defs>\r\n      <g>\r\n       <use style=\"stroke:#000000;stroke-width:0.8;\" x=\"20.5625\" xlink:href=\"#m052f49125e\" y=\"223.228052\"/>\r\n      </g>\r\n     </g>\r\n     <g id=\"text_2\">\r\n      <!-- 1 -->\r\n      <defs>\r\n       <path d=\"M 12.40625 8.296875 \r\nL 28.515625 8.296875 \r\nL 28.515625 63.921875 \r\nL 10.984375 60.40625 \r\nL 10.984375 69.390625 \r\nL 28.421875 72.90625 \r\nL 38.28125 72.90625 \r\nL 38.28125 8.296875 \r\nL 54.390625 8.296875 \r\nL 54.390625 0 \r\nL 12.40625 0 \r\nz\r\n\" id=\"DejaVuSans-49\"/>\r\n      </defs>\r\n      <g transform=\"translate(7.2 227.027271)scale(0.1 -0.1)\">\r\n       <use xlink:href=\"#DejaVuSans-49\"/>\r\n      </g>\r\n     </g>\r\n    </g>\r\n    <g id=\"ytick_2\">\r\n     <g id=\"line2d_5\">\r\n      <path clip-path=\"url(#p2597ff69ff)\" d=\"M 20.5625 194.989091 \r\nL 355.3625 194.989091 \r\n\" style=\"fill:none;stroke:#b0b0b0;stroke-linecap:square;stroke-width:0.8;\"/>\r\n     </g>\r\n     <g id=\"line2d_6\">\r\n      <g>\r\n       <use style=\"stroke:#000000;stroke-width:0.8;\" x=\"20.5625\" xlink:href=\"#m052f49125e\" y=\"194.989091\"/>\r\n      </g>\r\n     </g>\r\n     <g id=\"text_3\">\r\n      <!-- 2 -->\r\n      <defs>\r\n       <path d=\"M 19.1875 8.296875 \r\nL 53.609375 8.296875 \r\nL 53.609375 0 \r\nL 7.328125 0 \r\nL 7.328125 8.296875 \r\nQ 12.9375 14.109375 22.625 23.890625 \r\nQ 32.328125 33.6875 34.8125 36.53125 \r\nQ 39.546875 41.84375 41.421875 45.53125 \r\nQ 43.3125 49.21875 43.3125 52.78125 \r\nQ 43.3125 58.59375 39.234375 62.25 \r\nQ 35.15625 65.921875 28.609375 65.921875 \r\nQ 23.96875 65.921875 18.8125 64.3125 \r\nQ 13.671875 62.703125 7.8125 59.421875 \r\nL 7.8125 69.390625 \r\nQ 13.765625 71.78125 18.9375 73 \r\nQ 24.125 74.21875 28.421875 74.21875 \r\nQ 39.75 74.21875 46.484375 68.546875 \r\nQ 53.21875 62.890625 53.21875 53.421875 \r\nQ 53.21875 48.921875 51.53125 44.890625 \r\nQ 49.859375 40.875 45.40625 35.40625 \r\nQ 44.1875 33.984375 37.640625 27.21875 \r\nQ 31.109375 20.453125 19.1875 8.296875 \r\nz\r\n\" id=\"DejaVuSans-50\"/>\r\n      </defs>\r\n      <g transform=\"translate(7.2 198.78831)scale(0.1 -0.1)\">\r\n       <use xlink:href=\"#DejaVuSans-50\"/>\r\n      </g>\r\n     </g>\r\n    </g>\r\n    <g id=\"ytick_3\">\r\n     <g id=\"line2d_7\">\r\n      <path clip-path=\"url(#p2597ff69ff)\" d=\"M 20.5625 166.75013 \r\nL 355.3625 166.75013 \r\n\" style=\"fill:none;stroke:#b0b0b0;stroke-linecap:square;stroke-width:0.8;\"/>\r\n     </g>\r\n     <g id=\"line2d_8\">\r\n      <g>\r\n       <use style=\"stroke:#000000;stroke-width:0.8;\" x=\"20.5625\" xlink:href=\"#m052f49125e\" y=\"166.75013\"/>\r\n      </g>\r\n     </g>\r\n     <g id=\"text_4\">\r\n      <!-- 3 -->\r\n      <defs>\r\n       <path d=\"M 40.578125 39.3125 \r\nQ 47.65625 37.796875 51.625 33 \r\nQ 55.609375 28.21875 55.609375 21.1875 \r\nQ 55.609375 10.40625 48.1875 4.484375 \r\nQ 40.765625 -1.421875 27.09375 -1.421875 \r\nQ 22.515625 -1.421875 17.65625 -0.515625 \r\nQ 12.796875 0.390625 7.625 2.203125 \r\nL 7.625 11.71875 \r\nQ 11.71875 9.328125 16.59375 8.109375 \r\nQ 21.484375 6.890625 26.8125 6.890625 \r\nQ 36.078125 6.890625 40.9375 10.546875 \r\nQ 45.796875 14.203125 45.796875 21.1875 \r\nQ 45.796875 27.640625 41.28125 31.265625 \r\nQ 36.765625 34.90625 28.71875 34.90625 \r\nL 20.21875 34.90625 \r\nL 20.21875 43.015625 \r\nL 29.109375 43.015625 \r\nQ 36.375 43.015625 40.234375 45.921875 \r\nQ 44.09375 48.828125 44.09375 54.296875 \r\nQ 44.09375 59.90625 40.109375 62.90625 \r\nQ 36.140625 65.921875 28.71875 65.921875 \r\nQ 24.65625 65.921875 20.015625 65.03125 \r\nQ 15.375 64.15625 9.8125 62.3125 \r\nL 9.8125 71.09375 \r\nQ 15.4375 72.65625 20.34375 73.4375 \r\nQ 25.25 74.21875 29.59375 74.21875 \r\nQ 40.828125 74.21875 47.359375 69.109375 \r\nQ 53.90625 64.015625 53.90625 55.328125 \r\nQ 53.90625 49.265625 50.4375 45.09375 \r\nQ 46.96875 40.921875 40.578125 39.3125 \r\nz\r\n\" id=\"DejaVuSans-51\"/>\r\n      </defs>\r\n      <g transform=\"translate(7.2 170.549349)scale(0.1 -0.1)\">\r\n       <use xlink:href=\"#DejaVuSans-51\"/>\r\n      </g>\r\n     </g>\r\n    </g>\r\n    <g id=\"ytick_4\">\r\n     <g id=\"line2d_9\">\r\n      <path clip-path=\"url(#p2597ff69ff)\" d=\"M 20.5625 138.511169 \r\nL 355.3625 138.511169 \r\n\" style=\"fill:none;stroke:#b0b0b0;stroke-linecap:square;stroke-width:0.8;\"/>\r\n     </g>\r\n     <g id=\"line2d_10\">\r\n      <g>\r\n       <use style=\"stroke:#000000;stroke-width:0.8;\" x=\"20.5625\" xlink:href=\"#m052f49125e\" y=\"138.511169\"/>\r\n      </g>\r\n     </g>\r\n     <g id=\"text_5\">\r\n      <!-- 4 -->\r\n      <defs>\r\n       <path d=\"M 37.796875 64.3125 \r\nL 12.890625 25.390625 \r\nL 37.796875 25.390625 \r\nz\r\nM 35.203125 72.90625 \r\nL 47.609375 72.90625 \r\nL 47.609375 25.390625 \r\nL 58.015625 25.390625 \r\nL 58.015625 17.1875 \r\nL 47.609375 17.1875 \r\nL 47.609375 0 \r\nL 37.796875 0 \r\nL 37.796875 17.1875 \r\nL 4.890625 17.1875 \r\nL 4.890625 26.703125 \r\nz\r\n\" id=\"DejaVuSans-52\"/>\r\n      </defs>\r\n      <g transform=\"translate(7.2 142.310388)scale(0.1 -0.1)\">\r\n       <use xlink:href=\"#DejaVuSans-52\"/>\r\n      </g>\r\n     </g>\r\n    </g>\r\n    <g id=\"ytick_5\">\r\n     <g id=\"line2d_11\">\r\n      <path clip-path=\"url(#p2597ff69ff)\" d=\"M 20.5625 110.272208 \r\nL 355.3625 110.272208 \r\n\" style=\"fill:none;stroke:#b0b0b0;stroke-linecap:square;stroke-width:0.8;\"/>\r\n     </g>\r\n     <g id=\"line2d_12\">\r\n      <g>\r\n       <use style=\"stroke:#000000;stroke-width:0.8;\" x=\"20.5625\" xlink:href=\"#m052f49125e\" y=\"110.272208\"/>\r\n      </g>\r\n     </g>\r\n     <g id=\"text_6\">\r\n      <!-- 5 -->\r\n      <defs>\r\n       <path d=\"M 10.796875 72.90625 \r\nL 49.515625 72.90625 \r\nL 49.515625 64.59375 \r\nL 19.828125 64.59375 \r\nL 19.828125 46.734375 \r\nQ 21.96875 47.46875 24.109375 47.828125 \r\nQ 26.265625 48.1875 28.421875 48.1875 \r\nQ 40.625 48.1875 47.75 41.5 \r\nQ 54.890625 34.8125 54.890625 23.390625 \r\nQ 54.890625 11.625 47.5625 5.09375 \r\nQ 40.234375 -1.421875 26.90625 -1.421875 \r\nQ 22.3125 -1.421875 17.546875 -0.640625 \r\nQ 12.796875 0.140625 7.71875 1.703125 \r\nL 7.71875 11.625 \r\nQ 12.109375 9.234375 16.796875 8.0625 \r\nQ 21.484375 6.890625 26.703125 6.890625 \r\nQ 35.15625 6.890625 40.078125 11.328125 \r\nQ 45.015625 15.765625 45.015625 23.390625 \r\nQ 45.015625 31 40.078125 35.4375 \r\nQ 35.15625 39.890625 26.703125 39.890625 \r\nQ 22.75 39.890625 18.8125 39.015625 \r\nQ 14.890625 38.140625 10.796875 36.28125 \r\nz\r\n\" id=\"DejaVuSans-53\"/>\r\n      </defs>\r\n      <g transform=\"translate(7.2 114.071427)scale(0.1 -0.1)\">\r\n       <use xlink:href=\"#DejaVuSans-53\"/>\r\n      </g>\r\n     </g>\r\n    </g>\r\n    <g id=\"ytick_6\">\r\n     <g id=\"line2d_13\">\r\n      <path clip-path=\"url(#p2597ff69ff)\" d=\"M 20.5625 82.033247 \r\nL 355.3625 82.033247 \r\n\" style=\"fill:none;stroke:#b0b0b0;stroke-linecap:square;stroke-width:0.8;\"/>\r\n     </g>\r\n     <g id=\"line2d_14\">\r\n      <g>\r\n       <use style=\"stroke:#000000;stroke-width:0.8;\" x=\"20.5625\" xlink:href=\"#m052f49125e\" y=\"82.033247\"/>\r\n      </g>\r\n     </g>\r\n     <g id=\"text_7\">\r\n      <!-- 6 -->\r\n      <defs>\r\n       <path d=\"M 33.015625 40.375 \r\nQ 26.375 40.375 22.484375 35.828125 \r\nQ 18.609375 31.296875 18.609375 23.390625 \r\nQ 18.609375 15.53125 22.484375 10.953125 \r\nQ 26.375 6.390625 33.015625 6.390625 \r\nQ 39.65625 6.390625 43.53125 10.953125 \r\nQ 47.40625 15.53125 47.40625 23.390625 \r\nQ 47.40625 31.296875 43.53125 35.828125 \r\nQ 39.65625 40.375 33.015625 40.375 \r\nz\r\nM 52.59375 71.296875 \r\nL 52.59375 62.3125 \r\nQ 48.875 64.0625 45.09375 64.984375 \r\nQ 41.3125 65.921875 37.59375 65.921875 \r\nQ 27.828125 65.921875 22.671875 59.328125 \r\nQ 17.53125 52.734375 16.796875 39.40625 \r\nQ 19.671875 43.65625 24.015625 45.921875 \r\nQ 28.375 48.1875 33.59375 48.1875 \r\nQ 44.578125 48.1875 50.953125 41.515625 \r\nQ 57.328125 34.859375 57.328125 23.390625 \r\nQ 57.328125 12.15625 50.6875 5.359375 \r\nQ 44.046875 -1.421875 33.015625 -1.421875 \r\nQ 20.359375 -1.421875 13.671875 8.265625 \r\nQ 6.984375 17.96875 6.984375 36.375 \r\nQ 6.984375 53.65625 15.1875 63.9375 \r\nQ 23.390625 74.21875 37.203125 74.21875 \r\nQ 40.921875 74.21875 44.703125 73.484375 \r\nQ 48.484375 72.75 52.59375 71.296875 \r\nz\r\n\" id=\"DejaVuSans-54\"/>\r\n      </defs>\r\n      <g transform=\"translate(7.2 85.832466)scale(0.1 -0.1)\">\r\n       <use xlink:href=\"#DejaVuSans-54\"/>\r\n      </g>\r\n     </g>\r\n    </g>\r\n    <g id=\"ytick_7\">\r\n     <g id=\"line2d_15\">\r\n      <path clip-path=\"url(#p2597ff69ff)\" d=\"M 20.5625 53.794286 \r\nL 355.3625 53.794286 \r\n\" style=\"fill:none;stroke:#b0b0b0;stroke-linecap:square;stroke-width:0.8;\"/>\r\n     </g>\r\n     <g id=\"line2d_16\">\r\n      <g>\r\n       <use style=\"stroke:#000000;stroke-width:0.8;\" x=\"20.5625\" xlink:href=\"#m052f49125e\" y=\"53.794286\"/>\r\n      </g>\r\n     </g>\r\n     <g id=\"text_8\">\r\n      <!-- 7 -->\r\n      <defs>\r\n       <path d=\"M 8.203125 72.90625 \r\nL 55.078125 72.90625 \r\nL 55.078125 68.703125 \r\nL 28.609375 0 \r\nL 18.3125 0 \r\nL 43.21875 64.59375 \r\nL 8.203125 64.59375 \r\nz\r\n\" id=\"DejaVuSans-55\"/>\r\n      </defs>\r\n      <g transform=\"translate(7.2 57.593504)scale(0.1 -0.1)\">\r\n       <use xlink:href=\"#DejaVuSans-55\"/>\r\n      </g>\r\n     </g>\r\n    </g>\r\n    <g id=\"ytick_8\">\r\n     <g id=\"line2d_17\">\r\n      <path clip-path=\"url(#p2597ff69ff)\" d=\"M 20.5625 25.555325 \r\nL 355.3625 25.555325 \r\n\" style=\"fill:none;stroke:#b0b0b0;stroke-linecap:square;stroke-width:0.8;\"/>\r\n     </g>\r\n     <g id=\"line2d_18\">\r\n      <g>\r\n       <use style=\"stroke:#000000;stroke-width:0.8;\" x=\"20.5625\" xlink:href=\"#m052f49125e\" y=\"25.555325\"/>\r\n      </g>\r\n     </g>\r\n     <g id=\"text_9\">\r\n      <!-- 8 -->\r\n      <defs>\r\n       <path d=\"M 31.78125 34.625 \r\nQ 24.75 34.625 20.71875 30.859375 \r\nQ 16.703125 27.09375 16.703125 20.515625 \r\nQ 16.703125 13.921875 20.71875 10.15625 \r\nQ 24.75 6.390625 31.78125 6.390625 \r\nQ 38.8125 6.390625 42.859375 10.171875 \r\nQ 46.921875 13.96875 46.921875 20.515625 \r\nQ 46.921875 27.09375 42.890625 30.859375 \r\nQ 38.875 34.625 31.78125 34.625 \r\nz\r\nM 21.921875 38.8125 \r\nQ 15.578125 40.375 12.03125 44.71875 \r\nQ 8.5 49.078125 8.5 55.328125 \r\nQ 8.5 64.0625 14.71875 69.140625 \r\nQ 20.953125 74.21875 31.78125 74.21875 \r\nQ 42.671875 74.21875 48.875 69.140625 \r\nQ 55.078125 64.0625 55.078125 55.328125 \r\nQ 55.078125 49.078125 51.53125 44.71875 \r\nQ 48 40.375 41.703125 38.8125 \r\nQ 48.828125 37.15625 52.796875 32.3125 \r\nQ 56.78125 27.484375 56.78125 20.515625 \r\nQ 56.78125 9.90625 50.3125 4.234375 \r\nQ 43.84375 -1.421875 31.78125 -1.421875 \r\nQ 19.734375 -1.421875 13.25 4.234375 \r\nQ 6.78125 9.90625 6.78125 20.515625 \r\nQ 6.78125 27.484375 10.78125 32.3125 \r\nQ 14.796875 37.15625 21.921875 38.8125 \r\nz\r\nM 18.3125 54.390625 \r\nQ 18.3125 48.734375 21.84375 45.5625 \r\nQ 25.390625 42.390625 31.78125 42.390625 \r\nQ 38.140625 42.390625 41.71875 45.5625 \r\nQ 45.3125 48.734375 45.3125 54.390625 \r\nQ 45.3125 60.0625 41.71875 63.234375 \r\nQ 38.140625 66.40625 31.78125 66.40625 \r\nQ 25.390625 66.40625 21.84375 63.234375 \r\nQ 18.3125 60.0625 18.3125 54.390625 \r\nz\r\n\" id=\"DejaVuSans-56\"/>\r\n      </defs>\r\n      <g transform=\"translate(7.2 29.354543)scale(0.1 -0.1)\">\r\n       <use xlink:href=\"#DejaVuSans-56\"/>\r\n      </g>\r\n     </g>\r\n    </g>\r\n   </g>\r\n   <g id=\"line2d_19\">\r\n    <path clip-path=\"url(#p2597ff69ff)\" d=\"M 162.8525 184.399481 \r\nL 213.0725 184.399481 \r\nL 213.0725 141.335065 \r\nL 162.8525 141.335065 \r\nL 162.8525 184.399481 \r\n\" style=\"fill:none;stroke:#1f77b4;stroke-linecap:square;\"/>\r\n   </g>\r\n   <g id=\"line2d_20\">\r\n    <path clip-path=\"url(#p2597ff69ff)\" d=\"M 187.9625 184.399481 \r\nL 187.9625 214.756364 \r\n\" style=\"fill:none;stroke:#1f77b4;stroke-linecap:square;\"/>\r\n   </g>\r\n   <g id=\"line2d_21\">\r\n    <path clip-path=\"url(#p2597ff69ff)\" d=\"M 187.9625 141.335065 \r\nL 187.9625 82.033247 \r\n\" style=\"fill:none;stroke:#1f77b4;stroke-linecap:square;\"/>\r\n   </g>\r\n   <g id=\"line2d_22\">\r\n    <path clip-path=\"url(#p2597ff69ff)\" d=\"M 175.4075 214.756364 \r\nL 200.5175 214.756364 \r\n\" style=\"fill:none;stroke:#000000;stroke-linecap:square;\"/>\r\n   </g>\r\n   <g id=\"line2d_23\">\r\n    <path clip-path=\"url(#p2597ff69ff)\" d=\"M 175.4075 82.033247 \r\nL 200.5175 82.033247 \r\n\" style=\"fill:none;stroke:#000000;stroke-linecap:square;\"/>\r\n   </g>\r\n   <g id=\"line2d_24\">\r\n    <defs>\r\n     <path d=\"M 0 3 \r\nC 0.795609 3 1.55874 2.683901 2.12132 2.12132 \r\nC 2.683901 1.55874 3 0.795609 3 0 \r\nC 3 -0.795609 2.683901 -1.55874 2.12132 -2.12132 \r\nC 1.55874 -2.683901 0.795609 -3 0 -3 \r\nC -0.795609 -3 -1.55874 -2.683901 -2.12132 -2.12132 \r\nC -2.683901 -1.55874 -3 -0.795609 -3 0 \r\nC -3 0.795609 -2.683901 1.55874 -2.12132 2.12132 \r\nC -1.55874 2.683901 -0.795609 3 0 3 \r\nz\r\n\" id=\"m2bc9803709\" style=\"stroke:#000000;\"/>\r\n    </defs>\r\n    <g clip-path=\"url(#p2597ff69ff)\">\r\n     <use style=\"fill-opacity:0;stroke:#000000;\" x=\"187.9625\" xlink:href=\"#m2bc9803709\" y=\"17.083636\"/>\r\n     <use style=\"fill-opacity:0;stroke:#000000;\" x=\"187.9625\" xlink:href=\"#m2bc9803709\" y=\"59.442078\"/>\r\n    </g>\r\n   </g>\r\n   <g id=\"line2d_25\">\r\n    <path clip-path=\"url(#p2597ff69ff)\" d=\"M 162.8525 166.75013 \r\nL 213.0725 166.75013 \r\n\" style=\"fill:none;stroke:#2ca02c;stroke-linecap:square;\"/>\r\n   </g>\r\n   <g id=\"patch_3\">\r\n    <path d=\"M 20.5625 224.64 \r\nL 20.5625 7.2 \r\n\" style=\"fill:none;stroke:#000000;stroke-linecap:square;stroke-linejoin:miter;stroke-width:0.8;\"/>\r\n   </g>\r\n   <g id=\"patch_4\">\r\n    <path d=\"M 355.3625 224.64 \r\nL 355.3625 7.2 \r\n\" style=\"fill:none;stroke:#000000;stroke-linecap:square;stroke-linejoin:miter;stroke-width:0.8;\"/>\r\n   </g>\r\n   <g id=\"patch_5\">\r\n    <path d=\"M 20.5625 224.64 \r\nL 355.3625 224.64 \r\n\" style=\"fill:none;stroke:#000000;stroke-linecap:square;stroke-linejoin:miter;stroke-width:0.8;\"/>\r\n   </g>\r\n   <g id=\"patch_6\">\r\n    <path d=\"M 20.5625 7.2 \r\nL 355.3625 7.2 \r\n\" style=\"fill:none;stroke:#000000;stroke-linecap:square;stroke-linejoin:miter;stroke-width:0.8;\"/>\r\n   </g>\r\n  </g>\r\n </g>\r\n <defs>\r\n  <clipPath id=\"p2597ff69ff\">\r\n   <rect height=\"217.44\" width=\"334.8\" x=\"20.5625\" y=\"7.2\"/>\r\n  </clipPath>\r\n </defs>\r\n</svg>\r\n",
      "image/png": "[encoded data removed]"
     },
     "metadata": {
      "needs_background": "light"
     }
    }
   ],
   "source": [
    "carros.boxplot('EngineSize')\n"
   ]
  },
  {
   "cell_type": "code",
   "execution_count": null,
   "metadata": {},
   "outputs": [],
   "source": []
  }
 ]
}