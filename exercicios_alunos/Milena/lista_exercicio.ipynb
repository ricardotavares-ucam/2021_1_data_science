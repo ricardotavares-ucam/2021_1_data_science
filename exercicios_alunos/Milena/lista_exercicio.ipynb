{
 "metadata": {
  "language_info": {
   "codemirror_mode": {
    "name": "ipython",
    "version": 3
   },
   "file_extension": ".py",
   "mimetype": "text/x-python",
   "name": "python",
   "nbconvert_exporter": "python",
   "pygments_lexer": "ipython3",
   "version": "3.8.5-final"
  },
  "orig_nbformat": 2,
  "kernelspec": {
   "name": "python385jvsc74a57bd0c84871fe07fba6fb209bf5d0eaa15cdfeb3204a81f85f89dab671ee69e59d567",
   "display_name": "Python 3.8.5 32-bit (conda)"
  },
  "metadata": {
   "interpreter": {
    "hash": "c84871fe07fba6fb209bf5d0eaa15cdfeb3204a81f85f89dab671ee69e59d567"
   }
  }
 },
 "nbformat": 4,
 "nbformat_minor": 2,
 "cells": [
  {
   "cell_type": "code",
   "execution_count": 24,
   "metadata": {},
   "outputs": [
    {
     "output_type": "execute_result",
     "data": {
      "text/plain": [
       "   Idade\n",
       "0      4\n",
       "1     10\n",
       "2     20\n",
       "3     21\n",
       "4     26\n",
       "5     35\n",
       "6     48\n",
       "7     45\n",
       "8     49\n",
       "9     15\n",
       "10    11\n",
       "11    18\n",
       "12    17\n",
       "13     5\n",
       "14     2\n",
       "15    14\n",
       "16    88\n",
       "17    79\n",
       "18    55\n",
       "19    64\n",
       "20    47\n",
       "21    49"
      ],
      "text/html": "<div>\n<style scoped>\n    .dataframe tbody tr th:only-of-type {\n        vertical-align: middle;\n    }\n\n    .dataframe tbody tr th {\n        vertical-align: top;\n    }\n\n    .dataframe thead th {\n        text-align: right;\n    }\n</style>\n<table border=\"1\" class=\"dataframe\">\n  <thead>\n    <tr style=\"text-align: right;\">\n      <th></th>\n      <th>Idade</th>\n    </tr>\n  </thead>\n  <tbody>\n    <tr>\n      <th>0</th>\n      <td>4</td>\n    </tr>\n    <tr>\n      <th>1</th>\n      <td>10</td>\n    </tr>\n    <tr>\n      <th>2</th>\n      <td>20</td>\n    </tr>\n    <tr>\n      <th>3</th>\n      <td>21</td>\n    </tr>\n    <tr>\n      <th>4</th>\n      <td>26</td>\n    </tr>\n    <tr>\n      <th>5</th>\n      <td>35</td>\n    </tr>\n    <tr>\n      <th>6</th>\n      <td>48</td>\n    </tr>\n    <tr>\n      <th>7</th>\n      <td>45</td>\n    </tr>\n    <tr>\n      <th>8</th>\n      <td>49</td>\n    </tr>\n    <tr>\n      <th>9</th>\n      <td>15</td>\n    </tr>\n    <tr>\n      <th>10</th>\n      <td>11</td>\n    </tr>\n    <tr>\n      <th>11</th>\n      <td>18</td>\n    </tr>\n    <tr>\n      <th>12</th>\n      <td>17</td>\n    </tr>\n    <tr>\n      <th>13</th>\n      <td>5</td>\n    </tr>\n    <tr>\n      <th>14</th>\n      <td>2</td>\n    </tr>\n    <tr>\n      <th>15</th>\n      <td>14</td>\n    </tr>\n    <tr>\n      <th>16</th>\n      <td>88</td>\n    </tr>\n    <tr>\n      <th>17</th>\n      <td>79</td>\n    </tr>\n    <tr>\n      <th>18</th>\n      <td>55</td>\n    </tr>\n    <tr>\n      <th>19</th>\n      <td>64</td>\n    </tr>\n    <tr>\n      <th>20</th>\n      <td>47</td>\n    </tr>\n    <tr>\n      <th>21</th>\n      <td>49</td>\n    </tr>\n  </tbody>\n</table>\n</div>"
     },
     "metadata": {},
     "execution_count": 24
    }
   ],
   "source": [
    "import pandas as pd\n",
    "import matplotlib.pyplot as plt\n",
    "import seaborn as sns\n",
    "import numpy as np\n",
    "\n",
    "\n",
    "idades ={\"Idade\": ['4','10', '20', '21', '26', '35', '48', '45', '49', '15', '11', '18', '17', '5', '2', '14', '88', '79', '55', '64', '47', '49']}\n",
    "df=pd.DataFrame(idades)\n",
    "df\n",
    " "
   ]
  },
  {
   "cell_type": "code",
   "execution_count": 45,
   "metadata": {},
   "outputs": [],
   "source": [
    "df['Idade'] = df['Idade'].astype(int) "
   ]
  },
  {
   "cell_type": "code",
   "execution_count": 46,
   "metadata": {},
   "outputs": [
    {
     "output_type": "stream",
     "name": "stdout",
     "text": [
      "<class 'pandas.core.frame.DataFrame'>\nRangeIndex: 22 entries, 0 to 21\nData columns (total 1 columns):\n #   Column  Non-Null Count  Dtype\n---  ------  --------------  -----\n 0   Idade   22 non-null     int32\ndtypes: int32(1)\nmemory usage: 152.0 bytes\n"
     ]
    }
   ],
   "source": [
    "df.info()"
   ]
  },
  {
   "cell_type": "code",
   "execution_count": 27,
   "metadata": {},
   "outputs": [
    {
     "output_type": "stream",
     "name": "stdout",
     "text": [
      "Média: 32.82\nMediana: 23.50\nDesvio padrão: 24.68\nVariância: 609.20\nModa: 49.00\nAmplitude: 86.00\n"
     ]
    }
   ],
   "source": [
    " \n",
    "maior = max(df[\"Idade\"])\n",
    "menor = min(df[\"Idade\"])\n",
    "amplitude = maior-menor\n",
    "\n",
    "print(\"Média: {:0.2f}\".format(df['Idade'].mean()))\n",
    "print('Mediana: {:0.2f}'.format(df['Idade'].median()))\n",
    "print(\"Desvio padrão: {:0.2f}\".format(df['Idade'].std()))\n",
    "print('Variância: {:0.2F}'.format(df['Idade'].var()))\n",
    "print('Moda: {:0.2f}'.format(df['Idade'].mode().values[0]))\n",
    "print('Amplitude: {:0.2f}'.format(amplitude))\n",
    "\n",
    "\n"
   ]
  },
  {
   "cell_type": "code",
   "execution_count": 47,
   "metadata": {},
   "outputs": [
    {
     "output_type": "execute_result",
     "data": {
      "text/plain": [
       "    MES_ANO  VALOR_VENDA_MENSAL \n",
       "0   01/01/20    R$ 11.007.043.23\n",
       "1   01/02/20    R$ 10.931.711.78\n",
       "2   01/03/20    R$ 14.825.160.14\n",
       "3   01/04/20    R$ 13.858.179.77\n",
       "4   01/05/20    R$ 14.097.146.98\n",
       "5   01/06/20    R$ 15.114.495.86\n",
       "6   01/07/20    R$ 14.359.248.57\n",
       "7   01/08/20    R$ 15.094.411.39\n",
       "8   01/09/20    R$ 16.055.703.02\n",
       "9   01/10/20    R$ 15.990.863.10\n",
       "10  01/11/20    R$ 16.137.095.80\n",
       "11  01/12/20    R$ 18.409.089.37"
      ],
      "text/html": "<div>\n<style scoped>\n    .dataframe tbody tr th:only-of-type {\n        vertical-align: middle;\n    }\n\n    .dataframe tbody tr th {\n        vertical-align: top;\n    }\n\n    .dataframe thead th {\n        text-align: right;\n    }\n</style>\n<table border=\"1\" class=\"dataframe\">\n  <thead>\n    <tr style=\"text-align: right;\">\n      <th></th>\n      <th>MES_ANO</th>\n      <th>VALOR_VENDA_MENSAL</th>\n    </tr>\n  </thead>\n  <tbody>\n    <tr>\n      <th>0</th>\n      <td>01/01/20</td>\n      <td>R$ 11.007.043.23</td>\n    </tr>\n    <tr>\n      <th>1</th>\n      <td>01/02/20</td>\n      <td>R$ 10.931.711.78</td>\n    </tr>\n    <tr>\n      <th>2</th>\n      <td>01/03/20</td>\n      <td>R$ 14.825.160.14</td>\n    </tr>\n    <tr>\n      <th>3</th>\n      <td>01/04/20</td>\n      <td>R$ 13.858.179.77</td>\n    </tr>\n    <tr>\n      <th>4</th>\n      <td>01/05/20</td>\n      <td>R$ 14.097.146.98</td>\n    </tr>\n    <tr>\n      <th>5</th>\n      <td>01/06/20</td>\n      <td>R$ 15.114.495.86</td>\n    </tr>\n    <tr>\n      <th>6</th>\n      <td>01/07/20</td>\n      <td>R$ 14.359.248.57</td>\n    </tr>\n    <tr>\n      <th>7</th>\n      <td>01/08/20</td>\n      <td>R$ 15.094.411.39</td>\n    </tr>\n    <tr>\n      <th>8</th>\n      <td>01/09/20</td>\n      <td>R$ 16.055.703.02</td>\n    </tr>\n    <tr>\n      <th>9</th>\n      <td>01/10/20</td>\n      <td>R$ 15.990.863.10</td>\n    </tr>\n    <tr>\n      <th>10</th>\n      <td>01/11/20</td>\n      <td>R$ 16.137.095.80</td>\n    </tr>\n    <tr>\n      <th>11</th>\n      <td>01/12/20</td>\n      <td>R$ 18.409.089.37</td>\n    </tr>\n  </tbody>\n</table>\n</div>"
     },
     "metadata": {},
     "execution_count": 47
    }
   ],
   "source": [
    "vendas = pd.read_csv(\"vendas.csv\", sep=\",\")\n",
    "vendas\n"
   ]
  },
  {
   "cell_type": "code",
   "execution_count": 29,
   "metadata": {},
   "outputs": [
    {
     "output_type": "stream",
     "name": "stdout",
     "text": [
      "<class 'pandas.core.frame.DataFrame'>\nRangeIndex: 12 entries, 0 to 11\nData columns (total 2 columns):\n #   Column               Non-Null Count  Dtype \n---  ------               --------------  ----- \n 0   MES_ANO              12 non-null     object\n 1   VALOR_VENDA_MENSAL   12 non-null     object\ndtypes: object(2)\nmemory usage: 160.0+ bytes\n"
     ]
    }
   ],
   "source": [
    "vendas.info()"
   ]
  },
  {
   "cell_type": "code",
   "execution_count": 32,
   "metadata": {},
   "outputs": [
    {
     "output_type": "execute_result",
     "data": {
      "text/plain": [
       "        MES_ANO  VALOR_VENDA_MENSAL \n",
       "count         12                  12\n",
       "unique        12                  12\n",
       "top     01/02/20    R$ 13.858.179.77\n",
       "freq           1                   1"
      ],
      "text/html": "<div>\n<style scoped>\n    .dataframe tbody tr th:only-of-type {\n        vertical-align: middle;\n    }\n\n    .dataframe tbody tr th {\n        vertical-align: top;\n    }\n\n    .dataframe thead th {\n        text-align: right;\n    }\n</style>\n<table border=\"1\" class=\"dataframe\">\n  <thead>\n    <tr style=\"text-align: right;\">\n      <th></th>\n      <th>MES_ANO</th>\n      <th>VALOR_VENDA_MENSAL</th>\n    </tr>\n  </thead>\n  <tbody>\n    <tr>\n      <th>count</th>\n      <td>12</td>\n      <td>12</td>\n    </tr>\n    <tr>\n      <th>unique</th>\n      <td>12</td>\n      <td>12</td>\n    </tr>\n    <tr>\n      <th>top</th>\n      <td>01/02/20</td>\n      <td>R$ 13.858.179.77</td>\n    </tr>\n    <tr>\n      <th>freq</th>\n      <td>1</td>\n      <td>1</td>\n    </tr>\n  </tbody>\n</table>\n</div>"
     },
     "metadata": {},
     "execution_count": 32
    }
   ],
   "source": [
    "vendas.describe()"
   ]
  },
  {
   "cell_type": "code",
   "execution_count": 52,
   "metadata": {},
   "outputs": [],
   "source": [
    "def clean_prices(value):\n",
    "    vendas = r'([\\d,.]+)'\n",
    "    if value is None:        \n",
    "        return None\n",
    "    else:\n",
    "        value_extracted = re.findall(vendas, value)[0]\n",
    "        value_floated = vendas.replace('.','').replace(',','.')\n",
    "        return value_floated"
   ]
  },
  {
   "cell_type": "code",
   "execution_count": 53,
   "metadata": {},
   "outputs": [
    {
     "output_type": "error",
     "ename": "KeyError",
     "evalue": "'VALOR_VENDA_MENSAL'",
     "traceback": [
      "\u001b[1;31m---------------------------------------------------------------------------\u001b[0m",
      "\u001b[1;31mKeyError\u001b[0m                                  Traceback (most recent call last)",
      "\u001b[1;32m~\\anaconda3\\lib\\site-packages\\pandas\\core\\indexes\\base.py\u001b[0m in \u001b[0;36mget_loc\u001b[1;34m(self, key, method, tolerance)\u001b[0m\n\u001b[0;32m   2894\u001b[0m             \u001b[1;32mtry\u001b[0m\u001b[1;33m:\u001b[0m\u001b[1;33m\u001b[0m\u001b[1;33m\u001b[0m\u001b[0m\n\u001b[1;32m-> 2895\u001b[1;33m                 \u001b[1;32mreturn\u001b[0m \u001b[0mself\u001b[0m\u001b[1;33m.\u001b[0m\u001b[0m_engine\u001b[0m\u001b[1;33m.\u001b[0m\u001b[0mget_loc\u001b[0m\u001b[1;33m(\u001b[0m\u001b[0mcasted_key\u001b[0m\u001b[1;33m)\u001b[0m\u001b[1;33m\u001b[0m\u001b[1;33m\u001b[0m\u001b[0m\n\u001b[0m\u001b[0;32m   2896\u001b[0m             \u001b[1;32mexcept\u001b[0m \u001b[0mKeyError\u001b[0m \u001b[1;32mas\u001b[0m \u001b[0merr\u001b[0m\u001b[1;33m:\u001b[0m\u001b[1;33m\u001b[0m\u001b[1;33m\u001b[0m\u001b[0m\n",
      "\u001b[1;32mpandas\\_libs\\index.pyx\u001b[0m in \u001b[0;36mpandas._libs.index.IndexEngine.get_loc\u001b[1;34m()\u001b[0m\n",
      "\u001b[1;32mpandas\\_libs\\index.pyx\u001b[0m in \u001b[0;36mpandas._libs.index.IndexEngine.get_loc\u001b[1;34m()\u001b[0m\n",
      "\u001b[1;32mpandas\\_libs\\hashtable_class_helper.pxi\u001b[0m in \u001b[0;36mpandas._libs.hashtable.PyObjectHashTable.get_item\u001b[1;34m()\u001b[0m\n",
      "\u001b[1;32mpandas\\_libs\\hashtable_class_helper.pxi\u001b[0m in \u001b[0;36mpandas._libs.hashtable.PyObjectHashTable.get_item\u001b[1;34m()\u001b[0m\n",
      "\u001b[1;31mKeyError\u001b[0m: 'VALOR_VENDA_MENSAL'",
      "\nThe above exception was the direct cause of the following exception:\n",
      "\u001b[1;31mKeyError\u001b[0m                                  Traceback (most recent call last)",
      "\u001b[1;32m<ipython-input-53-82d24ea06583>\u001b[0m in \u001b[0;36m<module>\u001b[1;34m\u001b[0m\n\u001b[1;32m----> 1\u001b[1;33m \u001b[0mvendas\u001b[0m\u001b[1;33m[\u001b[0m\u001b[1;34m'VALOR_VENDA_MENSAL'\u001b[0m\u001b[1;33m]\u001b[0m \u001b[1;33m=\u001b[0m \u001b[0mvendas\u001b[0m\u001b[1;33m[\u001b[0m\u001b[1;34m'VALOR_VENDA_MENSAL'\u001b[0m\u001b[1;33m]\u001b[0m\u001b[1;33m.\u001b[0m\u001b[0mapply\u001b[0m\u001b[1;33m(\u001b[0m\u001b[1;32mlambda\u001b[0m \u001b[0mx\u001b[0m\u001b[1;33m:\u001b[0m \u001b[0mclean_prices\u001b[0m\u001b[1;33m(\u001b[0m\u001b[0mx\u001b[0m\u001b[1;33m)\u001b[0m\u001b[1;33m)\u001b[0m\u001b[1;33m\u001b[0m\u001b[1;33m\u001b[0m\u001b[0m\n\u001b[0m",
      "\u001b[1;32m~\\anaconda3\\lib\\site-packages\\pandas\\core\\frame.py\u001b[0m in \u001b[0;36m__getitem__\u001b[1;34m(self, key)\u001b[0m\n\u001b[0;32m   2900\u001b[0m             \u001b[1;32mif\u001b[0m \u001b[0mself\u001b[0m\u001b[1;33m.\u001b[0m\u001b[0mcolumns\u001b[0m\u001b[1;33m.\u001b[0m\u001b[0mnlevels\u001b[0m \u001b[1;33m>\u001b[0m \u001b[1;36m1\u001b[0m\u001b[1;33m:\u001b[0m\u001b[1;33m\u001b[0m\u001b[1;33m\u001b[0m\u001b[0m\n\u001b[0;32m   2901\u001b[0m                 \u001b[1;32mreturn\u001b[0m \u001b[0mself\u001b[0m\u001b[1;33m.\u001b[0m\u001b[0m_getitem_multilevel\u001b[0m\u001b[1;33m(\u001b[0m\u001b[0mkey\u001b[0m\u001b[1;33m)\u001b[0m\u001b[1;33m\u001b[0m\u001b[1;33m\u001b[0m\u001b[0m\n\u001b[1;32m-> 2902\u001b[1;33m             \u001b[0mindexer\u001b[0m \u001b[1;33m=\u001b[0m \u001b[0mself\u001b[0m\u001b[1;33m.\u001b[0m\u001b[0mcolumns\u001b[0m\u001b[1;33m.\u001b[0m\u001b[0mget_loc\u001b[0m\u001b[1;33m(\u001b[0m\u001b[0mkey\u001b[0m\u001b[1;33m)\u001b[0m\u001b[1;33m\u001b[0m\u001b[1;33m\u001b[0m\u001b[0m\n\u001b[0m\u001b[0;32m   2903\u001b[0m             \u001b[1;32mif\u001b[0m \u001b[0mis_integer\u001b[0m\u001b[1;33m(\u001b[0m\u001b[0mindexer\u001b[0m\u001b[1;33m)\u001b[0m\u001b[1;33m:\u001b[0m\u001b[1;33m\u001b[0m\u001b[1;33m\u001b[0m\u001b[0m\n\u001b[0;32m   2904\u001b[0m                 \u001b[0mindexer\u001b[0m \u001b[1;33m=\u001b[0m \u001b[1;33m[\u001b[0m\u001b[0mindexer\u001b[0m\u001b[1;33m]\u001b[0m\u001b[1;33m\u001b[0m\u001b[1;33m\u001b[0m\u001b[0m\n",
      "\u001b[1;32m~\\anaconda3\\lib\\site-packages\\pandas\\core\\indexes\\base.py\u001b[0m in \u001b[0;36mget_loc\u001b[1;34m(self, key, method, tolerance)\u001b[0m\n\u001b[0;32m   2895\u001b[0m                 \u001b[1;32mreturn\u001b[0m \u001b[0mself\u001b[0m\u001b[1;33m.\u001b[0m\u001b[0m_engine\u001b[0m\u001b[1;33m.\u001b[0m\u001b[0mget_loc\u001b[0m\u001b[1;33m(\u001b[0m\u001b[0mcasted_key\u001b[0m\u001b[1;33m)\u001b[0m\u001b[1;33m\u001b[0m\u001b[1;33m\u001b[0m\u001b[0m\n\u001b[0;32m   2896\u001b[0m             \u001b[1;32mexcept\u001b[0m \u001b[0mKeyError\u001b[0m \u001b[1;32mas\u001b[0m \u001b[0merr\u001b[0m\u001b[1;33m:\u001b[0m\u001b[1;33m\u001b[0m\u001b[1;33m\u001b[0m\u001b[0m\n\u001b[1;32m-> 2897\u001b[1;33m                 \u001b[1;32mraise\u001b[0m \u001b[0mKeyError\u001b[0m\u001b[1;33m(\u001b[0m\u001b[0mkey\u001b[0m\u001b[1;33m)\u001b[0m \u001b[1;32mfrom\u001b[0m \u001b[0merr\u001b[0m\u001b[1;33m\u001b[0m\u001b[1;33m\u001b[0m\u001b[0m\n\u001b[0m\u001b[0;32m   2898\u001b[0m \u001b[1;33m\u001b[0m\u001b[0m\n\u001b[0;32m   2899\u001b[0m         \u001b[1;32mif\u001b[0m \u001b[0mtolerance\u001b[0m \u001b[1;32mis\u001b[0m \u001b[1;32mnot\u001b[0m \u001b[1;32mNone\u001b[0m\u001b[1;33m:\u001b[0m\u001b[1;33m\u001b[0m\u001b[1;33m\u001b[0m\u001b[0m\n",
      "\u001b[1;31mKeyError\u001b[0m: 'VALOR_VENDA_MENSAL'"
     ]
    }
   ],
   "source": [
    "vendas['VALOR_VENDA_MENSAL'] = vendas['VALOR_VENDA_MENSAL'].apply(lambda x: clean_prices(x))"
   ]
  },
  {
   "cell_type": "code",
   "execution_count": null,
   "metadata": {},
   "outputs": [],
   "source": []
  }
 ]
}