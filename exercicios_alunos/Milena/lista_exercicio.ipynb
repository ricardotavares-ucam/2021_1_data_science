{
 "metadata": {
  "language_info": {
   "codemirror_mode": {
    "name": "ipython",
    "version": 3
   },
   "file_extension": ".py",
   "mimetype": "text/x-python",
   "name": "python",
   "nbconvert_exporter": "python",
   "pygments_lexer": "ipython3",
   "version": "3.7.3-final"
  },
  "orig_nbformat": 2,
  "kernelspec": {
   "name": "python373jvsc74a57bd097ae724bfa85b9b34df7982b8bb8c7216f435b92902d749e4263f71162bea840",
   "display_name": "Python 3.7.3 64-bit (conda)"
  }
 },
 "nbformat": 4,
 "nbformat_minor": 2,
 "cells": [
  {
   "cell_type": "code",
   "execution_count": 114,
   "metadata": {},
   "outputs": [
    {
     "output_type": "execute_result",
     "data": {
      "text/plain": [
       "   Idade\n",
       "0      4\n",
       "1     10\n",
       "2     20\n",
       "3     21\n",
       "4     26\n",
       "5     35\n",
       "6     48\n",
       "7     45\n",
       "8     49\n",
       "9     15\n",
       "10    11\n",
       "11    18\n",
       "12    17\n",
       "13     5\n",
       "14     2\n",
       "15    14\n",
       "16    88\n",
       "17    79\n",
       "18    55\n",
       "19    64\n",
       "20    47\n",
       "21    49"
      ],
      "text/html": "<div>\n<style scoped>\n    .dataframe tbody tr th:only-of-type {\n        vertical-align: middle;\n    }\n\n    .dataframe tbody tr th {\n        vertical-align: top;\n    }\n\n    .dataframe thead th {\n        text-align: right;\n    }\n</style>\n<table border=\"1\" class=\"dataframe\">\n  <thead>\n    <tr style=\"text-align: right;\">\n      <th></th>\n      <th>Idade</th>\n    </tr>\n  </thead>\n  <tbody>\n    <tr>\n      <th>0</th>\n      <td>4</td>\n    </tr>\n    <tr>\n      <th>1</th>\n      <td>10</td>\n    </tr>\n    <tr>\n      <th>2</th>\n      <td>20</td>\n    </tr>\n    <tr>\n      <th>3</th>\n      <td>21</td>\n    </tr>\n    <tr>\n      <th>4</th>\n      <td>26</td>\n    </tr>\n    <tr>\n      <th>5</th>\n      <td>35</td>\n    </tr>\n    <tr>\n      <th>6</th>\n      <td>48</td>\n    </tr>\n    <tr>\n      <th>7</th>\n      <td>45</td>\n    </tr>\n    <tr>\n      <th>8</th>\n      <td>49</td>\n    </tr>\n    <tr>\n      <th>9</th>\n      <td>15</td>\n    </tr>\n    <tr>\n      <th>10</th>\n      <td>11</td>\n    </tr>\n    <tr>\n      <th>11</th>\n      <td>18</td>\n    </tr>\n    <tr>\n      <th>12</th>\n      <td>17</td>\n    </tr>\n    <tr>\n      <th>13</th>\n      <td>5</td>\n    </tr>\n    <tr>\n      <th>14</th>\n      <td>2</td>\n    </tr>\n    <tr>\n      <th>15</th>\n      <td>14</td>\n    </tr>\n    <tr>\n      <th>16</th>\n      <td>88</td>\n    </tr>\n    <tr>\n      <th>17</th>\n      <td>79</td>\n    </tr>\n    <tr>\n      <th>18</th>\n      <td>55</td>\n    </tr>\n    <tr>\n      <th>19</th>\n      <td>64</td>\n    </tr>\n    <tr>\n      <th>20</th>\n      <td>47</td>\n    </tr>\n    <tr>\n      <th>21</th>\n      <td>49</td>\n    </tr>\n  </tbody>\n</table>\n</div>"
     },
     "metadata": {},
     "execution_count": 114
    }
   ],
   "source": [
    "import pandas as pd\n",
    "import matplotlib.pyplot as plt\n",
    "import seaborn as sns\n",
    "import numpy as np\n",
    "\n",
    "\n",
    "idades ={\"Idade\": ['4','10', '20', '21', '26', '35', '48', '45', '49', '15', '11', '18', '17', '5', '2', '14', '88', '79', '55', '64', '47', '49']}\n",
    "df=pd.DataFrame(idades)\n",
    "df\n",
    " "
   ]
  },
  {
   "cell_type": "code",
   "execution_count": 115,
   "metadata": {},
   "outputs": [],
   "source": [
    "#dados['idade'] = dados.to_numeric(dados['idades'], errors='coerce')\n",
    "df['Idade']=df['Idade'].astype(int)"
   ]
  },
  {
   "cell_type": "code",
   "execution_count": 116,
   "metadata": {},
   "outputs": [
    {
     "output_type": "stream",
     "name": "stdout",
     "text": [
      "<class 'pandas.core.frame.DataFrame'>\nRangeIndex: 22 entries, 0 to 21\nData columns (total 1 columns):\nIdade    22 non-null int32\ndtypes: int32(1)\nmemory usage: 168.0 bytes\n"
     ]
    }
   ],
   "source": [
    "df.info()"
   ]
  },
  {
   "cell_type": "code",
   "execution_count": 121,
   "metadata": {},
   "outputs": [
    {
     "output_type": "stream",
     "name": "stdout",
     "text": [
      "Média: 32.82\nMediana: 23.50\nDesvio padrão: 24.68\nVariância: 609.20\nModa: 49.00\n"
     ]
    }
   ],
   "source": [
    "print(\"Média: {:0.2f}\".format(df['Idade'].mean()))\n",
    "print('Mediana: {:0.2f}'.format(df['Idade'].median()))\n",
    "print(\"Desvio padrão: {:0.2f}\".format(df['Idade'].std()))\n",
    "print('Variância: {:0.2F}'.format(df['Idade'].var()))\n",
    "print('Moda: {:0.2f}'.format(df['Idade'].mode().values[0]))\n",
    "\n"
   ]
  },
  {
   "cell_type": "code",
   "execution_count": null,
   "metadata": {},
   "outputs": [],
   "source": []
  }
 ]
}