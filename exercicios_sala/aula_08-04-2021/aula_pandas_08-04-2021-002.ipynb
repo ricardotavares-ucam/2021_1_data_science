{
 "metadata": {
  "language_info": {
   "codemirror_mode": {
    "name": "ipython",
    "version": 3
   },
   "file_extension": ".py",
   "mimetype": "text/x-python",
   "name": "python",
   "nbconvert_exporter": "python",
   "pygments_lexer": "ipython3",
   "version": "3.8.5-final"
  },
  "orig_nbformat": 2,
  "kernelspec": {
   "name": "python385jvsc74a57bd02dbb46e0973564b1bd352b07c19f8549ceccd34497c9cf7cd1d040d62a0f2a0f",
   "display_name": "Python 3.8.5 64-bit ('dissertacao': conda)"
  }
 },
 "nbformat": 4,
 "nbformat_minor": 2,
 "cells": [
  {
   "cell_type": "code",
   "execution_count": 36,
   "metadata": {},
   "outputs": [],
   "source": [
    "import pandas as pd\n",
    "import numpy as np\n",
    "import matplotlib.pyplot as plt \n",
    "import matplotlib.colors as mcolors\n",
    "import seaborn as sns\n",
    "import os\n",
    "import json\n",
    "import re\n",
    "pd.options.display.float_format = \"{:.2f}\".format\n",
    "import warnings\n",
    "warnings.filterwarnings(\"ignore\")"
   ]
  },
  {
   "cell_type": "code",
   "execution_count": 37,
   "metadata": {},
   "outputs": [
    {
     "output_type": "execute_result",
     "data": {
      "text/plain": [
       "'c:\\\\Users\\\\ricka\\\\Dropbox\\\\Candido Mendes\\\\2021-1\\\\Presencial\\\\Data Science\\\\Aulas\\\\pratica\\\\aula_08-04-2021'"
      ]
     },
     "metadata": {},
     "execution_count": 37
    }
   ],
   "source": [
    "os.getcwd()"
   ]
  },
  {
   "cell_type": "code",
   "execution_count": 38,
   "metadata": {},
   "outputs": [],
   "source": [
    "df_raw_file = os.path.join(os.getcwd(), 'df_raw.json')\n",
    "if os.path.isfile(df_raw_file):\n",
    "    try:\n",
    "        df_raw = pd.read_json(df_raw_file, orient='records')\n",
    "    except Exception as e:\n",
    "        print('Reading Error: ', e)\n",
    "else:\n",
    "    print('File not exists')"
   ]
  },
  {
   "cell_type": "code",
   "execution_count": 39,
   "metadata": {},
   "outputs": [],
   "source": [
    "df_raw_subset = df_raw[['sales_price','area','bedrooms','bathrooms','garage','tax','zip_code']]"
   ]
  },
  {
   "cell_type": "code",
   "execution_count": 40,
   "metadata": {},
   "outputs": [
    {
     "output_type": "execute_result",
     "data": {
      "text/plain": [
       "     sales_price   area bedrooms bathrooms  garage       tax  zip_code\n",
       "0     R$ 610.000   50m²        1         1    0.00    R$ 390  22250210\n",
       "1   R$ 1.020.000   74m²        2         2    1.00      None  22260040\n",
       "2   R$ 1.735.000   93m²        3         1    1.00  R$ 1.371  22280110\n",
       "3     R$ 800.000   88m²        3         1    0.00    R$ 440  22260140\n",
       "4     R$ 229.000   23m²     None         1    0.00    R$ 540  22250040\n",
       "5   R$ 1.350.057  114m²        3         3    2.00  R$ 1.400  22260100\n",
       "6   R$ 1.250.000   79m²        3         1    1.00    R$ 873  22281033\n",
       "7   R$ 2.100.000  308m²        3         2    1.00    R$ 800  22251040\n",
       "8     R$ 350.000   21m²     None         1    0.00    R$ 350  22250040\n",
       "9   R$ 1.938.000  132m²        3         4    2.00      R$ 0  22280020\n",
       "10    R$ 395.000   25m²        1         1    0.00    R$ 450  22250040\n",
       "11  R$ 2.190.000  200m²        3         0    2.00  R$ 2.116  22280020\n",
       "12  R$ 1.150.000   60m²        2         1    1.00  R$ 1.280  22290010\n",
       "13    R$ 890.000  130m²        3         2    1.00  R$ 1.790  22251090\n",
       "14  R$ 2.017.900  112m²        3         1    1.00      None  22270010"
      ],
      "text/html": "<div>\n<style scoped>\n    .dataframe tbody tr th:only-of-type {\n        vertical-align: middle;\n    }\n\n    .dataframe tbody tr th {\n        vertical-align: top;\n    }\n\n    .dataframe thead th {\n        text-align: right;\n    }\n</style>\n<table border=\"1\" class=\"dataframe\">\n  <thead>\n    <tr style=\"text-align: right;\">\n      <th></th>\n      <th>sales_price</th>\n      <th>area</th>\n      <th>bedrooms</th>\n      <th>bathrooms</th>\n      <th>garage</th>\n      <th>tax</th>\n      <th>zip_code</th>\n    </tr>\n  </thead>\n  <tbody>\n    <tr>\n      <th>0</th>\n      <td>R$ 610.000</td>\n      <td>50m²</td>\n      <td>1</td>\n      <td>1</td>\n      <td>0.00</td>\n      <td>R$ 390</td>\n      <td>22250210</td>\n    </tr>\n    <tr>\n      <th>1</th>\n      <td>R$ 1.020.000</td>\n      <td>74m²</td>\n      <td>2</td>\n      <td>2</td>\n      <td>1.00</td>\n      <td>None</td>\n      <td>22260040</td>\n    </tr>\n    <tr>\n      <th>2</th>\n      <td>R$ 1.735.000</td>\n      <td>93m²</td>\n      <td>3</td>\n      <td>1</td>\n      <td>1.00</td>\n      <td>R$ 1.371</td>\n      <td>22280110</td>\n    </tr>\n    <tr>\n      <th>3</th>\n      <td>R$ 800.000</td>\n      <td>88m²</td>\n      <td>3</td>\n      <td>1</td>\n      <td>0.00</td>\n      <td>R$ 440</td>\n      <td>22260140</td>\n    </tr>\n    <tr>\n      <th>4</th>\n      <td>R$ 229.000</td>\n      <td>23m²</td>\n      <td>None</td>\n      <td>1</td>\n      <td>0.00</td>\n      <td>R$ 540</td>\n      <td>22250040</td>\n    </tr>\n    <tr>\n      <th>5</th>\n      <td>R$ 1.350.057</td>\n      <td>114m²</td>\n      <td>3</td>\n      <td>3</td>\n      <td>2.00</td>\n      <td>R$ 1.400</td>\n      <td>22260100</td>\n    </tr>\n    <tr>\n      <th>6</th>\n      <td>R$ 1.250.000</td>\n      <td>79m²</td>\n      <td>3</td>\n      <td>1</td>\n      <td>1.00</td>\n      <td>R$ 873</td>\n      <td>22281033</td>\n    </tr>\n    <tr>\n      <th>7</th>\n      <td>R$ 2.100.000</td>\n      <td>308m²</td>\n      <td>3</td>\n      <td>2</td>\n      <td>1.00</td>\n      <td>R$ 800</td>\n      <td>22251040</td>\n    </tr>\n    <tr>\n      <th>8</th>\n      <td>R$ 350.000</td>\n      <td>21m²</td>\n      <td>None</td>\n      <td>1</td>\n      <td>0.00</td>\n      <td>R$ 350</td>\n      <td>22250040</td>\n    </tr>\n    <tr>\n      <th>9</th>\n      <td>R$ 1.938.000</td>\n      <td>132m²</td>\n      <td>3</td>\n      <td>4</td>\n      <td>2.00</td>\n      <td>R$ 0</td>\n      <td>22280020</td>\n    </tr>\n    <tr>\n      <th>10</th>\n      <td>R$ 395.000</td>\n      <td>25m²</td>\n      <td>1</td>\n      <td>1</td>\n      <td>0.00</td>\n      <td>R$ 450</td>\n      <td>22250040</td>\n    </tr>\n    <tr>\n      <th>11</th>\n      <td>R$ 2.190.000</td>\n      <td>200m²</td>\n      <td>3</td>\n      <td>0</td>\n      <td>2.00</td>\n      <td>R$ 2.116</td>\n      <td>22280020</td>\n    </tr>\n    <tr>\n      <th>12</th>\n      <td>R$ 1.150.000</td>\n      <td>60m²</td>\n      <td>2</td>\n      <td>1</td>\n      <td>1.00</td>\n      <td>R$ 1.280</td>\n      <td>22290010</td>\n    </tr>\n    <tr>\n      <th>13</th>\n      <td>R$ 890.000</td>\n      <td>130m²</td>\n      <td>3</td>\n      <td>2</td>\n      <td>1.00</td>\n      <td>R$ 1.790</td>\n      <td>22251090</td>\n    </tr>\n    <tr>\n      <th>14</th>\n      <td>R$ 2.017.900</td>\n      <td>112m²</td>\n      <td>3</td>\n      <td>1</td>\n      <td>1.00</td>\n      <td>None</td>\n      <td>22270010</td>\n    </tr>\n  </tbody>\n</table>\n</div>"
     },
     "metadata": {},
     "execution_count": 40
    }
   ],
   "source": [
    "df_raw_subset.head(15)"
   ]
  },
  {
   "cell_type": "code",
   "execution_count": 41,
   "metadata": {},
   "outputs": [
    {
     "output_type": "execute_result",
     "data": {
      "text/plain": [
       "       sales_price   area bedrooms bathrooms  garage       tax  zip_code\n",
       "2901    R$ 580.000   69m²        2         1     NaN    R$ 790  22250040\n",
       "2902  R$ 1.200.000  105m²        3         2    1.00  R$ 1.250  22260001\n",
       "2903  R$ 1.968.000  112m²        3         2    1.00      None  22270010\n",
       "2904    R$ 950.000   77m²        2         1    1.00  R$ 1.010  22270016\n",
       "2905    R$ 994.000   66m²        2         1    0.00    R$ 700  22280004\n",
       "2906    R$ 610.000   50m²        1         1    0.00    R$ 500  22250210\n",
       "2907  R$ 1.300.000  110m²        2         2    1.00    R$ 980  22260007\n",
       "2908    R$ 525.000   40m²        1         1    0.00    R$ 550  22280110\n",
       "2909    R$ 850.000   83m²        3         0    1.00    R$ 776  22251090\n",
       "2910    R$ 850.000   85m²        2         1    0.00    R$ 850  22270005\n",
       "2911  R$ 1.210.000   95m²        3         1    1.00      R$ 1  22271100\n",
       "2912  R$ 1.900.000  143m²        3         2    1.00  R$ 1.422  22250040\n",
       "2913    R$ 599.000   50m²        2         1     NaN    R$ 800  22281036\n",
       "2914  R$ 1.012.000   66m²        2         1    1.00      None  22281034\n",
       "2915  R$ 1.860.000  116m²        3         3    1.00      None  22270010"
      ],
      "text/html": "<div>\n<style scoped>\n    .dataframe tbody tr th:only-of-type {\n        vertical-align: middle;\n    }\n\n    .dataframe tbody tr th {\n        vertical-align: top;\n    }\n\n    .dataframe thead th {\n        text-align: right;\n    }\n</style>\n<table border=\"1\" class=\"dataframe\">\n  <thead>\n    <tr style=\"text-align: right;\">\n      <th></th>\n      <th>sales_price</th>\n      <th>area</th>\n      <th>bedrooms</th>\n      <th>bathrooms</th>\n      <th>garage</th>\n      <th>tax</th>\n      <th>zip_code</th>\n    </tr>\n  </thead>\n  <tbody>\n    <tr>\n      <th>2901</th>\n      <td>R$ 580.000</td>\n      <td>69m²</td>\n      <td>2</td>\n      <td>1</td>\n      <td>NaN</td>\n      <td>R$ 790</td>\n      <td>22250040</td>\n    </tr>\n    <tr>\n      <th>2902</th>\n      <td>R$ 1.200.000</td>\n      <td>105m²</td>\n      <td>3</td>\n      <td>2</td>\n      <td>1.00</td>\n      <td>R$ 1.250</td>\n      <td>22260001</td>\n    </tr>\n    <tr>\n      <th>2903</th>\n      <td>R$ 1.968.000</td>\n      <td>112m²</td>\n      <td>3</td>\n      <td>2</td>\n      <td>1.00</td>\n      <td>None</td>\n      <td>22270010</td>\n    </tr>\n    <tr>\n      <th>2904</th>\n      <td>R$ 950.000</td>\n      <td>77m²</td>\n      <td>2</td>\n      <td>1</td>\n      <td>1.00</td>\n      <td>R$ 1.010</td>\n      <td>22270016</td>\n    </tr>\n    <tr>\n      <th>2905</th>\n      <td>R$ 994.000</td>\n      <td>66m²</td>\n      <td>2</td>\n      <td>1</td>\n      <td>0.00</td>\n      <td>R$ 700</td>\n      <td>22280004</td>\n    </tr>\n    <tr>\n      <th>2906</th>\n      <td>R$ 610.000</td>\n      <td>50m²</td>\n      <td>1</td>\n      <td>1</td>\n      <td>0.00</td>\n      <td>R$ 500</td>\n      <td>22250210</td>\n    </tr>\n    <tr>\n      <th>2907</th>\n      <td>R$ 1.300.000</td>\n      <td>110m²</td>\n      <td>2</td>\n      <td>2</td>\n      <td>1.00</td>\n      <td>R$ 980</td>\n      <td>22260007</td>\n    </tr>\n    <tr>\n      <th>2908</th>\n      <td>R$ 525.000</td>\n      <td>40m²</td>\n      <td>1</td>\n      <td>1</td>\n      <td>0.00</td>\n      <td>R$ 550</td>\n      <td>22280110</td>\n    </tr>\n    <tr>\n      <th>2909</th>\n      <td>R$ 850.000</td>\n      <td>83m²</td>\n      <td>3</td>\n      <td>0</td>\n      <td>1.00</td>\n      <td>R$ 776</td>\n      <td>22251090</td>\n    </tr>\n    <tr>\n      <th>2910</th>\n      <td>R$ 850.000</td>\n      <td>85m²</td>\n      <td>2</td>\n      <td>1</td>\n      <td>0.00</td>\n      <td>R$ 850</td>\n      <td>22270005</td>\n    </tr>\n    <tr>\n      <th>2911</th>\n      <td>R$ 1.210.000</td>\n      <td>95m²</td>\n      <td>3</td>\n      <td>1</td>\n      <td>1.00</td>\n      <td>R$ 1</td>\n      <td>22271100</td>\n    </tr>\n    <tr>\n      <th>2912</th>\n      <td>R$ 1.900.000</td>\n      <td>143m²</td>\n      <td>3</td>\n      <td>2</td>\n      <td>1.00</td>\n      <td>R$ 1.422</td>\n      <td>22250040</td>\n    </tr>\n    <tr>\n      <th>2913</th>\n      <td>R$ 599.000</td>\n      <td>50m²</td>\n      <td>2</td>\n      <td>1</td>\n      <td>NaN</td>\n      <td>R$ 800</td>\n      <td>22281036</td>\n    </tr>\n    <tr>\n      <th>2914</th>\n      <td>R$ 1.012.000</td>\n      <td>66m²</td>\n      <td>2</td>\n      <td>1</td>\n      <td>1.00</td>\n      <td>None</td>\n      <td>22281034</td>\n    </tr>\n    <tr>\n      <th>2915</th>\n      <td>R$ 1.860.000</td>\n      <td>116m²</td>\n      <td>3</td>\n      <td>3</td>\n      <td>1.00</td>\n      <td>None</td>\n      <td>22270010</td>\n    </tr>\n  </tbody>\n</table>\n</div>"
     },
     "metadata": {},
     "execution_count": 41
    }
   ],
   "source": [
    "df_raw_subset.tail(15)"
   ]
  },
  {
   "cell_type": "code",
   "execution_count": 42,
   "metadata": {},
   "outputs": [
    {
     "output_type": "execute_result",
     "data": {
      "text/plain": [
       "       sales_price   area bedrooms bathrooms  garage       tax  zip_code\n",
       "141     R$ 760.000   88m²        3         2     NaN    R$ 440  22260140\n",
       "2233  R$ 1.650.000  101m²        3         1    1.00  R$ 1.300  22251090\n",
       "1056    R$ 820.000   90m²        3         3    1.00  R$ 1.000  22231030\n",
       "2278  R$ 1.750.000  130m²        3         1    2.00  R$ 1.400  22281080\n",
       "603     R$ 920.000   72m²        2         1    1.00    R$ 900  22280002\n",
       "2384    R$ 980.000   76m²        2         1    1.00  R$ 1.000  22260007\n",
       "1928    R$ 960.000   60m²        1         2    0.00      None  22250040\n",
       "1648  R$ 1.300.000  105m²        3         2    2.00  R$ 1.600  22290000\n",
       "857   R$ 1.080.000   78m²        3         1    1.00      None  22281033\n",
       "510     R$ 890.000   60m²        2         2    2.00  R$ 1.300  22280080"
      ],
      "text/html": "<div>\n<style scoped>\n    .dataframe tbody tr th:only-of-type {\n        vertical-align: middle;\n    }\n\n    .dataframe tbody tr th {\n        vertical-align: top;\n    }\n\n    .dataframe thead th {\n        text-align: right;\n    }\n</style>\n<table border=\"1\" class=\"dataframe\">\n  <thead>\n    <tr style=\"text-align: right;\">\n      <th></th>\n      <th>sales_price</th>\n      <th>area</th>\n      <th>bedrooms</th>\n      <th>bathrooms</th>\n      <th>garage</th>\n      <th>tax</th>\n      <th>zip_code</th>\n    </tr>\n  </thead>\n  <tbody>\n    <tr>\n      <th>141</th>\n      <td>R$ 760.000</td>\n      <td>88m²</td>\n      <td>3</td>\n      <td>2</td>\n      <td>NaN</td>\n      <td>R$ 440</td>\n      <td>22260140</td>\n    </tr>\n    <tr>\n      <th>2233</th>\n      <td>R$ 1.650.000</td>\n      <td>101m²</td>\n      <td>3</td>\n      <td>1</td>\n      <td>1.00</td>\n      <td>R$ 1.300</td>\n      <td>22251090</td>\n    </tr>\n    <tr>\n      <th>1056</th>\n      <td>R$ 820.000</td>\n      <td>90m²</td>\n      <td>3</td>\n      <td>3</td>\n      <td>1.00</td>\n      <td>R$ 1.000</td>\n      <td>22231030</td>\n    </tr>\n    <tr>\n      <th>2278</th>\n      <td>R$ 1.750.000</td>\n      <td>130m²</td>\n      <td>3</td>\n      <td>1</td>\n      <td>2.00</td>\n      <td>R$ 1.400</td>\n      <td>22281080</td>\n    </tr>\n    <tr>\n      <th>603</th>\n      <td>R$ 920.000</td>\n      <td>72m²</td>\n      <td>2</td>\n      <td>1</td>\n      <td>1.00</td>\n      <td>R$ 900</td>\n      <td>22280002</td>\n    </tr>\n    <tr>\n      <th>2384</th>\n      <td>R$ 980.000</td>\n      <td>76m²</td>\n      <td>2</td>\n      <td>1</td>\n      <td>1.00</td>\n      <td>R$ 1.000</td>\n      <td>22260007</td>\n    </tr>\n    <tr>\n      <th>1928</th>\n      <td>R$ 960.000</td>\n      <td>60m²</td>\n      <td>1</td>\n      <td>2</td>\n      <td>0.00</td>\n      <td>None</td>\n      <td>22250040</td>\n    </tr>\n    <tr>\n      <th>1648</th>\n      <td>R$ 1.300.000</td>\n      <td>105m²</td>\n      <td>3</td>\n      <td>2</td>\n      <td>2.00</td>\n      <td>R$ 1.600</td>\n      <td>22290000</td>\n    </tr>\n    <tr>\n      <th>857</th>\n      <td>R$ 1.080.000</td>\n      <td>78m²</td>\n      <td>3</td>\n      <td>1</td>\n      <td>1.00</td>\n      <td>None</td>\n      <td>22281033</td>\n    </tr>\n    <tr>\n      <th>510</th>\n      <td>R$ 890.000</td>\n      <td>60m²</td>\n      <td>2</td>\n      <td>2</td>\n      <td>2.00</td>\n      <td>R$ 1.300</td>\n      <td>22280080</td>\n    </tr>\n  </tbody>\n</table>\n</div>"
     },
     "metadata": {},
     "execution_count": 42
    }
   ],
   "source": [
    "df_raw_subset.sample(10)"
   ]
  },
  {
   "cell_type": "code",
   "execution_count": 43,
   "metadata": {},
   "outputs": [
    {
     "output_type": "execute_result",
     "data": {
      "text/plain": [
       "sales_price    2907\n",
       "area           2916\n",
       "bedrooms       2848\n",
       "bathrooms      2835\n",
       "garage         2647\n",
       "tax            2255\n",
       "zip_code       2916\n",
       "dtype: int64"
      ]
     },
     "metadata": {},
     "execution_count": 43
    }
   ],
   "source": [
    "df_raw_subset.count()"
   ]
  },
  {
   "cell_type": "code",
   "execution_count": 44,
   "metadata": {},
   "outputs": [
    {
     "output_type": "execute_result",
     "data": {
      "text/plain": [
       "(2916, 7)"
      ]
     },
     "metadata": {},
     "execution_count": 44
    }
   ],
   "source": [
    "df_raw_subset.shape"
   ]
  },
  {
   "cell_type": "code",
   "execution_count": 45,
   "metadata": {},
   "outputs": [],
   "source": [
    "def clean_prices(value):\n",
    "    price_pattern = r'([\\d,.]+)'\n",
    "    if value is None:        \n",
    "        return None\n",
    "    else:\n",
    "        value_extracted = re.findall(price_pattern, value)[0]\n",
    "        value_floated = value_extracted.replace('.','').replace(',','.')\n",
    "        return value_floated"
   ]
  },
  {
   "cell_type": "code",
   "execution_count": 46,
   "metadata": {},
   "outputs": [],
   "source": [
    "df_raw_subset['sales_price'] = df_raw_subset['sales_price'].apply(lambda x: clean_prices(x))\n",
    "df_raw_subset['tax']   = df_raw_subset['tax'].apply(lambda x: clean_prices(x))"
   ]
  },
  {
   "cell_type": "code",
   "execution_count": 47,
   "metadata": {},
   "outputs": [],
   "source": [
    "df_raw_subset['area'] = df_raw_subset['area'].apply(lambda x: x if x is None else x.replace('m²', ''))"
   ]
  },
  {
   "cell_type": "code",
   "execution_count": 48,
   "metadata": {},
   "outputs": [],
   "source": [
    "df_raw_subset['bedrooms'] = df_raw_subset['bedrooms'].str.extract(r'(\\d+)')"
   ]
  },
  {
   "cell_type": "code",
   "execution_count": 49,
   "metadata": {},
   "outputs": [],
   "source": [
    "df_raw_subset['bathrooms'] = df_raw_subset['bathrooms'].str.extract(r'(\\d+)')"
   ]
  },
  {
   "cell_type": "code",
   "execution_count": 50,
   "metadata": {},
   "outputs": [
    {
     "output_type": "execute_result",
     "data": {
      "text/plain": [
       "  sales_price area bedrooms bathrooms  garage   tax  zip_code\n",
       "0      610000   50        1         1    0.00   390  22250210\n",
       "1     1020000   74        2         2    1.00  None  22260040\n",
       "2     1735000   93        3         1    1.00  1371  22280110\n",
       "3      800000   88        3         1    0.00   440  22260140\n",
       "4      229000   23      NaN         1    0.00   540  22250040"
      ],
      "text/html": "<div>\n<style scoped>\n    .dataframe tbody tr th:only-of-type {\n        vertical-align: middle;\n    }\n\n    .dataframe tbody tr th {\n        vertical-align: top;\n    }\n\n    .dataframe thead th {\n        text-align: right;\n    }\n</style>\n<table border=\"1\" class=\"dataframe\">\n  <thead>\n    <tr style=\"text-align: right;\">\n      <th></th>\n      <th>sales_price</th>\n      <th>area</th>\n      <th>bedrooms</th>\n      <th>bathrooms</th>\n      <th>garage</th>\n      <th>tax</th>\n      <th>zip_code</th>\n    </tr>\n  </thead>\n  <tbody>\n    <tr>\n      <th>0</th>\n      <td>610000</td>\n      <td>50</td>\n      <td>1</td>\n      <td>1</td>\n      <td>0.00</td>\n      <td>390</td>\n      <td>22250210</td>\n    </tr>\n    <tr>\n      <th>1</th>\n      <td>1020000</td>\n      <td>74</td>\n      <td>2</td>\n      <td>2</td>\n      <td>1.00</td>\n      <td>None</td>\n      <td>22260040</td>\n    </tr>\n    <tr>\n      <th>2</th>\n      <td>1735000</td>\n      <td>93</td>\n      <td>3</td>\n      <td>1</td>\n      <td>1.00</td>\n      <td>1371</td>\n      <td>22280110</td>\n    </tr>\n    <tr>\n      <th>3</th>\n      <td>800000</td>\n      <td>88</td>\n      <td>3</td>\n      <td>1</td>\n      <td>0.00</td>\n      <td>440</td>\n      <td>22260140</td>\n    </tr>\n    <tr>\n      <th>4</th>\n      <td>229000</td>\n      <td>23</td>\n      <td>NaN</td>\n      <td>1</td>\n      <td>0.00</td>\n      <td>540</td>\n      <td>22250040</td>\n    </tr>\n  </tbody>\n</table>\n</div>"
     },
     "metadata": {},
     "execution_count": 50
    }
   ],
   "source": [
    "df_raw_subset.head()"
   ]
  },
  {
   "cell_type": "code",
   "execution_count": 51,
   "metadata": {},
   "outputs": [
    {
     "output_type": "stream",
     "name": "stdout",
     "text": [
      "<class 'pandas.core.frame.DataFrame'>\nRangeIndex: 2916 entries, 0 to 2915\nData columns (total 7 columns):\n #   Column       Non-Null Count  Dtype  \n---  ------       --------------  -----  \n 0   sales_price  2907 non-null   object \n 1   area         2916 non-null   object \n 2   bedrooms     2848 non-null   object \n 3   bathrooms    2835 non-null   object \n 4   garage       2647 non-null   float64\n 5   tax          2255 non-null   object \n 6   zip_code     2916 non-null   int64  \ndtypes: float64(1), int64(1), object(5)\nmemory usage: 159.6+ KB\n"
     ]
    }
   ],
   "source": [
    "df_raw_subset.info()"
   ]
  },
  {
   "cell_type": "code",
   "execution_count": 52,
   "metadata": {},
   "outputs": [],
   "source": [
    "df_raw_subset['bedrooms'] = df_raw_subset['bedrooms'].replace(np.nan, 0)\n",
    "df_raw_subset['garage'] = df_raw_subset['garage'].replace(np.nan, 0)\n",
    "df_raw_subset['tax'] = df_raw_subset['tax'].replace(np.nan, 0)"
   ]
  },
  {
   "cell_type": "code",
   "execution_count": 53,
   "metadata": {},
   "outputs": [],
   "source": [
    "df_raw_subset = df_raw_subset[df_raw_subset['sales_price'].notna()]\n",
    "df_raw_subset = df_raw_subset[df_raw_subset['area'].notna()]\n",
    "df_raw_subset = df_raw_subset[df_raw_subset['bathrooms'].notna()]\n",
    "df_raw_subset = df_raw_subset[df_raw_subset['zip_code'].notna()]"
   ]
  },
  {
   "cell_type": "code",
   "execution_count": 54,
   "metadata": {},
   "outputs": [],
   "source": [
    "df_raw_subset['sales_price'] = df_raw_subset['sales_price'].astype(float)\n",
    "df_raw_subset['area'] = df_raw_subset['area'].astype(float)\n",
    "df_raw_subset['bedrooms'] = df_raw_subset['bedrooms'].astype(int)\n",
    "df_raw_subset['bathrooms'] = df_raw_subset['bathrooms'].astype(int)\n",
    "df_raw_subset['garage'] = df_raw_subset['garage'].astype(int)\n",
    "df_raw_subset['tax'] = df_raw_subset['tax'].astype(float)\n",
    "df_raw_subset['zip_code'] = df_raw_subset['zip_code'].astype(str)"
   ]
  },
  {
   "cell_type": "code",
   "execution_count": 55,
   "metadata": {},
   "outputs": [],
   "source": [
    "df_raw_subset.drop(['tax'], axis=1, inplace=True)"
   ]
  },
  {
   "cell_type": "code",
   "execution_count": 56,
   "metadata": {},
   "outputs": [
    {
     "output_type": "stream",
     "name": "stdout",
     "text": [
      "<class 'pandas.core.frame.DataFrame'>\nInt64Index: 2826 entries, 0 to 2915\nData columns (total 6 columns):\n #   Column       Non-Null Count  Dtype  \n---  ------       --------------  -----  \n 0   sales_price  2826 non-null   float64\n 1   area         2826 non-null   float64\n 2   bedrooms     2826 non-null   int32  \n 3   bathrooms    2826 non-null   int32  \n 4   garage       2826 non-null   int32  \n 5   zip_code     2826 non-null   object \ndtypes: float64(2), int32(3), object(1)\nmemory usage: 121.4+ KB\n"
     ]
    }
   ],
   "source": [
    "df_raw_subset.info()"
   ]
  },
  {
   "cell_type": "code",
   "execution_count": 57,
   "metadata": {},
   "outputs": [
    {
     "output_type": "execute_result",
     "data": {
      "text/plain": [
       "       sales_price     area  bedrooms  bathrooms  garage\n",
       "count      2826.00  2826.00   2826.00    2826.00 2826.00\n",
       "mean    1225235.28   368.36      2.44       1.85    1.00\n",
       "std      767440.89  1909.23      0.91       1.00    0.76\n",
       "min         880.00     0.00      0.00       0.00    0.00\n",
       "25%      720000.00    70.00      2.00       1.00    0.00\n",
       "50%     1049000.00    92.00      2.00       2.00    1.00\n",
       "75%     1600000.00   122.00      3.00       2.00    1.00\n",
       "max     7500000.00 28321.00      5.00       5.00    4.00"
      ],
      "text/html": "<div>\n<style scoped>\n    .dataframe tbody tr th:only-of-type {\n        vertical-align: middle;\n    }\n\n    .dataframe tbody tr th {\n        vertical-align: top;\n    }\n\n    .dataframe thead th {\n        text-align: right;\n    }\n</style>\n<table border=\"1\" class=\"dataframe\">\n  <thead>\n    <tr style=\"text-align: right;\">\n      <th></th>\n      <th>sales_price</th>\n      <th>area</th>\n      <th>bedrooms</th>\n      <th>bathrooms</th>\n      <th>garage</th>\n    </tr>\n  </thead>\n  <tbody>\n    <tr>\n      <th>count</th>\n      <td>2826.00</td>\n      <td>2826.00</td>\n      <td>2826.00</td>\n      <td>2826.00</td>\n      <td>2826.00</td>\n    </tr>\n    <tr>\n      <th>mean</th>\n      <td>1225235.28</td>\n      <td>368.36</td>\n      <td>2.44</td>\n      <td>1.85</td>\n      <td>1.00</td>\n    </tr>\n    <tr>\n      <th>std</th>\n      <td>767440.89</td>\n      <td>1909.23</td>\n      <td>0.91</td>\n      <td>1.00</td>\n      <td>0.76</td>\n    </tr>\n    <tr>\n      <th>min</th>\n      <td>880.00</td>\n      <td>0.00</td>\n      <td>0.00</td>\n      <td>0.00</td>\n      <td>0.00</td>\n    </tr>\n    <tr>\n      <th>25%</th>\n      <td>720000.00</td>\n      <td>70.00</td>\n      <td>2.00</td>\n      <td>1.00</td>\n      <td>0.00</td>\n    </tr>\n    <tr>\n      <th>50%</th>\n      <td>1049000.00</td>\n      <td>92.00</td>\n      <td>2.00</td>\n      <td>2.00</td>\n      <td>1.00</td>\n    </tr>\n    <tr>\n      <th>75%</th>\n      <td>1600000.00</td>\n      <td>122.00</td>\n      <td>3.00</td>\n      <td>2.00</td>\n      <td>1.00</td>\n    </tr>\n    <tr>\n      <th>max</th>\n      <td>7500000.00</td>\n      <td>28321.00</td>\n      <td>5.00</td>\n      <td>5.00</td>\n      <td>4.00</td>\n    </tr>\n  </tbody>\n</table>\n</div>"
     },
     "metadata": {},
     "execution_count": 57
    }
   ],
   "source": [
    "df_raw_subset.describe()"
   ]
  },
  {
   "cell_type": "code",
   "execution_count": 58,
   "metadata": {},
   "outputs": [
    {
     "output_type": "execute_result",
     "data": {
      "text/plain": [
       "array([1, 2, 3, 0, 4, 5])"
      ]
     },
     "metadata": {},
     "execution_count": 58
    }
   ],
   "source": [
    "df_raw_subset['bedrooms'].unique()"
   ]
  },
  {
   "cell_type": "code",
   "execution_count": 59,
   "metadata": {},
   "outputs": [
    {
     "output_type": "execute_result",
     "data": {
      "text/plain": [
       "array([1, 2, 3, 4, 0, 5])"
      ]
     },
     "metadata": {},
     "execution_count": 59
    }
   ],
   "source": [
    "df_raw_subset['bathrooms'].unique()"
   ]
  },
  {
   "cell_type": "code",
   "execution_count": 60,
   "metadata": {},
   "outputs": [
    {
     "output_type": "execute_result",
     "data": {
      "text/plain": [
       "array([0, 1, 2, 3, 4])"
      ]
     },
     "metadata": {},
     "execution_count": 60
    }
   ],
   "source": [
    "df_raw_subset['garage'].unique()"
   ]
  },
  {
   "cell_type": "code",
   "execution_count": 61,
   "metadata": {},
   "outputs": [
    {
     "output_type": "execute_result",
     "data": {
      "text/plain": [
       "      sales_price   area  bedrooms  bathrooms  garage  zip_code\n",
       "635    4900000.00 403.00         5          2       2  22250145\n",
       "725    2850000.00 392.00         5          5       2  22290240\n",
       "1432   3000000.00 267.00         5          5       4  22250145\n",
       "1436   2500000.00 349.00         5          3       1  22270012\n",
       "1462   2100000.00 348.00         5          3       1  22270010\n",
       "1476   2300000.00 271.00         5          2       2  22251030\n",
       "1709   3500000.00 474.00         5          2       1  22271010\n",
       "1815   4980000.00 420.00         5          5       2  22260009\n",
       "1863       880.00 240.00         5          3       0  22250145\n",
       "2012   2100000.00 350.00         5          3       1  22270012\n",
       "2375   1900000.00 200.00         5          4       1  22260009\n",
       "2466   2100000.00 397.00         5          2       2  22270010\n",
       "2505   3700000.00 421.00         5          2       2  22290240\n",
       "2537   1690000.00 250.00         5          2       2  22270001\n",
       "2581   2950000.00 392.00         5          5       2  22290240\n",
       "2654   2500000.00 700.00         5          4       3  22270070\n",
       "2733   1650000.00 240.00         5          1       1  22281060\n",
       "2736   1995000.00 398.00         5          1       2  22251020\n",
       "2759   4000000.00 392.00         5          1       2  22270000"
      ],
      "text/html": "<div>\n<style scoped>\n    .dataframe tbody tr th:only-of-type {\n        vertical-align: middle;\n    }\n\n    .dataframe tbody tr th {\n        vertical-align: top;\n    }\n\n    .dataframe thead th {\n        text-align: right;\n    }\n</style>\n<table border=\"1\" class=\"dataframe\">\n  <thead>\n    <tr style=\"text-align: right;\">\n      <th></th>\n      <th>sales_price</th>\n      <th>area</th>\n      <th>bedrooms</th>\n      <th>bathrooms</th>\n      <th>garage</th>\n      <th>zip_code</th>\n    </tr>\n  </thead>\n  <tbody>\n    <tr>\n      <th>635</th>\n      <td>4900000.00</td>\n      <td>403.00</td>\n      <td>5</td>\n      <td>2</td>\n      <td>2</td>\n      <td>22250145</td>\n    </tr>\n    <tr>\n      <th>725</th>\n      <td>2850000.00</td>\n      <td>392.00</td>\n      <td>5</td>\n      <td>5</td>\n      <td>2</td>\n      <td>22290240</td>\n    </tr>\n    <tr>\n      <th>1432</th>\n      <td>3000000.00</td>\n      <td>267.00</td>\n      <td>5</td>\n      <td>5</td>\n      <td>4</td>\n      <td>22250145</td>\n    </tr>\n    <tr>\n      <th>1436</th>\n      <td>2500000.00</td>\n      <td>349.00</td>\n      <td>5</td>\n      <td>3</td>\n      <td>1</td>\n      <td>22270012</td>\n    </tr>\n    <tr>\n      <th>1462</th>\n      <td>2100000.00</td>\n      <td>348.00</td>\n      <td>5</td>\n      <td>3</td>\n      <td>1</td>\n      <td>22270010</td>\n    </tr>\n    <tr>\n      <th>1476</th>\n      <td>2300000.00</td>\n      <td>271.00</td>\n      <td>5</td>\n      <td>2</td>\n      <td>2</td>\n      <td>22251030</td>\n    </tr>\n    <tr>\n      <th>1709</th>\n      <td>3500000.00</td>\n      <td>474.00</td>\n      <td>5</td>\n      <td>2</td>\n      <td>1</td>\n      <td>22271010</td>\n    </tr>\n    <tr>\n      <th>1815</th>\n      <td>4980000.00</td>\n      <td>420.00</td>\n      <td>5</td>\n      <td>5</td>\n      <td>2</td>\n      <td>22260009</td>\n    </tr>\n    <tr>\n      <th>1863</th>\n      <td>880.00</td>\n      <td>240.00</td>\n      <td>5</td>\n      <td>3</td>\n      <td>0</td>\n      <td>22250145</td>\n    </tr>\n    <tr>\n      <th>2012</th>\n      <td>2100000.00</td>\n      <td>350.00</td>\n      <td>5</td>\n      <td>3</td>\n      <td>1</td>\n      <td>22270012</td>\n    </tr>\n    <tr>\n      <th>2375</th>\n      <td>1900000.00</td>\n      <td>200.00</td>\n      <td>5</td>\n      <td>4</td>\n      <td>1</td>\n      <td>22260009</td>\n    </tr>\n    <tr>\n      <th>2466</th>\n      <td>2100000.00</td>\n      <td>397.00</td>\n      <td>5</td>\n      <td>2</td>\n      <td>2</td>\n      <td>22270010</td>\n    </tr>\n    <tr>\n      <th>2505</th>\n      <td>3700000.00</td>\n      <td>421.00</td>\n      <td>5</td>\n      <td>2</td>\n      <td>2</td>\n      <td>22290240</td>\n    </tr>\n    <tr>\n      <th>2537</th>\n      <td>1690000.00</td>\n      <td>250.00</td>\n      <td>5</td>\n      <td>2</td>\n      <td>2</td>\n      <td>22270001</td>\n    </tr>\n    <tr>\n      <th>2581</th>\n      <td>2950000.00</td>\n      <td>392.00</td>\n      <td>5</td>\n      <td>5</td>\n      <td>2</td>\n      <td>22290240</td>\n    </tr>\n    <tr>\n      <th>2654</th>\n      <td>2500000.00</td>\n      <td>700.00</td>\n      <td>5</td>\n      <td>4</td>\n      <td>3</td>\n      <td>22270070</td>\n    </tr>\n    <tr>\n      <th>2733</th>\n      <td>1650000.00</td>\n      <td>240.00</td>\n      <td>5</td>\n      <td>1</td>\n      <td>1</td>\n      <td>22281060</td>\n    </tr>\n    <tr>\n      <th>2736</th>\n      <td>1995000.00</td>\n      <td>398.00</td>\n      <td>5</td>\n      <td>1</td>\n      <td>2</td>\n      <td>22251020</td>\n    </tr>\n    <tr>\n      <th>2759</th>\n      <td>4000000.00</td>\n      <td>392.00</td>\n      <td>5</td>\n      <td>1</td>\n      <td>2</td>\n      <td>22270000</td>\n    </tr>\n  </tbody>\n</table>\n</div>"
     },
     "metadata": {},
     "execution_count": 61
    }
   ],
   "source": [
    "df_raw_subset.loc[df_raw_subset['bedrooms']==5]"
   ]
  },
  {
   "cell_type": "code",
   "execution_count": 62,
   "metadata": {},
   "outputs": [
    {
     "output_type": "execute_result",
     "data": {
      "text/plain": [
       "      sales_price   area  bedrooms  bathrooms  garage  zip_code\n",
       "725    2850000.00 392.00         5          5       2  22290240\n",
       "1432   3000000.00 267.00         5          5       4  22250145\n",
       "1815   4980000.00 420.00         5          5       2  22260009\n",
       "2581   2950000.00 392.00         5          5       2  22290240"
      ],
      "text/html": "<div>\n<style scoped>\n    .dataframe tbody tr th:only-of-type {\n        vertical-align: middle;\n    }\n\n    .dataframe tbody tr th {\n        vertical-align: top;\n    }\n\n    .dataframe thead th {\n        text-align: right;\n    }\n</style>\n<table border=\"1\" class=\"dataframe\">\n  <thead>\n    <tr style=\"text-align: right;\">\n      <th></th>\n      <th>sales_price</th>\n      <th>area</th>\n      <th>bedrooms</th>\n      <th>bathrooms</th>\n      <th>garage</th>\n      <th>zip_code</th>\n    </tr>\n  </thead>\n  <tbody>\n    <tr>\n      <th>725</th>\n      <td>2850000.00</td>\n      <td>392.00</td>\n      <td>5</td>\n      <td>5</td>\n      <td>2</td>\n      <td>22290240</td>\n    </tr>\n    <tr>\n      <th>1432</th>\n      <td>3000000.00</td>\n      <td>267.00</td>\n      <td>5</td>\n      <td>5</td>\n      <td>4</td>\n      <td>22250145</td>\n    </tr>\n    <tr>\n      <th>1815</th>\n      <td>4980000.00</td>\n      <td>420.00</td>\n      <td>5</td>\n      <td>5</td>\n      <td>2</td>\n      <td>22260009</td>\n    </tr>\n    <tr>\n      <th>2581</th>\n      <td>2950000.00</td>\n      <td>392.00</td>\n      <td>5</td>\n      <td>5</td>\n      <td>2</td>\n      <td>22290240</td>\n    </tr>\n  </tbody>\n</table>\n</div>"
     },
     "metadata": {},
     "execution_count": 62
    }
   ],
   "source": [
    "df_raw_subset.loc[(df_raw_subset['bedrooms']==5) & (df_raw_subset['bathrooms']==5)]"
   ]
  },
  {
   "cell_type": "code",
   "execution_count": 63,
   "metadata": {},
   "outputs": [
    {
     "output_type": "execute_result",
     "data": {
      "text/plain": [
       "      sales_price   area  bedrooms  bathrooms  garage  zip_code\n",
       "2      1735000.00  93.00         3          1       1  22280110\n",
       "3       800000.00  88.00         3          1       0  22260140\n",
       "5      1350057.00 114.00         3          3       2  22260100\n",
       "6      1250000.00  79.00         3          1       1  22281033\n",
       "7      2100000.00 308.00         3          2       1  22251040\n",
       "...           ...    ...       ...        ...     ...       ...\n",
       "2903   1968000.00 112.00         3          2       1  22270010\n",
       "2909    850000.00  83.00         3          0       1  22251090\n",
       "2911   1210000.00  95.00         3          1       1  22271100\n",
       "2912   1900000.00 143.00         3          2       1  22250040\n",
       "2915   1860000.00 116.00         3          3       1  22270010\n",
       "\n",
       "[1356 rows x 6 columns]"
      ],
      "text/html": "<div>\n<style scoped>\n    .dataframe tbody tr th:only-of-type {\n        vertical-align: middle;\n    }\n\n    .dataframe tbody tr th {\n        vertical-align: top;\n    }\n\n    .dataframe thead th {\n        text-align: right;\n    }\n</style>\n<table border=\"1\" class=\"dataframe\">\n  <thead>\n    <tr style=\"text-align: right;\">\n      <th></th>\n      <th>sales_price</th>\n      <th>area</th>\n      <th>bedrooms</th>\n      <th>bathrooms</th>\n      <th>garage</th>\n      <th>zip_code</th>\n    </tr>\n  </thead>\n  <tbody>\n    <tr>\n      <th>2</th>\n      <td>1735000.00</td>\n      <td>93.00</td>\n      <td>3</td>\n      <td>1</td>\n      <td>1</td>\n      <td>22280110</td>\n    </tr>\n    <tr>\n      <th>3</th>\n      <td>800000.00</td>\n      <td>88.00</td>\n      <td>3</td>\n      <td>1</td>\n      <td>0</td>\n      <td>22260140</td>\n    </tr>\n    <tr>\n      <th>5</th>\n      <td>1350057.00</td>\n      <td>114.00</td>\n      <td>3</td>\n      <td>3</td>\n      <td>2</td>\n      <td>22260100</td>\n    </tr>\n    <tr>\n      <th>6</th>\n      <td>1250000.00</td>\n      <td>79.00</td>\n      <td>3</td>\n      <td>1</td>\n      <td>1</td>\n      <td>22281033</td>\n    </tr>\n    <tr>\n      <th>7</th>\n      <td>2100000.00</td>\n      <td>308.00</td>\n      <td>3</td>\n      <td>2</td>\n      <td>1</td>\n      <td>22251040</td>\n    </tr>\n    <tr>\n      <th>...</th>\n      <td>...</td>\n      <td>...</td>\n      <td>...</td>\n      <td>...</td>\n      <td>...</td>\n      <td>...</td>\n    </tr>\n    <tr>\n      <th>2903</th>\n      <td>1968000.00</td>\n      <td>112.00</td>\n      <td>3</td>\n      <td>2</td>\n      <td>1</td>\n      <td>22270010</td>\n    </tr>\n    <tr>\n      <th>2909</th>\n      <td>850000.00</td>\n      <td>83.00</td>\n      <td>3</td>\n      <td>0</td>\n      <td>1</td>\n      <td>22251090</td>\n    </tr>\n    <tr>\n      <th>2911</th>\n      <td>1210000.00</td>\n      <td>95.00</td>\n      <td>3</td>\n      <td>1</td>\n      <td>1</td>\n      <td>22271100</td>\n    </tr>\n    <tr>\n      <th>2912</th>\n      <td>1900000.00</td>\n      <td>143.00</td>\n      <td>3</td>\n      <td>2</td>\n      <td>1</td>\n      <td>22250040</td>\n    </tr>\n    <tr>\n      <th>2915</th>\n      <td>1860000.00</td>\n      <td>116.00</td>\n      <td>3</td>\n      <td>3</td>\n      <td>1</td>\n      <td>22270010</td>\n    </tr>\n  </tbody>\n</table>\n<p>1356 rows × 6 columns</p>\n</div>"
     },
     "metadata": {},
     "execution_count": 63
    }
   ],
   "source": [
    "df_raw_subset.loc[(df_raw_subset['bedrooms']==3) | (df_raw_subset['bedrooms']==4)]"
   ]
  },
  {
   "cell_type": "code",
   "execution_count": 64,
   "metadata": {},
   "outputs": [
    {
     "output_type": "execute_result",
     "data": {
      "text/plain": [
       "      sales_price   area  bedrooms  bathrooms  garage  zip_code\n",
       "1      1020000.00  74.00         2          2       1  22260040\n",
       "2      1735000.00  93.00         3          1       1  22280110\n",
       "5      1350057.00 114.00         3          3       2  22260100\n",
       "6      1250000.00  79.00         3          1       1  22281033\n",
       "7      2100000.00 308.00         3          2       1  22251040\n",
       "...           ...    ...       ...        ...     ...       ...\n",
       "2907   1300000.00 110.00         2          2       1  22260007\n",
       "2911   1210000.00  95.00         3          1       1  22271100\n",
       "2912   1900000.00 143.00         3          2       1  22250040\n",
       "2914   1012000.00  66.00         2          1       1  22281034\n",
       "2915   1860000.00 116.00         3          3       1  22270010\n",
       "\n",
       "[1451 rows x 6 columns]"
      ],
      "text/html": "<div>\n<style scoped>\n    .dataframe tbody tr th:only-of-type {\n        vertical-align: middle;\n    }\n\n    .dataframe tbody tr th {\n        vertical-align: top;\n    }\n\n    .dataframe thead th {\n        text-align: right;\n    }\n</style>\n<table border=\"1\" class=\"dataframe\">\n  <thead>\n    <tr style=\"text-align: right;\">\n      <th></th>\n      <th>sales_price</th>\n      <th>area</th>\n      <th>bedrooms</th>\n      <th>bathrooms</th>\n      <th>garage</th>\n      <th>zip_code</th>\n    </tr>\n  </thead>\n  <tbody>\n    <tr>\n      <th>1</th>\n      <td>1020000.00</td>\n      <td>74.00</td>\n      <td>2</td>\n      <td>2</td>\n      <td>1</td>\n      <td>22260040</td>\n    </tr>\n    <tr>\n      <th>2</th>\n      <td>1735000.00</td>\n      <td>93.00</td>\n      <td>3</td>\n      <td>1</td>\n      <td>1</td>\n      <td>22280110</td>\n    </tr>\n    <tr>\n      <th>5</th>\n      <td>1350057.00</td>\n      <td>114.00</td>\n      <td>3</td>\n      <td>3</td>\n      <td>2</td>\n      <td>22260100</td>\n    </tr>\n    <tr>\n      <th>6</th>\n      <td>1250000.00</td>\n      <td>79.00</td>\n      <td>3</td>\n      <td>1</td>\n      <td>1</td>\n      <td>22281033</td>\n    </tr>\n    <tr>\n      <th>7</th>\n      <td>2100000.00</td>\n      <td>308.00</td>\n      <td>3</td>\n      <td>2</td>\n      <td>1</td>\n      <td>22251040</td>\n    </tr>\n    <tr>\n      <th>...</th>\n      <td>...</td>\n      <td>...</td>\n      <td>...</td>\n      <td>...</td>\n      <td>...</td>\n      <td>...</td>\n    </tr>\n    <tr>\n      <th>2907</th>\n      <td>1300000.00</td>\n      <td>110.00</td>\n      <td>2</td>\n      <td>2</td>\n      <td>1</td>\n      <td>22260007</td>\n    </tr>\n    <tr>\n      <th>2911</th>\n      <td>1210000.00</td>\n      <td>95.00</td>\n      <td>3</td>\n      <td>1</td>\n      <td>1</td>\n      <td>22271100</td>\n    </tr>\n    <tr>\n      <th>2912</th>\n      <td>1900000.00</td>\n      <td>143.00</td>\n      <td>3</td>\n      <td>2</td>\n      <td>1</td>\n      <td>22250040</td>\n    </tr>\n    <tr>\n      <th>2914</th>\n      <td>1012000.00</td>\n      <td>66.00</td>\n      <td>2</td>\n      <td>1</td>\n      <td>1</td>\n      <td>22281034</td>\n    </tr>\n    <tr>\n      <th>2915</th>\n      <td>1860000.00</td>\n      <td>116.00</td>\n      <td>3</td>\n      <td>3</td>\n      <td>1</td>\n      <td>22270010</td>\n    </tr>\n  </tbody>\n</table>\n<p>1451 rows × 6 columns</p>\n</div>"
     },
     "metadata": {},
     "execution_count": 64
    }
   ],
   "source": [
    "df_raw_subset.query('sales_price > 1000000')"
   ]
  },
  {
   "cell_type": "code",
   "execution_count": 65,
   "metadata": {},
   "outputs": [
    {
     "output_type": "execute_result",
     "data": {
      "text/plain": [
       "      sales_price   area  bedrooms  bathrooms  garage  zip_code\n",
       "1      1020000.00  74.00         2          2       1  22260040\n",
       "2      1735000.00  93.00         3          1       1  22280110\n",
       "5      1350057.00 114.00         3          3       2  22260100\n",
       "6      1250000.00  79.00         3          1       1  22281033\n",
       "7      2100000.00 308.00         3          2       1  22251040\n",
       "...           ...    ...       ...        ...     ...       ...\n",
       "2907   1300000.00 110.00         2          2       1  22260007\n",
       "2911   1210000.00  95.00         3          1       1  22271100\n",
       "2912   1900000.00 143.00         3          2       1  22250040\n",
       "2914   1012000.00  66.00         2          1       1  22281034\n",
       "2915   1860000.00 116.00         3          3       1  22270010\n",
       "\n",
       "[1451 rows x 6 columns]"
      ],
      "text/html": "<div>\n<style scoped>\n    .dataframe tbody tr th:only-of-type {\n        vertical-align: middle;\n    }\n\n    .dataframe tbody tr th {\n        vertical-align: top;\n    }\n\n    .dataframe thead th {\n        text-align: right;\n    }\n</style>\n<table border=\"1\" class=\"dataframe\">\n  <thead>\n    <tr style=\"text-align: right;\">\n      <th></th>\n      <th>sales_price</th>\n      <th>area</th>\n      <th>bedrooms</th>\n      <th>bathrooms</th>\n      <th>garage</th>\n      <th>zip_code</th>\n    </tr>\n  </thead>\n  <tbody>\n    <tr>\n      <th>1</th>\n      <td>1020000.00</td>\n      <td>74.00</td>\n      <td>2</td>\n      <td>2</td>\n      <td>1</td>\n      <td>22260040</td>\n    </tr>\n    <tr>\n      <th>2</th>\n      <td>1735000.00</td>\n      <td>93.00</td>\n      <td>3</td>\n      <td>1</td>\n      <td>1</td>\n      <td>22280110</td>\n    </tr>\n    <tr>\n      <th>5</th>\n      <td>1350057.00</td>\n      <td>114.00</td>\n      <td>3</td>\n      <td>3</td>\n      <td>2</td>\n      <td>22260100</td>\n    </tr>\n    <tr>\n      <th>6</th>\n      <td>1250000.00</td>\n      <td>79.00</td>\n      <td>3</td>\n      <td>1</td>\n      <td>1</td>\n      <td>22281033</td>\n    </tr>\n    <tr>\n      <th>7</th>\n      <td>2100000.00</td>\n      <td>308.00</td>\n      <td>3</td>\n      <td>2</td>\n      <td>1</td>\n      <td>22251040</td>\n    </tr>\n    <tr>\n      <th>...</th>\n      <td>...</td>\n      <td>...</td>\n      <td>...</td>\n      <td>...</td>\n      <td>...</td>\n      <td>...</td>\n    </tr>\n    <tr>\n      <th>2907</th>\n      <td>1300000.00</td>\n      <td>110.00</td>\n      <td>2</td>\n      <td>2</td>\n      <td>1</td>\n      <td>22260007</td>\n    </tr>\n    <tr>\n      <th>2911</th>\n      <td>1210000.00</td>\n      <td>95.00</td>\n      <td>3</td>\n      <td>1</td>\n      <td>1</td>\n      <td>22271100</td>\n    </tr>\n    <tr>\n      <th>2912</th>\n      <td>1900000.00</td>\n      <td>143.00</td>\n      <td>3</td>\n      <td>2</td>\n      <td>1</td>\n      <td>22250040</td>\n    </tr>\n    <tr>\n      <th>2914</th>\n      <td>1012000.00</td>\n      <td>66.00</td>\n      <td>2</td>\n      <td>1</td>\n      <td>1</td>\n      <td>22281034</td>\n    </tr>\n    <tr>\n      <th>2915</th>\n      <td>1860000.00</td>\n      <td>116.00</td>\n      <td>3</td>\n      <td>3</td>\n      <td>1</td>\n      <td>22270010</td>\n    </tr>\n  </tbody>\n</table>\n<p>1451 rows × 6 columns</p>\n</div>"
     },
     "metadata": {},
     "execution_count": 65
    }
   ],
   "source": [
    "df_raw_subset[pd.eval('df_raw_subset[\"sales_price\"] > 1000000')]"
   ]
  },
  {
   "cell_type": "code",
   "execution_count": 66,
   "metadata": {},
   "outputs": [
    {
     "output_type": "execute_result",
     "data": {
      "text/plain": [
       "      sales_price     area  bedrooms  bathrooms  garage  zip_code\n",
       "2005   7500000.00   750.00         4          5       4  22250040\n",
       "2191   7000000.00   681.00         4          5       4  22250040\n",
       "2518   6900000.00   500.00         4          5       3  22251030\n",
       "1554   6000000.00   650.00         4          5       2  22290090\n",
       "1562   5900000.00   743.00         3          3       2  22290240\n",
       "2415   5900000.00   693.00         4          4       2  22290240\n",
       "615    5000000.00   560.00         4          2       1  22250040\n",
       "1815   4980000.00   420.00         5          5       2  22260009\n",
       "368    4900000.00   457.00         4          1       2  22270010\n",
       "635    4900000.00   403.00         5          2       2  22250145\n",
       "2648   4850000.00   557.00         4          1       1  22250040\n",
       "2568   4844000.00   283.00         4          4       3  22251030\n",
       "132    4843700.00 28321.00         4          5       3  22251030\n",
       "1965   4843000.00   283.00         4          4       3  22251030\n",
       "2007   4801300.00   283.00         4          4       2  22251030"
      ],
      "text/html": "<div>\n<style scoped>\n    .dataframe tbody tr th:only-of-type {\n        vertical-align: middle;\n    }\n\n    .dataframe tbody tr th {\n        vertical-align: top;\n    }\n\n    .dataframe thead th {\n        text-align: right;\n    }\n</style>\n<table border=\"1\" class=\"dataframe\">\n  <thead>\n    <tr style=\"text-align: right;\">\n      <th></th>\n      <th>sales_price</th>\n      <th>area</th>\n      <th>bedrooms</th>\n      <th>bathrooms</th>\n      <th>garage</th>\n      <th>zip_code</th>\n    </tr>\n  </thead>\n  <tbody>\n    <tr>\n      <th>2005</th>\n      <td>7500000.00</td>\n      <td>750.00</td>\n      <td>4</td>\n      <td>5</td>\n      <td>4</td>\n      <td>22250040</td>\n    </tr>\n    <tr>\n      <th>2191</th>\n      <td>7000000.00</td>\n      <td>681.00</td>\n      <td>4</td>\n      <td>5</td>\n      <td>4</td>\n      <td>22250040</td>\n    </tr>\n    <tr>\n      <th>2518</th>\n      <td>6900000.00</td>\n      <td>500.00</td>\n      <td>4</td>\n      <td>5</td>\n      <td>3</td>\n      <td>22251030</td>\n    </tr>\n    <tr>\n      <th>1554</th>\n      <td>6000000.00</td>\n      <td>650.00</td>\n      <td>4</td>\n      <td>5</td>\n      <td>2</td>\n      <td>22290090</td>\n    </tr>\n    <tr>\n      <th>1562</th>\n      <td>5900000.00</td>\n      <td>743.00</td>\n      <td>3</td>\n      <td>3</td>\n      <td>2</td>\n      <td>22290240</td>\n    </tr>\n    <tr>\n      <th>2415</th>\n      <td>5900000.00</td>\n      <td>693.00</td>\n      <td>4</td>\n      <td>4</td>\n      <td>2</td>\n      <td>22290240</td>\n    </tr>\n    <tr>\n      <th>615</th>\n      <td>5000000.00</td>\n      <td>560.00</td>\n      <td>4</td>\n      <td>2</td>\n      <td>1</td>\n      <td>22250040</td>\n    </tr>\n    <tr>\n      <th>1815</th>\n      <td>4980000.00</td>\n      <td>420.00</td>\n      <td>5</td>\n      <td>5</td>\n      <td>2</td>\n      <td>22260009</td>\n    </tr>\n    <tr>\n      <th>368</th>\n      <td>4900000.00</td>\n      <td>457.00</td>\n      <td>4</td>\n      <td>1</td>\n      <td>2</td>\n      <td>22270010</td>\n    </tr>\n    <tr>\n      <th>635</th>\n      <td>4900000.00</td>\n      <td>403.00</td>\n      <td>5</td>\n      <td>2</td>\n      <td>2</td>\n      <td>22250145</td>\n    </tr>\n    <tr>\n      <th>2648</th>\n      <td>4850000.00</td>\n      <td>557.00</td>\n      <td>4</td>\n      <td>1</td>\n      <td>1</td>\n      <td>22250040</td>\n    </tr>\n    <tr>\n      <th>2568</th>\n      <td>4844000.00</td>\n      <td>283.00</td>\n      <td>4</td>\n      <td>4</td>\n      <td>3</td>\n      <td>22251030</td>\n    </tr>\n    <tr>\n      <th>132</th>\n      <td>4843700.00</td>\n      <td>28321.00</td>\n      <td>4</td>\n      <td>5</td>\n      <td>3</td>\n      <td>22251030</td>\n    </tr>\n    <tr>\n      <th>1965</th>\n      <td>4843000.00</td>\n      <td>283.00</td>\n      <td>4</td>\n      <td>4</td>\n      <td>3</td>\n      <td>22251030</td>\n    </tr>\n    <tr>\n      <th>2007</th>\n      <td>4801300.00</td>\n      <td>283.00</td>\n      <td>4</td>\n      <td>4</td>\n      <td>2</td>\n      <td>22251030</td>\n    </tr>\n  </tbody>\n</table>\n</div>"
     },
     "metadata": {},
     "execution_count": 66
    }
   ],
   "source": [
    "df_raw_subset.sort_values(by=['sales_price', 'area'], ascending=False).head(15)"
   ]
  },
  {
   "cell_type": "code",
   "execution_count": 67,
   "metadata": {},
   "outputs": [
    {
     "output_type": "execute_result",
     "data": {
      "text/plain": [
       "      sales_price   area  bedrooms  bathrooms  garage  zip_code\n",
       "2005   7500000.00 750.00         4          5       4  22250040\n",
       "2191   7000000.00 681.00         4          5       4  22250040\n",
       "2518   6900000.00 500.00         4          5       3  22251030\n",
       "1554   6000000.00 650.00         4          5       2  22290090\n",
       "1562   5900000.00 743.00         3          3       2  22290240\n",
       "2415   5900000.00 693.00         4          4       2  22290240\n",
       "615    5000000.00 560.00         4          2       1  22250040\n",
       "1815   4980000.00 420.00         5          5       2  22260009\n",
       "368    4900000.00 457.00         4          1       2  22270010\n",
       "635    4900000.00 403.00         5          2       2  22250145"
      ],
      "text/html": "<div>\n<style scoped>\n    .dataframe tbody tr th:only-of-type {\n        vertical-align: middle;\n    }\n\n    .dataframe tbody tr th {\n        vertical-align: top;\n    }\n\n    .dataframe thead th {\n        text-align: right;\n    }\n</style>\n<table border=\"1\" class=\"dataframe\">\n  <thead>\n    <tr style=\"text-align: right;\">\n      <th></th>\n      <th>sales_price</th>\n      <th>area</th>\n      <th>bedrooms</th>\n      <th>bathrooms</th>\n      <th>garage</th>\n      <th>zip_code</th>\n    </tr>\n  </thead>\n  <tbody>\n    <tr>\n      <th>2005</th>\n      <td>7500000.00</td>\n      <td>750.00</td>\n      <td>4</td>\n      <td>5</td>\n      <td>4</td>\n      <td>22250040</td>\n    </tr>\n    <tr>\n      <th>2191</th>\n      <td>7000000.00</td>\n      <td>681.00</td>\n      <td>4</td>\n      <td>5</td>\n      <td>4</td>\n      <td>22250040</td>\n    </tr>\n    <tr>\n      <th>2518</th>\n      <td>6900000.00</td>\n      <td>500.00</td>\n      <td>4</td>\n      <td>5</td>\n      <td>3</td>\n      <td>22251030</td>\n    </tr>\n    <tr>\n      <th>1554</th>\n      <td>6000000.00</td>\n      <td>650.00</td>\n      <td>4</td>\n      <td>5</td>\n      <td>2</td>\n      <td>22290090</td>\n    </tr>\n    <tr>\n      <th>1562</th>\n      <td>5900000.00</td>\n      <td>743.00</td>\n      <td>3</td>\n      <td>3</td>\n      <td>2</td>\n      <td>22290240</td>\n    </tr>\n    <tr>\n      <th>2415</th>\n      <td>5900000.00</td>\n      <td>693.00</td>\n      <td>4</td>\n      <td>4</td>\n      <td>2</td>\n      <td>22290240</td>\n    </tr>\n    <tr>\n      <th>615</th>\n      <td>5000000.00</td>\n      <td>560.00</td>\n      <td>4</td>\n      <td>2</td>\n      <td>1</td>\n      <td>22250040</td>\n    </tr>\n    <tr>\n      <th>1815</th>\n      <td>4980000.00</td>\n      <td>420.00</td>\n      <td>5</td>\n      <td>5</td>\n      <td>2</td>\n      <td>22260009</td>\n    </tr>\n    <tr>\n      <th>368</th>\n      <td>4900000.00</td>\n      <td>457.00</td>\n      <td>4</td>\n      <td>1</td>\n      <td>2</td>\n      <td>22270010</td>\n    </tr>\n    <tr>\n      <th>635</th>\n      <td>4900000.00</td>\n      <td>403.00</td>\n      <td>5</td>\n      <td>2</td>\n      <td>2</td>\n      <td>22250145</td>\n    </tr>\n  </tbody>\n</table>\n</div>"
     },
     "metadata": {},
     "execution_count": 67
    }
   ],
   "source": [
    "df_raw_subset.nlargest(10, 'sales_price')"
   ]
  },
  {
   "cell_type": "code",
   "execution_count": 68,
   "metadata": {},
   "outputs": [
    {
     "output_type": "execute_result",
     "data": {
      "text/plain": [
       "      sales_price   area  bedrooms  bathrooms  garage  zip_code\n",
       "1863       880.00 240.00         5          3       0  22250145\n",
       "1994      1070.00  75.00         3          2       1  22281034\n",
       "717       1300.00  88.00         2          2       1  22270010\n",
       "2821      3000.00  96.00         2          2       1  22290160\n",
       "1692      3884.00 356.00         4          5       4  22280080\n",
       "1981     60000.00  70.00         2          2       1  22250910\n",
       "1987     76000.00  73.00         2          2       1  22290080\n",
       "847      80000.00  99.00         3          2       1  22290070\n",
       "1328     82000.00  55.00         2          1       1  22280080\n",
       "614     100000.00  36.00         1          1       0  22280110"
      ],
      "text/html": "<div>\n<style scoped>\n    .dataframe tbody tr th:only-of-type {\n        vertical-align: middle;\n    }\n\n    .dataframe tbody tr th {\n        vertical-align: top;\n    }\n\n    .dataframe thead th {\n        text-align: right;\n    }\n</style>\n<table border=\"1\" class=\"dataframe\">\n  <thead>\n    <tr style=\"text-align: right;\">\n      <th></th>\n      <th>sales_price</th>\n      <th>area</th>\n      <th>bedrooms</th>\n      <th>bathrooms</th>\n      <th>garage</th>\n      <th>zip_code</th>\n    </tr>\n  </thead>\n  <tbody>\n    <tr>\n      <th>1863</th>\n      <td>880.00</td>\n      <td>240.00</td>\n      <td>5</td>\n      <td>3</td>\n      <td>0</td>\n      <td>22250145</td>\n    </tr>\n    <tr>\n      <th>1994</th>\n      <td>1070.00</td>\n      <td>75.00</td>\n      <td>3</td>\n      <td>2</td>\n      <td>1</td>\n      <td>22281034</td>\n    </tr>\n    <tr>\n      <th>717</th>\n      <td>1300.00</td>\n      <td>88.00</td>\n      <td>2</td>\n      <td>2</td>\n      <td>1</td>\n      <td>22270010</td>\n    </tr>\n    <tr>\n      <th>2821</th>\n      <td>3000.00</td>\n      <td>96.00</td>\n      <td>2</td>\n      <td>2</td>\n      <td>1</td>\n      <td>22290160</td>\n    </tr>\n    <tr>\n      <th>1692</th>\n      <td>3884.00</td>\n      <td>356.00</td>\n      <td>4</td>\n      <td>5</td>\n      <td>4</td>\n      <td>22280080</td>\n    </tr>\n    <tr>\n      <th>1981</th>\n      <td>60000.00</td>\n      <td>70.00</td>\n      <td>2</td>\n      <td>2</td>\n      <td>1</td>\n      <td>22250910</td>\n    </tr>\n    <tr>\n      <th>1987</th>\n      <td>76000.00</td>\n      <td>73.00</td>\n      <td>2</td>\n      <td>2</td>\n      <td>1</td>\n      <td>22290080</td>\n    </tr>\n    <tr>\n      <th>847</th>\n      <td>80000.00</td>\n      <td>99.00</td>\n      <td>3</td>\n      <td>2</td>\n      <td>1</td>\n      <td>22290070</td>\n    </tr>\n    <tr>\n      <th>1328</th>\n      <td>82000.00</td>\n      <td>55.00</td>\n      <td>2</td>\n      <td>1</td>\n      <td>1</td>\n      <td>22280080</td>\n    </tr>\n    <tr>\n      <th>614</th>\n      <td>100000.00</td>\n      <td>36.00</td>\n      <td>1</td>\n      <td>1</td>\n      <td>0</td>\n      <td>22280110</td>\n    </tr>\n  </tbody>\n</table>\n</div>"
     },
     "metadata": {},
     "execution_count": 68
    }
   ],
   "source": [
    "df_raw_subset.nsmallest(10, 'sales_price')"
   ]
  },
  {
   "cell_type": "code",
   "execution_count": 69,
   "metadata": {},
   "outputs": [],
   "source": [
    "df_raw_subset.drop(index = df_raw_subset.nsmallest(5, 'sales_price', keep='all').index, inplace=True)"
   ]
  },
  {
   "cell_type": "code",
   "execution_count": 70,
   "metadata": {},
   "outputs": [
    {
     "output_type": "execute_result",
     "data": {
      "text/plain": [
       "      sales_price   area  bedrooms  bathrooms  garage  zip_code\n",
       "1981     60000.00  70.00         2          2       1  22250910\n",
       "1987     76000.00  73.00         2          2       1  22290080\n",
       "847      80000.00  99.00         3          2       1  22290070\n",
       "1328     82000.00  55.00         2          1       1  22280080\n",
       "614     100000.00  36.00         1          1       0  22280110\n",
       "1211    100000.00 115.00         3          3       1  22270010\n",
       "1291    108000.00  74.00         2          2       1  22260040\n",
       "1243    110000.00  74.00         2          1       1  22260040\n",
       "1138    120000.00  73.00         2          1       1  22290070\n",
       "1139    120000.00 100.00         3          2       1  22290070"
      ],
      "text/html": "<div>\n<style scoped>\n    .dataframe tbody tr th:only-of-type {\n        vertical-align: middle;\n    }\n\n    .dataframe tbody tr th {\n        vertical-align: top;\n    }\n\n    .dataframe thead th {\n        text-align: right;\n    }\n</style>\n<table border=\"1\" class=\"dataframe\">\n  <thead>\n    <tr style=\"text-align: right;\">\n      <th></th>\n      <th>sales_price</th>\n      <th>area</th>\n      <th>bedrooms</th>\n      <th>bathrooms</th>\n      <th>garage</th>\n      <th>zip_code</th>\n    </tr>\n  </thead>\n  <tbody>\n    <tr>\n      <th>1981</th>\n      <td>60000.00</td>\n      <td>70.00</td>\n      <td>2</td>\n      <td>2</td>\n      <td>1</td>\n      <td>22250910</td>\n    </tr>\n    <tr>\n      <th>1987</th>\n      <td>76000.00</td>\n      <td>73.00</td>\n      <td>2</td>\n      <td>2</td>\n      <td>1</td>\n      <td>22290080</td>\n    </tr>\n    <tr>\n      <th>847</th>\n      <td>80000.00</td>\n      <td>99.00</td>\n      <td>3</td>\n      <td>2</td>\n      <td>1</td>\n      <td>22290070</td>\n    </tr>\n    <tr>\n      <th>1328</th>\n      <td>82000.00</td>\n      <td>55.00</td>\n      <td>2</td>\n      <td>1</td>\n      <td>1</td>\n      <td>22280080</td>\n    </tr>\n    <tr>\n      <th>614</th>\n      <td>100000.00</td>\n      <td>36.00</td>\n      <td>1</td>\n      <td>1</td>\n      <td>0</td>\n      <td>22280110</td>\n    </tr>\n    <tr>\n      <th>1211</th>\n      <td>100000.00</td>\n      <td>115.00</td>\n      <td>3</td>\n      <td>3</td>\n      <td>1</td>\n      <td>22270010</td>\n    </tr>\n    <tr>\n      <th>1291</th>\n      <td>108000.00</td>\n      <td>74.00</td>\n      <td>2</td>\n      <td>2</td>\n      <td>1</td>\n      <td>22260040</td>\n    </tr>\n    <tr>\n      <th>1243</th>\n      <td>110000.00</td>\n      <td>74.00</td>\n      <td>2</td>\n      <td>1</td>\n      <td>1</td>\n      <td>22260040</td>\n    </tr>\n    <tr>\n      <th>1138</th>\n      <td>120000.00</td>\n      <td>73.00</td>\n      <td>2</td>\n      <td>1</td>\n      <td>1</td>\n      <td>22290070</td>\n    </tr>\n    <tr>\n      <th>1139</th>\n      <td>120000.00</td>\n      <td>100.00</td>\n      <td>3</td>\n      <td>2</td>\n      <td>1</td>\n      <td>22290070</td>\n    </tr>\n  </tbody>\n</table>\n</div>"
     },
     "metadata": {},
     "execution_count": 70
    }
   ],
   "source": [
    "df_raw_subset.nsmallest(10, 'sales_price')"
   ]
  },
  {
   "cell_type": "code",
   "execution_count": 71,
   "metadata": {},
   "outputs": [
    {
     "output_type": "execute_result",
     "data": {
      "text/plain": [
       "      sales_price     area  bedrooms  bathrooms  garage  zip_code\n",
       "132    4843700.00 28321.00         4          5       3  22251030\n",
       "689    2940000.00 25331.00         4          2       2  22281080\n",
       "1160   2300000.00 23229.00         3          3       2  22260009\n",
       "1637   3688000.00 20909.00         4          5       2  22280020\n",
       "625    1899000.00 18986.00         3          2       2  22271110\n",
       "1808   2368700.00 16735.00         3          4       2  22281034\n",
       "2266   2348700.00 16735.00         3          0       1  22281033\n",
       "1467   2184400.00 15996.00         3          3       1  22280020\n",
       "1691   2184400.00 15996.00         3          3       1  22280020\n",
       "1130   1600000.00 15921.00         3          3       2  22260009"
      ],
      "text/html": "<div>\n<style scoped>\n    .dataframe tbody tr th:only-of-type {\n        vertical-align: middle;\n    }\n\n    .dataframe tbody tr th {\n        vertical-align: top;\n    }\n\n    .dataframe thead th {\n        text-align: right;\n    }\n</style>\n<table border=\"1\" class=\"dataframe\">\n  <thead>\n    <tr style=\"text-align: right;\">\n      <th></th>\n      <th>sales_price</th>\n      <th>area</th>\n      <th>bedrooms</th>\n      <th>bathrooms</th>\n      <th>garage</th>\n      <th>zip_code</th>\n    </tr>\n  </thead>\n  <tbody>\n    <tr>\n      <th>132</th>\n      <td>4843700.00</td>\n      <td>28321.00</td>\n      <td>4</td>\n      <td>5</td>\n      <td>3</td>\n      <td>22251030</td>\n    </tr>\n    <tr>\n      <th>689</th>\n      <td>2940000.00</td>\n      <td>25331.00</td>\n      <td>4</td>\n      <td>2</td>\n      <td>2</td>\n      <td>22281080</td>\n    </tr>\n    <tr>\n      <th>1160</th>\n      <td>2300000.00</td>\n      <td>23229.00</td>\n      <td>3</td>\n      <td>3</td>\n      <td>2</td>\n      <td>22260009</td>\n    </tr>\n    <tr>\n      <th>1637</th>\n      <td>3688000.00</td>\n      <td>20909.00</td>\n      <td>4</td>\n      <td>5</td>\n      <td>2</td>\n      <td>22280020</td>\n    </tr>\n    <tr>\n      <th>625</th>\n      <td>1899000.00</td>\n      <td>18986.00</td>\n      <td>3</td>\n      <td>2</td>\n      <td>2</td>\n      <td>22271110</td>\n    </tr>\n    <tr>\n      <th>1808</th>\n      <td>2368700.00</td>\n      <td>16735.00</td>\n      <td>3</td>\n      <td>4</td>\n      <td>2</td>\n      <td>22281034</td>\n    </tr>\n    <tr>\n      <th>2266</th>\n      <td>2348700.00</td>\n      <td>16735.00</td>\n      <td>3</td>\n      <td>0</td>\n      <td>1</td>\n      <td>22281033</td>\n    </tr>\n    <tr>\n      <th>1467</th>\n      <td>2184400.00</td>\n      <td>15996.00</td>\n      <td>3</td>\n      <td>3</td>\n      <td>1</td>\n      <td>22280020</td>\n    </tr>\n    <tr>\n      <th>1691</th>\n      <td>2184400.00</td>\n      <td>15996.00</td>\n      <td>3</td>\n      <td>3</td>\n      <td>1</td>\n      <td>22280020</td>\n    </tr>\n    <tr>\n      <th>1130</th>\n      <td>1600000.00</td>\n      <td>15921.00</td>\n      <td>3</td>\n      <td>3</td>\n      <td>2</td>\n      <td>22260009</td>\n    </tr>\n  </tbody>\n</table>\n</div>"
     },
     "metadata": {},
     "execution_count": 71
    }
   ],
   "source": [
    "df_raw_subset.nlargest(10, 'area')"
   ]
  },
  {
   "cell_type": "code",
   "execution_count": 72,
   "metadata": {},
   "outputs": [
    {
     "output_type": "execute_result",
     "data": {
      "text/plain": [
       "      sales_price  area  bedrooms  bathrooms  garage  zip_code\n",
       "168     599000.00  0.00         0          0       0  22281034\n",
       "281    1190000.00  0.00         2          3       1  22281033\n",
       "429    1580000.00  0.00         3          2       0  22250145\n",
       "433     630000.00  0.00         0          0       1  22281033\n",
       "477    1600000.00  0.00         0          0       0  22271100\n",
       "545     599000.00  0.00         2          2       1  22281034\n",
       "564     160000.00  3.00         0          0       0  22280970\n",
       "1005   1350000.00  9.00         2          2       1  22290030\n",
       "149     247000.00 15.00         1          1       0  22250040\n",
       "2057    247000.00 15.00         0          1       0  22250040"
      ],
      "text/html": "<div>\n<style scoped>\n    .dataframe tbody tr th:only-of-type {\n        vertical-align: middle;\n    }\n\n    .dataframe tbody tr th {\n        vertical-align: top;\n    }\n\n    .dataframe thead th {\n        text-align: right;\n    }\n</style>\n<table border=\"1\" class=\"dataframe\">\n  <thead>\n    <tr style=\"text-align: right;\">\n      <th></th>\n      <th>sales_price</th>\n      <th>area</th>\n      <th>bedrooms</th>\n      <th>bathrooms</th>\n      <th>garage</th>\n      <th>zip_code</th>\n    </tr>\n  </thead>\n  <tbody>\n    <tr>\n      <th>168</th>\n      <td>599000.00</td>\n      <td>0.00</td>\n      <td>0</td>\n      <td>0</td>\n      <td>0</td>\n      <td>22281034</td>\n    </tr>\n    <tr>\n      <th>281</th>\n      <td>1190000.00</td>\n      <td>0.00</td>\n      <td>2</td>\n      <td>3</td>\n      <td>1</td>\n      <td>22281033</td>\n    </tr>\n    <tr>\n      <th>429</th>\n      <td>1580000.00</td>\n      <td>0.00</td>\n      <td>3</td>\n      <td>2</td>\n      <td>0</td>\n      <td>22250145</td>\n    </tr>\n    <tr>\n      <th>433</th>\n      <td>630000.00</td>\n      <td>0.00</td>\n      <td>0</td>\n      <td>0</td>\n      <td>1</td>\n      <td>22281033</td>\n    </tr>\n    <tr>\n      <th>477</th>\n      <td>1600000.00</td>\n      <td>0.00</td>\n      <td>0</td>\n      <td>0</td>\n      <td>0</td>\n      <td>22271100</td>\n    </tr>\n    <tr>\n      <th>545</th>\n      <td>599000.00</td>\n      <td>0.00</td>\n      <td>2</td>\n      <td>2</td>\n      <td>1</td>\n      <td>22281034</td>\n    </tr>\n    <tr>\n      <th>564</th>\n      <td>160000.00</td>\n      <td>3.00</td>\n      <td>0</td>\n      <td>0</td>\n      <td>0</td>\n      <td>22280970</td>\n    </tr>\n    <tr>\n      <th>1005</th>\n      <td>1350000.00</td>\n      <td>9.00</td>\n      <td>2</td>\n      <td>2</td>\n      <td>1</td>\n      <td>22290030</td>\n    </tr>\n    <tr>\n      <th>149</th>\n      <td>247000.00</td>\n      <td>15.00</td>\n      <td>1</td>\n      <td>1</td>\n      <td>0</td>\n      <td>22250040</td>\n    </tr>\n    <tr>\n      <th>2057</th>\n      <td>247000.00</td>\n      <td>15.00</td>\n      <td>0</td>\n      <td>1</td>\n      <td>0</td>\n      <td>22250040</td>\n    </tr>\n  </tbody>\n</table>\n</div>"
     },
     "metadata": {},
     "execution_count": 72
    }
   ],
   "source": [
    "df_raw_subset.nsmallest(10, 'area')"
   ]
  },
  {
   "cell_type": "code",
   "execution_count": 73,
   "metadata": {},
   "outputs": [
    {
     "output_type": "stream",
     "name": "stdout",
     "text": [
      "<class 'pandas.core.frame.DataFrame'>\nInt64Index: 2821 entries, 0 to 2915\nData columns (total 6 columns):\n #   Column       Non-Null Count  Dtype  \n---  ------       --------------  -----  \n 0   sales_price  2821 non-null   float64\n 1   area         2821 non-null   float64\n 2   bedrooms     2821 non-null   int32  \n 3   bathrooms    2821 non-null   int32  \n 4   garage       2821 non-null   int32  \n 5   zip_code     2821 non-null   object \ndtypes: float64(2), int32(3), object(1)\nmemory usage: 121.2+ KB\n"
     ]
    }
   ],
   "source": [
    "df_raw_subset.info()"
   ]
  },
  {
   "cell_type": "code",
   "execution_count": 74,
   "metadata": {},
   "outputs": [],
   "source": [
    "df_raw_subset.drop(index = df_raw_subset.query('area <= 9.00').index, inplace=True)"
   ]
  },
  {
   "cell_type": "code",
   "execution_count": 75,
   "metadata": {},
   "outputs": [
    {
     "output_type": "stream",
     "name": "stdout",
     "text": [
      "<class 'pandas.core.frame.DataFrame'>\nInt64Index: 2813 entries, 0 to 2915\nData columns (total 6 columns):\n #   Column       Non-Null Count  Dtype  \n---  ------       --------------  -----  \n 0   sales_price  2813 non-null   float64\n 1   area         2813 non-null   float64\n 2   bedrooms     2813 non-null   int32  \n 3   bathrooms    2813 non-null   int32  \n 4   garage       2813 non-null   int32  \n 5   zip_code     2813 non-null   object \ndtypes: float64(2), int32(3), object(1)\nmemory usage: 120.9+ KB\n"
     ]
    }
   ],
   "source": [
    "df_raw_subset.info()"
   ]
  },
  {
   "cell_type": "code",
   "execution_count": 76,
   "metadata": {},
   "outputs": [
    {
     "output_type": "execute_result",
     "data": {
      "text/plain": [
       "      sales_price  area  bedrooms  bathrooms  garage  zip_code\n",
       "149     247000.00 15.00         1          1       0  22250040\n",
       "2057    247000.00 15.00         0          1       0  22250040\n",
       "1371    250000.00 17.00         1          1       0  22250040\n",
       "2320    200000.00 17.00         0          1       0  22290030\n",
       "2814    350000.00 17.00         1          1       0  22250040\n",
       "600     328000.00 18.00         1          1       0  22250040\n",
       "703     380000.00 18.00         0          1       0  22250040\n",
       "827     265000.00 18.00         1          1       0  22250040\n",
       "2572    340000.00 18.00         1          1       0  22250040\n",
       "343     360000.00 19.00         0          1       0  22250040"
      ],
      "text/html": "<div>\n<style scoped>\n    .dataframe tbody tr th:only-of-type {\n        vertical-align: middle;\n    }\n\n    .dataframe tbody tr th {\n        vertical-align: top;\n    }\n\n    .dataframe thead th {\n        text-align: right;\n    }\n</style>\n<table border=\"1\" class=\"dataframe\">\n  <thead>\n    <tr style=\"text-align: right;\">\n      <th></th>\n      <th>sales_price</th>\n      <th>area</th>\n      <th>bedrooms</th>\n      <th>bathrooms</th>\n      <th>garage</th>\n      <th>zip_code</th>\n    </tr>\n  </thead>\n  <tbody>\n    <tr>\n      <th>149</th>\n      <td>247000.00</td>\n      <td>15.00</td>\n      <td>1</td>\n      <td>1</td>\n      <td>0</td>\n      <td>22250040</td>\n    </tr>\n    <tr>\n      <th>2057</th>\n      <td>247000.00</td>\n      <td>15.00</td>\n      <td>0</td>\n      <td>1</td>\n      <td>0</td>\n      <td>22250040</td>\n    </tr>\n    <tr>\n      <th>1371</th>\n      <td>250000.00</td>\n      <td>17.00</td>\n      <td>1</td>\n      <td>1</td>\n      <td>0</td>\n      <td>22250040</td>\n    </tr>\n    <tr>\n      <th>2320</th>\n      <td>200000.00</td>\n      <td>17.00</td>\n      <td>0</td>\n      <td>1</td>\n      <td>0</td>\n      <td>22290030</td>\n    </tr>\n    <tr>\n      <th>2814</th>\n      <td>350000.00</td>\n      <td>17.00</td>\n      <td>1</td>\n      <td>1</td>\n      <td>0</td>\n      <td>22250040</td>\n    </tr>\n    <tr>\n      <th>600</th>\n      <td>328000.00</td>\n      <td>18.00</td>\n      <td>1</td>\n      <td>1</td>\n      <td>0</td>\n      <td>22250040</td>\n    </tr>\n    <tr>\n      <th>703</th>\n      <td>380000.00</td>\n      <td>18.00</td>\n      <td>0</td>\n      <td>1</td>\n      <td>0</td>\n      <td>22250040</td>\n    </tr>\n    <tr>\n      <th>827</th>\n      <td>265000.00</td>\n      <td>18.00</td>\n      <td>1</td>\n      <td>1</td>\n      <td>0</td>\n      <td>22250040</td>\n    </tr>\n    <tr>\n      <th>2572</th>\n      <td>340000.00</td>\n      <td>18.00</td>\n      <td>1</td>\n      <td>1</td>\n      <td>0</td>\n      <td>22250040</td>\n    </tr>\n    <tr>\n      <th>343</th>\n      <td>360000.00</td>\n      <td>19.00</td>\n      <td>0</td>\n      <td>1</td>\n      <td>0</td>\n      <td>22250040</td>\n    </tr>\n  </tbody>\n</table>\n</div>"
     },
     "metadata": {},
     "execution_count": 76
    }
   ],
   "source": [
    "df_raw_subset.nsmallest(10, 'area')"
   ]
  },
  {
   "cell_type": "code",
   "execution_count": 77,
   "metadata": {},
   "outputs": [
    {
     "output_type": "stream",
     "name": "stdout",
     "text": [
      "Informações Estatísticas referente a variável sales_price: \nMédia:  1228153.85\nMediana:  1049000.0\nDesvio Padrão:  766883.45\nMenor valor:  60000.0\nMaior valor:  7500000.0\nAmplitude:  7440000.0\n1º quartil: 720000.0\n3º quartil: 1600000.0\nIRQ: 880000.0\nLimite inferior IRQ: -600000.0\nLimite superior IRQ: 2920000.0\n"
     ]
    }
   ],
   "source": [
    "print('Informações Estatísticas referente a variável sales_price: ')\n",
    "print('Média: ', round(df_raw_subset.sales_price.mean(), 2))\n",
    "print('Mediana: ', round(df_raw_subset.sales_price.median(), 2))\n",
    "print('Desvio Padrão: ', round(df_raw_subset.sales_price.std(), 2))\n",
    "print('Menor valor: ', round(df_raw_subset.sales_price.min(), 2))\n",
    "print('Maior valor: ', round(df_raw_subset.sales_price.max(), 2))\n",
    "print('Amplitude: ', round(df_raw_subset.sales_price.max() - df_raw_subset.sales_price.min(),2))\n",
    "q1_preco = round((df_raw_subset.sales_price.quantile(q = 0.25)),2)\n",
    "q3_preco = round((df_raw_subset.sales_price.quantile(q = 0.75)),2)\n",
    "print('1º quartil:', q1_preco)\n",
    "print('3º quartil:', q3_preco)\n",
    "irq = round((q3_preco - q1_preco), 2)\n",
    "print('IRQ:', irq)\n",
    "iqr_li = round((q1_preco - (1.5 * irq)), 2)\n",
    "iqr_ls = round((q3_preco + (1.5 * irq)), 2)\n",
    "print('Limite inferior IRQ:', iqr_li)\n",
    "print('Limite superior IRQ:', iqr_ls)"
   ]
  },
  {
   "cell_type": "code",
   "execution_count": 87,
   "metadata": {},
   "outputs": [
    {
     "output_type": "execute_result",
     "data": {
      "text/plain": [
       "Empty DataFrame\n",
       "Columns: [sales_price, area, bedrooms, bathrooms, garage, zip_code]\n",
       "Index: []"
      ],
      "text/html": "<div>\n<style scoped>\n    .dataframe tbody tr th:only-of-type {\n        vertical-align: middle;\n    }\n\n    .dataframe tbody tr th {\n        vertical-align: top;\n    }\n\n    .dataframe thead th {\n        text-align: right;\n    }\n</style>\n<table border=\"1\" class=\"dataframe\">\n  <thead>\n    <tr style=\"text-align: right;\">\n      <th></th>\n      <th>sales_price</th>\n      <th>area</th>\n      <th>bedrooms</th>\n      <th>bathrooms</th>\n      <th>garage</th>\n      <th>zip_code</th>\n    </tr>\n  </thead>\n  <tbody>\n  </tbody>\n</table>\n</div>"
     },
     "metadata": {},
     "execution_count": 87
    }
   ],
   "source": [
    "df_raw_subset.loc[df_raw_subset['sales_price'] < iqr_li]"
   ]
  },
  {
   "cell_type": "code",
   "execution_count": 88,
   "metadata": {},
   "outputs": [],
   "source": [
    "pd.set_option('display.max_rows', 100)"
   ]
  },
  {
   "cell_type": "code",
   "execution_count": 89,
   "metadata": {},
   "outputs": [
    {
     "output_type": "execute_result",
     "data": {
      "text/plain": [
       "      sales_price     area  bedrooms  bathrooms  garage  zip_code\n",
       "2005   7500000.00   750.00         4          5       4  22250040\n",
       "2191   7000000.00   681.00         4          5       4  22250040\n",
       "2518   6900000.00   500.00         4          5       3  22251030\n",
       "1554   6000000.00   650.00         4          5       2  22290090\n",
       "1562   5900000.00   743.00         3          3       2  22290240\n",
       "2415   5900000.00   693.00         4          4       2  22290240\n",
       "615    5000000.00   560.00         4          2       1  22250040\n",
       "1815   4980000.00   420.00         5          5       2  22260009\n",
       "635    4900000.00   403.00         5          2       2  22250145\n",
       "368    4900000.00   457.00         4          1       2  22270010\n",
       "2648   4850000.00   557.00         4          1       1  22250040\n",
       "2568   4844000.00   283.00         4          4       3  22251030\n",
       "132    4843700.00 28321.00         4          5       3  22251030\n",
       "1965   4843000.00   283.00         4          4       3  22251030\n",
       "2007   4801300.00   283.00         4          4       2  22251030\n",
       "2578   4801300.00   283.00         4          5       3  22251030\n",
       "44     4800000.00   283.00         4          4       3  22251030\n",
       "523    4799000.00   228.00         3          5       2  22251030\n",
       "607    4700000.00   228.00         4          2       3  22251030\n",
       "123    4699000.00   232.00         4          5       3  22251030\n",
       "2842   4699000.00   235.00         4          2       3  22251030\n",
       "1038   4500000.00   226.00         4          1       3  22251030\n",
       "2030   4500000.00   226.00         4          1       3  22251030\n",
       "1161   4360000.00   822.00         0          0       0  22250145\n",
       "1271   4199000.00   186.00         3          4       2  22251030\n",
       "1907   4068540.00   354.00         3          3       3  22280080\n",
       "2759   4000000.00   392.00         5          1       2  22270000\n",
       "2813   3900000.00   403.00         4          3       2  22250145\n",
       "193    3861007.00   353.00         4          2       4  22280080\n",
       "2060   3861007.00  3539.00         4          5       4  22280080\n",
       "134    3861000.00   493.00         4          5       4  22280080\n",
       "153    3860000.00   493.00         4          5       4  22280080\n",
       "1507   3800000.00   186.00         3          3       2  22251030\n",
       "15     3800000.00   280.00         4          5       3  22250145\n",
       "699    3781000.00   354.00         3          1       3  22280080\n",
       "1511   3780000.00   186.00         4          2       2  22251030\n",
       "2505   3700000.00   421.00         5          2       2  22290240\n",
       "1637   3688000.00 20909.00         4          5       2  22280020\n",
       "2381   3680000.00   186.00         4          2       2  22251030\n",
       "2019   3680000.00   186.00         4          5       2  22251030\n",
       "185    3650000.00   400.00         4          3       1  22280020\n",
       "540    3600000.00   186.00         4          5       2  22251030\n",
       "2514   3600000.00   185.00         3          0       2  22251030\n",
       "1671   3600000.00   186.00         3          2       2  22251030\n",
       "1379   3513739.00   353.00         4          4       3  22280080\n",
       "444    3513739.00   354.00         4          5       3  22280080\n",
       "2663   3513000.00   353.00         4          5       2  22280080\n",
       "468    3500600.00   220.00         3          1       1  22260000\n",
       "2452   3500000.00   182.00         4          2       2  22251030\n",
       "2290   3500000.00   270.00         3          2       2  22250145\n",
       "620    3500000.00   186.00         4          5       2  22251030\n",
       "247    3500000.00   300.00         3          1       2  22250040\n",
       "239    3500000.00   200.00         3          4       0  22290240\n",
       "64     3500000.00   186.00         4          1       2  22251030\n",
       "576    3500000.00   300.00         3          3       2  22250145\n",
       "982    3500000.00   263.00         3          3       2  22250040\n",
       "1672   3500000.00   263.00         3          2       2  22250145\n",
       "1709   3500000.00   474.00         5          2       1  22271010\n",
       "1742   3500000.00   421.00         4          2       1  22290240\n",
       "2602   3492000.00   354.00         4          2       0  22280080\n",
       "2630   3480000.00   265.00         4          4       2  22250145\n",
       "2606   3450000.00   373.00         4          1       1  22280020\n",
       "2192   3391000.00   421.00         3          3       1  22290240\n",
       "2113   3390000.00   421.00         3          3       1  22270000\n",
       "514    3311900.00   184.00         3          1       1  22260000\n",
       "908    3290340.00   221.00         4          1       1  22270010\n",
       "1411   3220000.00   232.00         4          4       3  22270010\n",
       "234    3200000.00   220.00         3          3       2  22251040\n",
       "2146   3200000.00   148.00         3          0       3  22251030\n",
       "736    3200000.00   182.00         3          2       3  22290030\n",
       "1898   3200000.00   186.00         4          2       2  22250040\n",
       "681    3200000.00   220.00         3          3       2  22251040\n",
       "891    3200000.00   220.00         3          3       2  22251040\n",
       "1964   3176000.00   178.00         4          4       3  22290040\n",
       "2442   3100000.00   253.00         4          5       2  22281080\n",
       "1392   3100000.00   300.00         4          1       3  22290240\n",
       "2300   3050000.00   240.00         3          3       2  22270000\n",
       "1506   3000000.00   231.00         4          3       2  22281080\n",
       "1432   3000000.00   267.00         5          5       4  22250145\n",
       "2649   3000000.00   340.00         4          2       1  22270005\n",
       "2006   2998000.00   352.00         4          5       1  22280080\n",
       "332    2998000.00   353.00         4          5       3  22280080\n",
       "2061   2998000.00  3539.00         4          5       3  22280080\n",
       "1963   2998000.00   353.00         4          5       3  22280080\n",
       "2504   2990000.00   213.00         3          4       2  22251040\n",
       "53     2990000.00   154.00         3          3       2  22290070\n",
       "1622   2980000.00   160.00         4          5       2  22260020\n",
       "2581   2950000.00   392.00         5          5       2  22290240\n",
       "689    2940000.00 25331.00         4          2       2  22281080"
      ],
      "text/html": "<div>\n<style scoped>\n    .dataframe tbody tr th:only-of-type {\n        vertical-align: middle;\n    }\n\n    .dataframe tbody tr th {\n        vertical-align: top;\n    }\n\n    .dataframe thead th {\n        text-align: right;\n    }\n</style>\n<table border=\"1\" class=\"dataframe\">\n  <thead>\n    <tr style=\"text-align: right;\">\n      <th></th>\n      <th>sales_price</th>\n      <th>area</th>\n      <th>bedrooms</th>\n      <th>bathrooms</th>\n      <th>garage</th>\n      <th>zip_code</th>\n    </tr>\n  </thead>\n  <tbody>\n    <tr>\n      <th>2005</th>\n      <td>7500000.00</td>\n      <td>750.00</td>\n      <td>4</td>\n      <td>5</td>\n      <td>4</td>\n      <td>22250040</td>\n    </tr>\n    <tr>\n      <th>2191</th>\n      <td>7000000.00</td>\n      <td>681.00</td>\n      <td>4</td>\n      <td>5</td>\n      <td>4</td>\n      <td>22250040</td>\n    </tr>\n    <tr>\n      <th>2518</th>\n      <td>6900000.00</td>\n      <td>500.00</td>\n      <td>4</td>\n      <td>5</td>\n      <td>3</td>\n      <td>22251030</td>\n    </tr>\n    <tr>\n      <th>1554</th>\n      <td>6000000.00</td>\n      <td>650.00</td>\n      <td>4</td>\n      <td>5</td>\n      <td>2</td>\n      <td>22290090</td>\n    </tr>\n    <tr>\n      <th>1562</th>\n      <td>5900000.00</td>\n      <td>743.00</td>\n      <td>3</td>\n      <td>3</td>\n      <td>2</td>\n      <td>22290240</td>\n    </tr>\n    <tr>\n      <th>2415</th>\n      <td>5900000.00</td>\n      <td>693.00</td>\n      <td>4</td>\n      <td>4</td>\n      <td>2</td>\n      <td>22290240</td>\n    </tr>\n    <tr>\n      <th>615</th>\n      <td>5000000.00</td>\n      <td>560.00</td>\n      <td>4</td>\n      <td>2</td>\n      <td>1</td>\n      <td>22250040</td>\n    </tr>\n    <tr>\n      <th>1815</th>\n      <td>4980000.00</td>\n      <td>420.00</td>\n      <td>5</td>\n      <td>5</td>\n      <td>2</td>\n      <td>22260009</td>\n    </tr>\n    <tr>\n      <th>635</th>\n      <td>4900000.00</td>\n      <td>403.00</td>\n      <td>5</td>\n      <td>2</td>\n      <td>2</td>\n      <td>22250145</td>\n    </tr>\n    <tr>\n      <th>368</th>\n      <td>4900000.00</td>\n      <td>457.00</td>\n      <td>4</td>\n      <td>1</td>\n      <td>2</td>\n      <td>22270010</td>\n    </tr>\n    <tr>\n      <th>2648</th>\n      <td>4850000.00</td>\n      <td>557.00</td>\n      <td>4</td>\n      <td>1</td>\n      <td>1</td>\n      <td>22250040</td>\n    </tr>\n    <tr>\n      <th>2568</th>\n      <td>4844000.00</td>\n      <td>283.00</td>\n      <td>4</td>\n      <td>4</td>\n      <td>3</td>\n      <td>22251030</td>\n    </tr>\n    <tr>\n      <th>132</th>\n      <td>4843700.00</td>\n      <td>28321.00</td>\n      <td>4</td>\n      <td>5</td>\n      <td>3</td>\n      <td>22251030</td>\n    </tr>\n    <tr>\n      <th>1965</th>\n      <td>4843000.00</td>\n      <td>283.00</td>\n      <td>4</td>\n      <td>4</td>\n      <td>3</td>\n      <td>22251030</td>\n    </tr>\n    <tr>\n      <th>2007</th>\n      <td>4801300.00</td>\n      <td>283.00</td>\n      <td>4</td>\n      <td>4</td>\n      <td>2</td>\n      <td>22251030</td>\n    </tr>\n    <tr>\n      <th>2578</th>\n      <td>4801300.00</td>\n      <td>283.00</td>\n      <td>4</td>\n      <td>5</td>\n      <td>3</td>\n      <td>22251030</td>\n    </tr>\n    <tr>\n      <th>44</th>\n      <td>4800000.00</td>\n      <td>283.00</td>\n      <td>4</td>\n      <td>4</td>\n      <td>3</td>\n      <td>22251030</td>\n    </tr>\n    <tr>\n      <th>523</th>\n      <td>4799000.00</td>\n      <td>228.00</td>\n      <td>3</td>\n      <td>5</td>\n      <td>2</td>\n      <td>22251030</td>\n    </tr>\n    <tr>\n      <th>607</th>\n      <td>4700000.00</td>\n      <td>228.00</td>\n      <td>4</td>\n      <td>2</td>\n      <td>3</td>\n      <td>22251030</td>\n    </tr>\n    <tr>\n      <th>123</th>\n      <td>4699000.00</td>\n      <td>232.00</td>\n      <td>4</td>\n      <td>5</td>\n      <td>3</td>\n      <td>22251030</td>\n    </tr>\n    <tr>\n      <th>2842</th>\n      <td>4699000.00</td>\n      <td>235.00</td>\n      <td>4</td>\n      <td>2</td>\n      <td>3</td>\n      <td>22251030</td>\n    </tr>\n    <tr>\n      <th>1038</th>\n      <td>4500000.00</td>\n      <td>226.00</td>\n      <td>4</td>\n      <td>1</td>\n      <td>3</td>\n      <td>22251030</td>\n    </tr>\n    <tr>\n      <th>2030</th>\n      <td>4500000.00</td>\n      <td>226.00</td>\n      <td>4</td>\n      <td>1</td>\n      <td>3</td>\n      <td>22251030</td>\n    </tr>\n    <tr>\n      <th>1161</th>\n      <td>4360000.00</td>\n      <td>822.00</td>\n      <td>0</td>\n      <td>0</td>\n      <td>0</td>\n      <td>22250145</td>\n    </tr>\n    <tr>\n      <th>1271</th>\n      <td>4199000.00</td>\n      <td>186.00</td>\n      <td>3</td>\n      <td>4</td>\n      <td>2</td>\n      <td>22251030</td>\n    </tr>\n    <tr>\n      <th>1907</th>\n      <td>4068540.00</td>\n      <td>354.00</td>\n      <td>3</td>\n      <td>3</td>\n      <td>3</td>\n      <td>22280080</td>\n    </tr>\n    <tr>\n      <th>2759</th>\n      <td>4000000.00</td>\n      <td>392.00</td>\n      <td>5</td>\n      <td>1</td>\n      <td>2</td>\n      <td>22270000</td>\n    </tr>\n    <tr>\n      <th>2813</th>\n      <td>3900000.00</td>\n      <td>403.00</td>\n      <td>4</td>\n      <td>3</td>\n      <td>2</td>\n      <td>22250145</td>\n    </tr>\n    <tr>\n      <th>193</th>\n      <td>3861007.00</td>\n      <td>353.00</td>\n      <td>4</td>\n      <td>2</td>\n      <td>4</td>\n      <td>22280080</td>\n    </tr>\n    <tr>\n      <th>2060</th>\n      <td>3861007.00</td>\n      <td>3539.00</td>\n      <td>4</td>\n      <td>5</td>\n      <td>4</td>\n      <td>22280080</td>\n    </tr>\n    <tr>\n      <th>134</th>\n      <td>3861000.00</td>\n      <td>493.00</td>\n      <td>4</td>\n      <td>5</td>\n      <td>4</td>\n      <td>22280080</td>\n    </tr>\n    <tr>\n      <th>153</th>\n      <td>3860000.00</td>\n      <td>493.00</td>\n      <td>4</td>\n      <td>5</td>\n      <td>4</td>\n      <td>22280080</td>\n    </tr>\n    <tr>\n      <th>1507</th>\n      <td>3800000.00</td>\n      <td>186.00</td>\n      <td>3</td>\n      <td>3</td>\n      <td>2</td>\n      <td>22251030</td>\n    </tr>\n    <tr>\n      <th>15</th>\n      <td>3800000.00</td>\n      <td>280.00</td>\n      <td>4</td>\n      <td>5</td>\n      <td>3</td>\n      <td>22250145</td>\n    </tr>\n    <tr>\n      <th>699</th>\n      <td>3781000.00</td>\n      <td>354.00</td>\n      <td>3</td>\n      <td>1</td>\n      <td>3</td>\n      <td>22280080</td>\n    </tr>\n    <tr>\n      <th>1511</th>\n      <td>3780000.00</td>\n      <td>186.00</td>\n      <td>4</td>\n      <td>2</td>\n      <td>2</td>\n      <td>22251030</td>\n    </tr>\n    <tr>\n      <th>2505</th>\n      <td>3700000.00</td>\n      <td>421.00</td>\n      <td>5</td>\n      <td>2</td>\n      <td>2</td>\n      <td>22290240</td>\n    </tr>\n    <tr>\n      <th>1637</th>\n      <td>3688000.00</td>\n      <td>20909.00</td>\n      <td>4</td>\n      <td>5</td>\n      <td>2</td>\n      <td>22280020</td>\n    </tr>\n    <tr>\n      <th>2381</th>\n      <td>3680000.00</td>\n      <td>186.00</td>\n      <td>4</td>\n      <td>2</td>\n      <td>2</td>\n      <td>22251030</td>\n    </tr>\n    <tr>\n      <th>2019</th>\n      <td>3680000.00</td>\n      <td>186.00</td>\n      <td>4</td>\n      <td>5</td>\n      <td>2</td>\n      <td>22251030</td>\n    </tr>\n    <tr>\n      <th>185</th>\n      <td>3650000.00</td>\n      <td>400.00</td>\n      <td>4</td>\n      <td>3</td>\n      <td>1</td>\n      <td>22280020</td>\n    </tr>\n    <tr>\n      <th>540</th>\n      <td>3600000.00</td>\n      <td>186.00</td>\n      <td>4</td>\n      <td>5</td>\n      <td>2</td>\n      <td>22251030</td>\n    </tr>\n    <tr>\n      <th>2514</th>\n      <td>3600000.00</td>\n      <td>185.00</td>\n      <td>3</td>\n      <td>0</td>\n      <td>2</td>\n      <td>22251030</td>\n    </tr>\n    <tr>\n      <th>1671</th>\n      <td>3600000.00</td>\n      <td>186.00</td>\n      <td>3</td>\n      <td>2</td>\n      <td>2</td>\n      <td>22251030</td>\n    </tr>\n    <tr>\n      <th>1379</th>\n      <td>3513739.00</td>\n      <td>353.00</td>\n      <td>4</td>\n      <td>4</td>\n      <td>3</td>\n      <td>22280080</td>\n    </tr>\n    <tr>\n      <th>444</th>\n      <td>3513739.00</td>\n      <td>354.00</td>\n      <td>4</td>\n      <td>5</td>\n      <td>3</td>\n      <td>22280080</td>\n    </tr>\n    <tr>\n      <th>2663</th>\n      <td>3513000.00</td>\n      <td>353.00</td>\n      <td>4</td>\n      <td>5</td>\n      <td>2</td>\n      <td>22280080</td>\n    </tr>\n    <tr>\n      <th>468</th>\n      <td>3500600.00</td>\n      <td>220.00</td>\n      <td>3</td>\n      <td>1</td>\n      <td>1</td>\n      <td>22260000</td>\n    </tr>\n    <tr>\n      <th>2452</th>\n      <td>3500000.00</td>\n      <td>182.00</td>\n      <td>4</td>\n      <td>2</td>\n      <td>2</td>\n      <td>22251030</td>\n    </tr>\n    <tr>\n      <th>2290</th>\n      <td>3500000.00</td>\n      <td>270.00</td>\n      <td>3</td>\n      <td>2</td>\n      <td>2</td>\n      <td>22250145</td>\n    </tr>\n    <tr>\n      <th>620</th>\n      <td>3500000.00</td>\n      <td>186.00</td>\n      <td>4</td>\n      <td>5</td>\n      <td>2</td>\n      <td>22251030</td>\n    </tr>\n    <tr>\n      <th>247</th>\n      <td>3500000.00</td>\n      <td>300.00</td>\n      <td>3</td>\n      <td>1</td>\n      <td>2</td>\n      <td>22250040</td>\n    </tr>\n    <tr>\n      <th>239</th>\n      <td>3500000.00</td>\n      <td>200.00</td>\n      <td>3</td>\n      <td>4</td>\n      <td>0</td>\n      <td>22290240</td>\n    </tr>\n    <tr>\n      <th>64</th>\n      <td>3500000.00</td>\n      <td>186.00</td>\n      <td>4</td>\n      <td>1</td>\n      <td>2</td>\n      <td>22251030</td>\n    </tr>\n    <tr>\n      <th>576</th>\n      <td>3500000.00</td>\n      <td>300.00</td>\n      <td>3</td>\n      <td>3</td>\n      <td>2</td>\n      <td>22250145</td>\n    </tr>\n    <tr>\n      <th>982</th>\n      <td>3500000.00</td>\n      <td>263.00</td>\n      <td>3</td>\n      <td>3</td>\n      <td>2</td>\n      <td>22250040</td>\n    </tr>\n    <tr>\n      <th>1672</th>\n      <td>3500000.00</td>\n      <td>263.00</td>\n      <td>3</td>\n      <td>2</td>\n      <td>2</td>\n      <td>22250145</td>\n    </tr>\n    <tr>\n      <th>1709</th>\n      <td>3500000.00</td>\n      <td>474.00</td>\n      <td>5</td>\n      <td>2</td>\n      <td>1</td>\n      <td>22271010</td>\n    </tr>\n    <tr>\n      <th>1742</th>\n      <td>3500000.00</td>\n      <td>421.00</td>\n      <td>4</td>\n      <td>2</td>\n      <td>1</td>\n      <td>22290240</td>\n    </tr>\n    <tr>\n      <th>2602</th>\n      <td>3492000.00</td>\n      <td>354.00</td>\n      <td>4</td>\n      <td>2</td>\n      <td>0</td>\n      <td>22280080</td>\n    </tr>\n    <tr>\n      <th>2630</th>\n      <td>3480000.00</td>\n      <td>265.00</td>\n      <td>4</td>\n      <td>4</td>\n      <td>2</td>\n      <td>22250145</td>\n    </tr>\n    <tr>\n      <th>2606</th>\n      <td>3450000.00</td>\n      <td>373.00</td>\n      <td>4</td>\n      <td>1</td>\n      <td>1</td>\n      <td>22280020</td>\n    </tr>\n    <tr>\n      <th>2192</th>\n      <td>3391000.00</td>\n      <td>421.00</td>\n      <td>3</td>\n      <td>3</td>\n      <td>1</td>\n      <td>22290240</td>\n    </tr>\n    <tr>\n      <th>2113</th>\n      <td>3390000.00</td>\n      <td>421.00</td>\n      <td>3</td>\n      <td>3</td>\n      <td>1</td>\n      <td>22270000</td>\n    </tr>\n    <tr>\n      <th>514</th>\n      <td>3311900.00</td>\n      <td>184.00</td>\n      <td>3</td>\n      <td>1</td>\n      <td>1</td>\n      <td>22260000</td>\n    </tr>\n    <tr>\n      <th>908</th>\n      <td>3290340.00</td>\n      <td>221.00</td>\n      <td>4</td>\n      <td>1</td>\n      <td>1</td>\n      <td>22270010</td>\n    </tr>\n    <tr>\n      <th>1411</th>\n      <td>3220000.00</td>\n      <td>232.00</td>\n      <td>4</td>\n      <td>4</td>\n      <td>3</td>\n      <td>22270010</td>\n    </tr>\n    <tr>\n      <th>234</th>\n      <td>3200000.00</td>\n      <td>220.00</td>\n      <td>3</td>\n      <td>3</td>\n      <td>2</td>\n      <td>22251040</td>\n    </tr>\n    <tr>\n      <th>2146</th>\n      <td>3200000.00</td>\n      <td>148.00</td>\n      <td>3</td>\n      <td>0</td>\n      <td>3</td>\n      <td>22251030</td>\n    </tr>\n    <tr>\n      <th>736</th>\n      <td>3200000.00</td>\n      <td>182.00</td>\n      <td>3</td>\n      <td>2</td>\n      <td>3</td>\n      <td>22290030</td>\n    </tr>\n    <tr>\n      <th>1898</th>\n      <td>3200000.00</td>\n      <td>186.00</td>\n      <td>4</td>\n      <td>2</td>\n      <td>2</td>\n      <td>22250040</td>\n    </tr>\n    <tr>\n      <th>681</th>\n      <td>3200000.00</td>\n      <td>220.00</td>\n      <td>3</td>\n      <td>3</td>\n      <td>2</td>\n      <td>22251040</td>\n    </tr>\n    <tr>\n      <th>891</th>\n      <td>3200000.00</td>\n      <td>220.00</td>\n      <td>3</td>\n      <td>3</td>\n      <td>2</td>\n      <td>22251040</td>\n    </tr>\n    <tr>\n      <th>1964</th>\n      <td>3176000.00</td>\n      <td>178.00</td>\n      <td>4</td>\n      <td>4</td>\n      <td>3</td>\n      <td>22290040</td>\n    </tr>\n    <tr>\n      <th>2442</th>\n      <td>3100000.00</td>\n      <td>253.00</td>\n      <td>4</td>\n      <td>5</td>\n      <td>2</td>\n      <td>22281080</td>\n    </tr>\n    <tr>\n      <th>1392</th>\n      <td>3100000.00</td>\n      <td>300.00</td>\n      <td>4</td>\n      <td>1</td>\n      <td>3</td>\n      <td>22290240</td>\n    </tr>\n    <tr>\n      <th>2300</th>\n      <td>3050000.00</td>\n      <td>240.00</td>\n      <td>3</td>\n      <td>3</td>\n      <td>2</td>\n      <td>22270000</td>\n    </tr>\n    <tr>\n      <th>1506</th>\n      <td>3000000.00</td>\n      <td>231.00</td>\n      <td>4</td>\n      <td>3</td>\n      <td>2</td>\n      <td>22281080</td>\n    </tr>\n    <tr>\n      <th>1432</th>\n      <td>3000000.00</td>\n      <td>267.00</td>\n      <td>5</td>\n      <td>5</td>\n      <td>4</td>\n      <td>22250145</td>\n    </tr>\n    <tr>\n      <th>2649</th>\n      <td>3000000.00</td>\n      <td>340.00</td>\n      <td>4</td>\n      <td>2</td>\n      <td>1</td>\n      <td>22270005</td>\n    </tr>\n    <tr>\n      <th>2006</th>\n      <td>2998000.00</td>\n      <td>352.00</td>\n      <td>4</td>\n      <td>5</td>\n      <td>1</td>\n      <td>22280080</td>\n    </tr>\n    <tr>\n      <th>332</th>\n      <td>2998000.00</td>\n      <td>353.00</td>\n      <td>4</td>\n      <td>5</td>\n      <td>3</td>\n      <td>22280080</td>\n    </tr>\n    <tr>\n      <th>2061</th>\n      <td>2998000.00</td>\n      <td>3539.00</td>\n      <td>4</td>\n      <td>5</td>\n      <td>3</td>\n      <td>22280080</td>\n    </tr>\n    <tr>\n      <th>1963</th>\n      <td>2998000.00</td>\n      <td>353.00</td>\n      <td>4</td>\n      <td>5</td>\n      <td>3</td>\n      <td>22280080</td>\n    </tr>\n    <tr>\n      <th>2504</th>\n      <td>2990000.00</td>\n      <td>213.00</td>\n      <td>3</td>\n      <td>4</td>\n      <td>2</td>\n      <td>22251040</td>\n    </tr>\n    <tr>\n      <th>53</th>\n      <td>2990000.00</td>\n      <td>154.00</td>\n      <td>3</td>\n      <td>3</td>\n      <td>2</td>\n      <td>22290070</td>\n    </tr>\n    <tr>\n      <th>1622</th>\n      <td>2980000.00</td>\n      <td>160.00</td>\n      <td>4</td>\n      <td>5</td>\n      <td>2</td>\n      <td>22260020</td>\n    </tr>\n    <tr>\n      <th>2581</th>\n      <td>2950000.00</td>\n      <td>392.00</td>\n      <td>5</td>\n      <td>5</td>\n      <td>2</td>\n      <td>22290240</td>\n    </tr>\n    <tr>\n      <th>689</th>\n      <td>2940000.00</td>\n      <td>25331.00</td>\n      <td>4</td>\n      <td>2</td>\n      <td>2</td>\n      <td>22281080</td>\n    </tr>\n  </tbody>\n</table>\n</div>"
     },
     "metadata": {},
     "execution_count": 89
    }
   ],
   "source": [
    "df_raw_subset.loc[df_raw_subset['sales_price'] > iqr_ls].sort_values(by=['sales_price'], ascending = False)"
   ]
  },
  {
   "cell_type": "code",
   "execution_count": 81,
   "metadata": {},
   "outputs": [
    {
     "output_type": "execute_result",
     "data": {
      "text/plain": [
       "       sales_price     area  bedrooms  bathrooms  garage\n",
       "count      2813.00  2813.00   2813.00    2813.00 2813.00\n",
       "mean    1228153.85   369.76      2.45       1.85    1.00\n",
       "std      766883.45  1913.51      0.91       1.00    0.76\n",
       "min       60000.00    15.00      0.00       0.00    0.00\n",
       "25%      720000.00    70.00      2.00       1.00    0.00\n",
       "50%     1049000.00    92.00      2.00       2.00    1.00\n",
       "75%     1600000.00   122.00      3.00       2.00    1.00\n",
       "max     7500000.00 28321.00      5.00       5.00    4.00"
      ],
      "text/html": "<div>\n<style scoped>\n    .dataframe tbody tr th:only-of-type {\n        vertical-align: middle;\n    }\n\n    .dataframe tbody tr th {\n        vertical-align: top;\n    }\n\n    .dataframe thead th {\n        text-align: right;\n    }\n</style>\n<table border=\"1\" class=\"dataframe\">\n  <thead>\n    <tr style=\"text-align: right;\">\n      <th></th>\n      <th>sales_price</th>\n      <th>area</th>\n      <th>bedrooms</th>\n      <th>bathrooms</th>\n      <th>garage</th>\n    </tr>\n  </thead>\n  <tbody>\n    <tr>\n      <th>count</th>\n      <td>2813.00</td>\n      <td>2813.00</td>\n      <td>2813.00</td>\n      <td>2813.00</td>\n      <td>2813.00</td>\n    </tr>\n    <tr>\n      <th>mean</th>\n      <td>1228153.85</td>\n      <td>369.76</td>\n      <td>2.45</td>\n      <td>1.85</td>\n      <td>1.00</td>\n    </tr>\n    <tr>\n      <th>std</th>\n      <td>766883.45</td>\n      <td>1913.51</td>\n      <td>0.91</td>\n      <td>1.00</td>\n      <td>0.76</td>\n    </tr>\n    <tr>\n      <th>min</th>\n      <td>60000.00</td>\n      <td>15.00</td>\n      <td>0.00</td>\n      <td>0.00</td>\n      <td>0.00</td>\n    </tr>\n    <tr>\n      <th>25%</th>\n      <td>720000.00</td>\n      <td>70.00</td>\n      <td>2.00</td>\n      <td>1.00</td>\n      <td>0.00</td>\n    </tr>\n    <tr>\n      <th>50%</th>\n      <td>1049000.00</td>\n      <td>92.00</td>\n      <td>2.00</td>\n      <td>2.00</td>\n      <td>1.00</td>\n    </tr>\n    <tr>\n      <th>75%</th>\n      <td>1600000.00</td>\n      <td>122.00</td>\n      <td>3.00</td>\n      <td>2.00</td>\n      <td>1.00</td>\n    </tr>\n    <tr>\n      <th>max</th>\n      <td>7500000.00</td>\n      <td>28321.00</td>\n      <td>5.00</td>\n      <td>5.00</td>\n      <td>4.00</td>\n    </tr>\n  </tbody>\n</table>\n</div>"
     },
     "metadata": {},
     "execution_count": 81
    }
   ],
   "source": [
    "df_raw_subset.describe()"
   ]
  },
  {
   "cell_type": "code",
   "execution_count": 82,
   "metadata": {},
   "outputs": [
    {
     "output_type": "stream",
     "name": "stdout",
     "text": [
      "<class 'pandas.core.frame.DataFrame'>\nInt64Index: 2813 entries, 0 to 2915\nData columns (total 6 columns):\n #   Column       Non-Null Count  Dtype  \n---  ------       --------------  -----  \n 0   sales_price  2813 non-null   float64\n 1   area         2813 non-null   float64\n 2   bedrooms     2813 non-null   int32  \n 3   bathrooms    2813 non-null   int32  \n 4   garage       2813 non-null   int32  \n 5   zip_code     2813 non-null   object \ndtypes: float64(2), int32(3), object(1)\nmemory usage: 120.9+ KB\n"
     ]
    }
   ],
   "source": [
    "df_raw_subset.info()"
   ]
  },
  {
   "cell_type": "code",
   "execution_count": 83,
   "metadata": {},
   "outputs": [],
   "source": [
    "plt.style.use('fivethirtyeight')\n",
    "%matplotlib inline"
   ]
  },
  {
   "cell_type": "code",
   "execution_count": 84,
   "metadata": {},
   "outputs": [
    {
     "output_type": "execute_result",
     "data": {
      "text/plain": [
       "<AxesSubplot:>"
      ]
     },
     "metadata": {},
     "execution_count": 84
    },
    {
     "output_type": "display_data",
     "data": {
      "text/plain": "<Figure size 432x288 with 1 Axes>",
      "image/svg+xml": "<?xml version=\"1.0\" encoding=\"utf-8\" standalone=\"no\"?>\r\n<!DOCTYPE svg PUBLIC \"-//W3C//DTD SVG 1.1//EN\"\r\n  \"http://www.w3.org/Graphics/SVG/1.1/DTD/svg11.dtd\">\r\n<!-- Created with matplotlib (https://matplotlib.org/) -->\r\n<svg height=\"251.399844pt\" version=\"1.1\" viewBox=\"0 0 442.559219 251.399844\" width=\"442.559219pt\" xmlns=\"http://www.w3.org/2000/svg\" xmlns:xlink=\"http://www.w3.org/1999/xlink\">\r\n <metadata>\r\n  <rdf:RDF xmlns:cc=\"http://creativecommons.org/ns#\" xmlns:dc=\"http://purl.org/dc/elements/1.1/\" xmlns:rdf=\"http://www.w3.org/1999/02/22-rdf-syntax-ns#\">\r\n   <cc:Work>\r\n    <dc:type rdf:resource=\"http://purl.org/dc/dcmitype/StillImage\"/>\r\n    <dc:date>2021-04-08T20:36:09.969984</dc:date>\r\n    <dc:format>image/svg+xml</dc:format>\r\n    <dc:creator>\r\n     <cc:Agent>\r\n      <dc:title>Matplotlib v3.3.4, https://matplotlib.org/</dc:title>\r\n     </cc:Agent>\r\n    </dc:creator>\r\n   </cc:Work>\r\n  </rdf:RDF>\r\n </metadata>\r\n <defs>\r\n  <style type=\"text/css\">*{stroke-linecap:butt;stroke-linejoin:round;}</style>\r\n </defs>\r\n <g id=\"figure_1\">\r\n  <g id=\"patch_1\">\r\n   <path d=\"M 0 251.399844 \r\nL 442.559219 251.399844 \r\nL 442.559219 0 \r\nL 0 0 \r\nz\r\n\" style=\"fill:#ffffff;\"/>\r\n  </g>\r\n  <g id=\"axes_1\">\r\n   <g id=\"patch_2\">\r\n    <path d=\"M 59.519219 224.64 \r\nL 435.359219 224.64 \r\nL 435.359219 7.2 \r\nL 59.519219 7.2 \r\nz\r\n\" style=\"fill:#ffffff;\"/>\r\n   </g>\r\n   <g id=\"matplotlib.axis_1\">\r\n    <g id=\"xtick_1\">\r\n     <g id=\"line2d_1\">\r\n      <defs>\r\n       <path d=\"M 0 0 \r\nL 0 6 \r\n\" id=\"m5af7e6903d\" style=\"stroke:#262626;stroke-width:1.25;\"/>\r\n      </defs>\r\n      <g>\r\n       <use style=\"fill:#262626;stroke:#262626;stroke-width:1.25;\" x=\"247.439219\" xlink:href=\"#m5af7e6903d\" y=\"224.64\"/>\r\n      </g>\r\n     </g>\r\n     <g id=\"text_1\">\r\n      <!-- 0 -->\r\n      <g style=\"fill:#262626;\" transform=\"translate(244.380703 242.013594)scale(0.11 -0.11)\">\r\n       <defs>\r\n        <path d=\"M 4.15625 35.296875 \r\nQ 4.15625 48 6.765625 55.734375 \r\nQ 9.375 63.484375 14.515625 67.671875 \r\nQ 19.671875 71.875 27.484375 71.875 \r\nQ 33.25 71.875 37.59375 69.546875 \r\nQ 41.9375 67.234375 44.765625 62.859375 \r\nQ 47.609375 58.5 49.21875 52.21875 \r\nQ 50.828125 45.953125 50.828125 35.296875 \r\nQ 50.828125 22.703125 48.234375 14.96875 \r\nQ 45.65625 7.234375 40.5 3 \r\nQ 35.359375 -1.21875 27.484375 -1.21875 \r\nQ 17.140625 -1.21875 11.234375 6.203125 \r\nQ 4.15625 15.140625 4.15625 35.296875 \r\nz\r\nM 13.1875 35.296875 \r\nQ 13.1875 17.671875 17.3125 11.828125 \r\nQ 21.4375 6 27.484375 6 \r\nQ 33.546875 6 37.671875 11.859375 \r\nQ 41.796875 17.71875 41.796875 35.296875 \r\nQ 41.796875 52.984375 37.671875 58.78125 \r\nQ 33.546875 64.59375 27.390625 64.59375 \r\nQ 21.34375 64.59375 17.71875 59.46875 \r\nQ 13.1875 52.9375 13.1875 35.296875 \r\nz\r\n\" id=\"ArialMT-48\"/>\r\n       </defs>\r\n       <use xlink:href=\"#ArialMT-48\"/>\r\n      </g>\r\n     </g>\r\n    </g>\r\n   </g>\r\n   <g id=\"matplotlib.axis_2\">\r\n    <g id=\"ytick_1\">\r\n     <g id=\"line2d_2\">\r\n      <defs>\r\n       <path d=\"M 0 0 \r\nL -6 0 \r\n\" id=\"md4dd9f42b7\" style=\"stroke:#262626;stroke-width:1.25;\"/>\r\n      </defs>\r\n      <g>\r\n       <use style=\"fill:#262626;stroke:#262626;stroke-width:1.25;\" x=\"59.519219\" xlink:href=\"#md4dd9f42b7\" y=\"216.350499\"/>\r\n      </g>\r\n     </g>\r\n     <g id=\"text_2\">\r\n      <!-- 0 -->\r\n      <g style=\"fill:#262626;\" transform=\"translate(43.902187 220.287295)scale(0.11 -0.11)\">\r\n       <use xlink:href=\"#ArialMT-48\"/>\r\n      </g>\r\n     </g>\r\n    </g>\r\n    <g id=\"ytick_2\">\r\n     <g id=\"line2d_3\">\r\n      <g>\r\n       <use style=\"fill:#262626;stroke:#262626;stroke-width:1.25;\" x=\"59.519219\" xlink:href=\"#md4dd9f42b7\" y=\"189.781584\"/>\r\n      </g>\r\n     </g>\r\n     <g id=\"text_3\">\r\n      <!-- 1000000 -->\r\n      <g style=\"fill:#262626;\" transform=\"translate(7.2 193.71838)scale(0.11 -0.11)\">\r\n       <defs>\r\n        <path d=\"M 37.25 0 \r\nL 28.46875 0 \r\nL 28.46875 56 \r\nQ 25.296875 52.984375 20.140625 49.953125 \r\nQ 14.984375 46.921875 10.890625 45.40625 \r\nL 10.890625 53.90625 \r\nQ 18.265625 57.375 23.78125 62.296875 \r\nQ 29.296875 67.234375 31.59375 71.875 \r\nL 37.25 71.875 \r\nz\r\n\" id=\"ArialMT-49\"/>\r\n       </defs>\r\n       <use xlink:href=\"#ArialMT-49\"/>\r\n       <use x=\"55.615234\" xlink:href=\"#ArialMT-48\"/>\r\n       <use x=\"111.230469\" xlink:href=\"#ArialMT-48\"/>\r\n       <use x=\"166.845703\" xlink:href=\"#ArialMT-48\"/>\r\n       <use x=\"222.460938\" xlink:href=\"#ArialMT-48\"/>\r\n       <use x=\"278.076172\" xlink:href=\"#ArialMT-48\"/>\r\n       <use x=\"333.691406\" xlink:href=\"#ArialMT-48\"/>\r\n      </g>\r\n     </g>\r\n    </g>\r\n    <g id=\"ytick_3\">\r\n     <g id=\"line2d_4\">\r\n      <g>\r\n       <use style=\"fill:#262626;stroke:#262626;stroke-width:1.25;\" x=\"59.519219\" xlink:href=\"#md4dd9f42b7\" y=\"163.212669\"/>\r\n      </g>\r\n     </g>\r\n     <g id=\"text_4\">\r\n      <!-- 2000000 -->\r\n      <g style=\"fill:#262626;\" transform=\"translate(7.2 167.149465)scale(0.11 -0.11)\">\r\n       <defs>\r\n        <path d=\"M 50.34375 8.453125 \r\nL 50.34375 0 \r\nL 3.03125 0 \r\nQ 2.9375 3.171875 4.046875 6.109375 \r\nQ 5.859375 10.9375 9.828125 15.625 \r\nQ 13.8125 20.3125 21.34375 26.46875 \r\nQ 33.015625 36.03125 37.109375 41.625 \r\nQ 41.21875 47.21875 41.21875 52.203125 \r\nQ 41.21875 57.421875 37.46875 61 \r\nQ 33.734375 64.59375 27.734375 64.59375 \r\nQ 21.390625 64.59375 17.578125 60.78125 \r\nQ 13.765625 56.984375 13.71875 50.25 \r\nL 4.6875 51.171875 \r\nQ 5.609375 61.28125 11.65625 66.578125 \r\nQ 17.71875 71.875 27.9375 71.875 \r\nQ 38.234375 71.875 44.234375 66.15625 \r\nQ 50.25 60.453125 50.25 52 \r\nQ 50.25 47.703125 48.484375 43.546875 \r\nQ 46.734375 39.40625 42.65625 34.8125 \r\nQ 38.578125 30.21875 29.109375 22.21875 \r\nQ 21.1875 15.578125 18.9375 13.203125 \r\nQ 16.703125 10.84375 15.234375 8.453125 \r\nz\r\n\" id=\"ArialMT-50\"/>\r\n       </defs>\r\n       <use xlink:href=\"#ArialMT-50\"/>\r\n       <use x=\"55.615234\" xlink:href=\"#ArialMT-48\"/>\r\n       <use x=\"111.230469\" xlink:href=\"#ArialMT-48\"/>\r\n       <use x=\"166.845703\" xlink:href=\"#ArialMT-48\"/>\r\n       <use x=\"222.460938\" xlink:href=\"#ArialMT-48\"/>\r\n       <use x=\"278.076172\" xlink:href=\"#ArialMT-48\"/>\r\n       <use x=\"333.691406\" xlink:href=\"#ArialMT-48\"/>\r\n      </g>\r\n     </g>\r\n    </g>\r\n    <g id=\"ytick_4\">\r\n     <g id=\"line2d_5\">\r\n      <g>\r\n       <use style=\"fill:#262626;stroke:#262626;stroke-width:1.25;\" x=\"59.519219\" xlink:href=\"#md4dd9f42b7\" y=\"136.643754\"/>\r\n      </g>\r\n     </g>\r\n     <g id=\"text_5\">\r\n      <!-- 3000000 -->\r\n      <g style=\"fill:#262626;\" transform=\"translate(7.2 140.580551)scale(0.11 -0.11)\">\r\n       <defs>\r\n        <path d=\"M 4.203125 18.890625 \r\nL 12.984375 20.0625 \r\nQ 14.5 12.59375 18.140625 9.296875 \r\nQ 21.78125 6 27 6 \r\nQ 33.203125 6 37.46875 10.296875 \r\nQ 41.75 14.59375 41.75 20.953125 \r\nQ 41.75 27 37.796875 30.921875 \r\nQ 33.84375 34.859375 27.734375 34.859375 \r\nQ 25.25 34.859375 21.53125 33.890625 \r\nL 22.515625 41.609375 \r\nQ 23.390625 41.5 23.921875 41.5 \r\nQ 29.546875 41.5 34.03125 44.421875 \r\nQ 38.53125 47.359375 38.53125 53.46875 \r\nQ 38.53125 58.296875 35.25 61.46875 \r\nQ 31.984375 64.65625 26.8125 64.65625 \r\nQ 21.6875 64.65625 18.265625 61.421875 \r\nQ 14.84375 58.203125 13.875 51.765625 \r\nL 5.078125 53.328125 \r\nQ 6.6875 62.15625 12.390625 67.015625 \r\nQ 18.109375 71.875 26.609375 71.875 \r\nQ 32.46875 71.875 37.390625 69.359375 \r\nQ 42.328125 66.84375 44.9375 62.5 \r\nQ 47.5625 58.15625 47.5625 53.265625 \r\nQ 47.5625 48.640625 45.0625 44.828125 \r\nQ 42.578125 41.015625 37.703125 38.765625 \r\nQ 44.046875 37.3125 47.5625 32.6875 \r\nQ 51.078125 28.078125 51.078125 21.140625 \r\nQ 51.078125 11.765625 44.234375 5.25 \r\nQ 37.40625 -1.265625 26.953125 -1.265625 \r\nQ 17.53125 -1.265625 11.296875 4.34375 \r\nQ 5.078125 9.96875 4.203125 18.890625 \r\nz\r\n\" id=\"ArialMT-51\"/>\r\n       </defs>\r\n       <use xlink:href=\"#ArialMT-51\"/>\r\n       <use x=\"55.615234\" xlink:href=\"#ArialMT-48\"/>\r\n       <use x=\"111.230469\" xlink:href=\"#ArialMT-48\"/>\r\n       <use x=\"166.845703\" xlink:href=\"#ArialMT-48\"/>\r\n       <use x=\"222.460938\" xlink:href=\"#ArialMT-48\"/>\r\n       <use x=\"278.076172\" xlink:href=\"#ArialMT-48\"/>\r\n       <use x=\"333.691406\" xlink:href=\"#ArialMT-48\"/>\r\n      </g>\r\n     </g>\r\n    </g>\r\n    <g id=\"ytick_5\">\r\n     <g id=\"line2d_6\">\r\n      <g>\r\n       <use style=\"fill:#262626;stroke:#262626;stroke-width:1.25;\" x=\"59.519219\" xlink:href=\"#md4dd9f42b7\" y=\"110.074839\"/>\r\n      </g>\r\n     </g>\r\n     <g id=\"text_6\">\r\n      <!-- 4000000 -->\r\n      <g style=\"fill:#262626;\" transform=\"translate(7.2 114.011636)scale(0.11 -0.11)\">\r\n       <defs>\r\n        <path d=\"M 32.328125 0 \r\nL 32.328125 17.140625 \r\nL 1.265625 17.140625 \r\nL 1.265625 25.203125 \r\nL 33.9375 71.578125 \r\nL 41.109375 71.578125 \r\nL 41.109375 25.203125 \r\nL 50.78125 25.203125 \r\nL 50.78125 17.140625 \r\nL 41.109375 17.140625 \r\nL 41.109375 0 \r\nz\r\nM 32.328125 25.203125 \r\nL 32.328125 57.46875 \r\nL 9.90625 25.203125 \r\nz\r\n\" id=\"ArialMT-52\"/>\r\n       </defs>\r\n       <use xlink:href=\"#ArialMT-52\"/>\r\n       <use x=\"55.615234\" xlink:href=\"#ArialMT-48\"/>\r\n       <use x=\"111.230469\" xlink:href=\"#ArialMT-48\"/>\r\n       <use x=\"166.845703\" xlink:href=\"#ArialMT-48\"/>\r\n       <use x=\"222.460938\" xlink:href=\"#ArialMT-48\"/>\r\n       <use x=\"278.076172\" xlink:href=\"#ArialMT-48\"/>\r\n       <use x=\"333.691406\" xlink:href=\"#ArialMT-48\"/>\r\n      </g>\r\n     </g>\r\n    </g>\r\n    <g id=\"ytick_6\">\r\n     <g id=\"line2d_7\">\r\n      <g>\r\n       <use style=\"fill:#262626;stroke:#262626;stroke-width:1.25;\" x=\"59.519219\" xlink:href=\"#md4dd9f42b7\" y=\"83.505924\"/>\r\n      </g>\r\n     </g>\r\n     <g id=\"text_7\">\r\n      <!-- 5000000 -->\r\n      <g style=\"fill:#262626;\" transform=\"translate(7.2 87.442721)scale(0.11 -0.11)\">\r\n       <defs>\r\n        <path d=\"M 4.15625 18.75 \r\nL 13.375 19.53125 \r\nQ 14.40625 12.796875 18.140625 9.390625 \r\nQ 21.875 6 27.15625 6 \r\nQ 33.5 6 37.890625 10.78125 \r\nQ 42.28125 15.578125 42.28125 23.484375 \r\nQ 42.28125 31 38.0625 35.34375 \r\nQ 33.84375 39.703125 27 39.703125 \r\nQ 22.75 39.703125 19.328125 37.765625 \r\nQ 15.921875 35.84375 13.96875 32.765625 \r\nL 5.71875 33.84375 \r\nL 12.640625 70.609375 \r\nL 48.25 70.609375 \r\nL 48.25 62.203125 \r\nL 19.671875 62.203125 \r\nL 15.828125 42.96875 \r\nQ 22.265625 47.46875 29.34375 47.46875 \r\nQ 38.71875 47.46875 45.15625 40.96875 \r\nQ 51.609375 34.46875 51.609375 24.265625 \r\nQ 51.609375 14.546875 45.953125 7.46875 \r\nQ 39.0625 -1.21875 27.15625 -1.21875 \r\nQ 17.390625 -1.21875 11.203125 4.25 \r\nQ 5.03125 9.71875 4.15625 18.75 \r\nz\r\n\" id=\"ArialMT-53\"/>\r\n       </defs>\r\n       <use xlink:href=\"#ArialMT-53\"/>\r\n       <use x=\"55.615234\" xlink:href=\"#ArialMT-48\"/>\r\n       <use x=\"111.230469\" xlink:href=\"#ArialMT-48\"/>\r\n       <use x=\"166.845703\" xlink:href=\"#ArialMT-48\"/>\r\n       <use x=\"222.460938\" xlink:href=\"#ArialMT-48\"/>\r\n       <use x=\"278.076172\" xlink:href=\"#ArialMT-48\"/>\r\n       <use x=\"333.691406\" xlink:href=\"#ArialMT-48\"/>\r\n      </g>\r\n     </g>\r\n    </g>\r\n    <g id=\"ytick_7\">\r\n     <g id=\"line2d_8\">\r\n      <g>\r\n       <use style=\"fill:#262626;stroke:#262626;stroke-width:1.25;\" x=\"59.519219\" xlink:href=\"#md4dd9f42b7\" y=\"56.937009\"/>\r\n      </g>\r\n     </g>\r\n     <g id=\"text_8\">\r\n      <!-- 6000000 -->\r\n      <g style=\"fill:#262626;\" transform=\"translate(7.2 60.873806)scale(0.11 -0.11)\">\r\n       <defs>\r\n        <path d=\"M 49.75 54.046875 \r\nL 41.015625 53.375 \r\nQ 39.84375 58.546875 37.703125 60.890625 \r\nQ 34.125 64.65625 28.90625 64.65625 \r\nQ 24.703125 64.65625 21.53125 62.3125 \r\nQ 17.390625 59.28125 14.984375 53.46875 \r\nQ 12.59375 47.65625 12.5 36.921875 \r\nQ 15.671875 41.75 20.265625 44.09375 \r\nQ 24.859375 46.4375 29.890625 46.4375 \r\nQ 38.671875 46.4375 44.84375 39.96875 \r\nQ 51.03125 33.5 51.03125 23.25 \r\nQ 51.03125 16.5 48.125 10.71875 \r\nQ 45.21875 4.9375 40.140625 1.859375 \r\nQ 35.0625 -1.21875 28.609375 -1.21875 \r\nQ 17.625 -1.21875 10.6875 6.859375 \r\nQ 3.765625 14.9375 3.765625 33.5 \r\nQ 3.765625 54.25 11.421875 63.671875 \r\nQ 18.109375 71.875 29.4375 71.875 \r\nQ 37.890625 71.875 43.28125 67.140625 \r\nQ 48.6875 62.40625 49.75 54.046875 \r\nz\r\nM 13.875 23.1875 \r\nQ 13.875 18.65625 15.796875 14.5 \r\nQ 17.71875 10.359375 21.1875 8.171875 \r\nQ 24.65625 6 28.46875 6 \r\nQ 34.03125 6 38.03125 10.484375 \r\nQ 42.046875 14.984375 42.046875 22.703125 \r\nQ 42.046875 30.125 38.078125 34.390625 \r\nQ 34.125 38.671875 28.125 38.671875 \r\nQ 22.171875 38.671875 18.015625 34.390625 \r\nQ 13.875 30.125 13.875 23.1875 \r\nz\r\n\" id=\"ArialMT-54\"/>\r\n       </defs>\r\n       <use xlink:href=\"#ArialMT-54\"/>\r\n       <use x=\"55.615234\" xlink:href=\"#ArialMT-48\"/>\r\n       <use x=\"111.230469\" xlink:href=\"#ArialMT-48\"/>\r\n       <use x=\"166.845703\" xlink:href=\"#ArialMT-48\"/>\r\n       <use x=\"222.460938\" xlink:href=\"#ArialMT-48\"/>\r\n       <use x=\"278.076172\" xlink:href=\"#ArialMT-48\"/>\r\n       <use x=\"333.691406\" xlink:href=\"#ArialMT-48\"/>\r\n      </g>\r\n     </g>\r\n    </g>\r\n    <g id=\"ytick_8\">\r\n     <g id=\"line2d_9\">\r\n      <g>\r\n       <use style=\"fill:#262626;stroke:#262626;stroke-width:1.25;\" x=\"59.519219\" xlink:href=\"#md4dd9f42b7\" y=\"30.368094\"/>\r\n      </g>\r\n     </g>\r\n     <g id=\"text_9\">\r\n      <!-- 7000000 -->\r\n      <g style=\"fill:#262626;\" transform=\"translate(7.2 34.304891)scale(0.11 -0.11)\">\r\n       <defs>\r\n        <path d=\"M 4.734375 62.203125 \r\nL 4.734375 70.65625 \r\nL 51.078125 70.65625 \r\nL 51.078125 63.8125 \r\nQ 44.234375 56.546875 37.515625 44.484375 \r\nQ 30.8125 32.421875 27.15625 19.671875 \r\nQ 24.515625 10.6875 23.78125 0 \r\nL 14.75 0 \r\nQ 14.890625 8.453125 18.0625 20.40625 \r\nQ 21.234375 32.375 27.171875 43.484375 \r\nQ 33.109375 54.59375 39.796875 62.203125 \r\nz\r\n\" id=\"ArialMT-55\"/>\r\n       </defs>\r\n       <use xlink:href=\"#ArialMT-55\"/>\r\n       <use x=\"55.615234\" xlink:href=\"#ArialMT-48\"/>\r\n       <use x=\"111.230469\" xlink:href=\"#ArialMT-48\"/>\r\n       <use x=\"166.845703\" xlink:href=\"#ArialMT-48\"/>\r\n       <use x=\"222.460938\" xlink:href=\"#ArialMT-48\"/>\r\n       <use x=\"278.076172\" xlink:href=\"#ArialMT-48\"/>\r\n       <use x=\"333.691406\" xlink:href=\"#ArialMT-48\"/>\r\n      </g>\r\n     </g>\r\n    </g>\r\n   </g>\r\n   <g id=\"patch_3\">\r\n    <path clip-path=\"url(#pd3e8b25a0c)\" d=\"M 97.103219 197.22088 \r\nL 397.775219 197.22088 \r\nL 397.775219 173.840235 \r\nL 97.103219 173.840235 \r\nL 97.103219 197.22088 \r\nz\r\n\" style=\"fill:#abc9ea;stroke:#7a7a7a;stroke-linejoin:miter;stroke-width:1.5;\"/>\r\n   </g>\r\n   <g id=\"line2d_10\">\r\n    <path clip-path=\"url(#pd3e8b25a0c)\" d=\"M 247.439219 197.22088 \r\nL 247.439219 214.756364 \r\n\" style=\"fill:none;stroke:#7a7a7a;stroke-linecap:round;stroke-width:1.5;\"/>\r\n   </g>\r\n   <g id=\"line2d_11\">\r\n    <path clip-path=\"url(#pd3e8b25a0c)\" d=\"M 247.439219 173.840235 \r\nL 247.439219 139.300645 \r\n\" style=\"fill:none;stroke:#7a7a7a;stroke-linecap:round;stroke-width:1.5;\"/>\r\n   </g>\r\n   <g id=\"line2d_12\">\r\n    <path clip-path=\"url(#pd3e8b25a0c)\" d=\"M 172.271219 214.756364 \r\nL 322.607219 214.756364 \r\n\" style=\"fill:none;stroke:#7a7a7a;stroke-linecap:round;stroke-width:1.5;\"/>\r\n   </g>\r\n   <g id=\"line2d_13\">\r\n    <path clip-path=\"url(#pd3e8b25a0c)\" d=\"M 172.271219 139.300645 \r\nL 322.607219 139.300645 \r\n\" style=\"fill:none;stroke:#7a7a7a;stroke-linecap:round;stroke-width:1.5;\"/>\r\n   </g>\r\n   <g id=\"line2d_14\">\r\n    <defs>\r\n     <path d=\"M 0 3.535534 \r\nL 2.12132 0 \r\nL 0 -3.535534 \r\nL -2.12132 0 \r\nz\r\n\" id=\"m6770f0c96c\" style=\"stroke:#7a7a7a;stroke-linejoin:miter;\"/>\r\n    </defs>\r\n    <g clip-path=\"url(#pd3e8b25a0c)\">\r\n     <use style=\"fill:#7a7a7a;stroke:#7a7a7a;stroke-linejoin:miter;\" x=\"247.439219\" xlink:href=\"#m6770f0c96c\" y=\"115.388622\"/>\r\n     <use style=\"fill:#7a7a7a;stroke:#7a7a7a;stroke-linejoin:miter;\" x=\"247.439219\" xlink:href=\"#m6770f0c96c\" y=\"88.819707\"/>\r\n     <use style=\"fill:#7a7a7a;stroke:#7a7a7a;stroke-linejoin:miter;\" x=\"247.439219\" xlink:href=\"#m6770f0c96c\" y=\"136.909443\"/>\r\n     <use style=\"fill:#7a7a7a;stroke:#7a7a7a;stroke-linejoin:miter;\" x=\"247.439219\" xlink:href=\"#m6770f0c96c\" y=\"123.359296\"/>\r\n     <use style=\"fill:#7a7a7a;stroke:#7a7a7a;stroke-linejoin:miter;\" x=\"247.439219\" xlink:href=\"#m6770f0c96c\" y=\"91.503167\"/>\r\n     <use style=\"fill:#7a7a7a;stroke:#7a7a7a;stroke-linejoin:miter;\" x=\"247.439219\" xlink:href=\"#m6770f0c96c\" y=\"87.658645\"/>\r\n     <use style=\"fill:#7a7a7a;stroke:#7a7a7a;stroke-linejoin:miter;\" x=\"247.439219\" xlink:href=\"#m6770f0c96c\" y=\"113.767918\"/>\r\n     <use style=\"fill:#7a7a7a;stroke:#7a7a7a;stroke-linejoin:miter;\" x=\"247.439219\" xlink:href=\"#m6770f0c96c\" y=\"113.794487\"/>\r\n     <use style=\"fill:#7a7a7a;stroke:#7a7a7a;stroke-linejoin:miter;\" x=\"247.439219\" xlink:href=\"#m6770f0c96c\" y=\"119.373959\"/>\r\n     <use style=\"fill:#7a7a7a;stroke:#7a7a7a;stroke-linejoin:miter;\" x=\"247.439219\" xlink:href=\"#m6770f0c96c\" y=\"113.767732\"/>\r\n     <use style=\"fill:#7a7a7a;stroke:#7a7a7a;stroke-linejoin:miter;\" x=\"247.439219\" xlink:href=\"#m6770f0c96c\" y=\"131.329971\"/>\r\n     <use style=\"fill:#7a7a7a;stroke:#7a7a7a;stroke-linejoin:miter;\" x=\"247.439219\" xlink:href=\"#m6770f0c96c\" y=\"123.359296\"/>\r\n     <use style=\"fill:#7a7a7a;stroke:#7a7a7a;stroke-linejoin:miter;\" x=\"247.439219\" xlink:href=\"#m6770f0c96c\" y=\"123.359296\"/>\r\n     <use style=\"fill:#7a7a7a;stroke:#7a7a7a;stroke-linejoin:miter;\" x=\"247.439219\" xlink:href=\"#m6770f0c96c\" y=\"136.696891\"/>\r\n     <use style=\"fill:#7a7a7a;stroke:#7a7a7a;stroke-linejoin:miter;\" x=\"247.439219\" xlink:href=\"#m6770f0c96c\" y=\"86.162815\"/>\r\n     <use style=\"fill:#7a7a7a;stroke:#7a7a7a;stroke-linejoin:miter;\" x=\"247.439219\" xlink:href=\"#m6770f0c96c\" y=\"122.994266\"/>\r\n     <use style=\"fill:#7a7a7a;stroke:#7a7a7a;stroke-linejoin:miter;\" x=\"247.439219\" xlink:href=\"#m6770f0c96c\" y=\"123.343355\"/>\r\n     <use style=\"fill:#7a7a7a;stroke:#7a7a7a;stroke-linejoin:miter;\" x=\"247.439219\" xlink:href=\"#m6770f0c96c\" y=\"128.356909\"/>\r\n     <use style=\"fill:#7a7a7a;stroke:#7a7a7a;stroke-linejoin:miter;\" x=\"247.439219\" xlink:href=\"#m6770f0c96c\" y=\"88.846276\"/>\r\n     <use style=\"fill:#7a7a7a;stroke:#7a7a7a;stroke-linejoin:miter;\" x=\"247.439219\" xlink:href=\"#m6770f0c96c\" y=\"120.702405\"/>\r\n     <use style=\"fill:#7a7a7a;stroke:#7a7a7a;stroke-linejoin:miter;\" x=\"247.439219\" xlink:href=\"#m6770f0c96c\" y=\"123.359296\"/>\r\n     <use style=\"fill:#7a7a7a;stroke:#7a7a7a;stroke-linejoin:miter;\" x=\"247.439219\" xlink:href=\"#m6770f0c96c\" y=\"91.476598\"/>\r\n     <use style=\"fill:#7a7a7a;stroke:#7a7a7a;stroke-linejoin:miter;\" x=\"247.439219\" xlink:href=\"#m6770f0c96c\" y=\"83.505924\"/>\r\n     <use style=\"fill:#7a7a7a;stroke:#7a7a7a;stroke-linejoin:miter;\" x=\"247.439219\" xlink:href=\"#m6770f0c96c\" y=\"123.359296\"/>\r\n     <use style=\"fill:#7a7a7a;stroke:#7a7a7a;stroke-linejoin:miter;\" x=\"247.439219\" xlink:href=\"#m6770f0c96c\" y=\"86.162815\"/>\r\n     <use style=\"fill:#7a7a7a;stroke:#7a7a7a;stroke-linejoin:miter;\" x=\"247.439219\" xlink:href=\"#m6770f0c96c\" y=\"131.329971\"/>\r\n     <use style=\"fill:#7a7a7a;stroke:#7a7a7a;stroke-linejoin:miter;\" x=\"247.439219\" xlink:href=\"#m6770f0c96c\" y=\"138.237889\"/>\r\n     <use style=\"fill:#7a7a7a;stroke:#7a7a7a;stroke-linejoin:miter;\" x=\"247.439219\" xlink:href=\"#m6770f0c96c\" y=\"115.893431\"/>\r\n     <use style=\"fill:#7a7a7a;stroke:#7a7a7a;stroke-linejoin:miter;\" x=\"247.439219\" xlink:href=\"#m6770f0c96c\" y=\"131.329971\"/>\r\n     <use style=\"fill:#7a7a7a;stroke:#7a7a7a;stroke-linejoin:miter;\" x=\"247.439219\" xlink:href=\"#m6770f0c96c\" y=\"131.329971\"/>\r\n     <use style=\"fill:#7a7a7a;stroke:#7a7a7a;stroke-linejoin:miter;\" x=\"247.439219\" xlink:href=\"#m6770f0c96c\" y=\"128.929735\"/>\r\n     <use style=\"fill:#7a7a7a;stroke:#7a7a7a;stroke-linejoin:miter;\" x=\"247.439219\" xlink:href=\"#m6770f0c96c\" y=\"123.359296\"/>\r\n     <use style=\"fill:#7a7a7a;stroke:#7a7a7a;stroke-linejoin:miter;\" x=\"247.439219\" xlink:href=\"#m6770f0c96c\" y=\"96.790381\"/>\r\n     <use style=\"fill:#7a7a7a;stroke:#7a7a7a;stroke-linejoin:miter;\" x=\"247.439219\" xlink:href=\"#m6770f0c96c\" y=\"100.510029\"/>\r\n     <use style=\"fill:#7a7a7a;stroke:#7a7a7a;stroke-linejoin:miter;\" x=\"247.439219\" xlink:href=\"#m6770f0c96c\" y=\"104.787625\"/>\r\n     <use style=\"fill:#7a7a7a;stroke:#7a7a7a;stroke-linejoin:miter;\" x=\"247.439219\" xlink:href=\"#m6770f0c96c\" y=\"122.994266\"/>\r\n     <use style=\"fill:#7a7a7a;stroke:#7a7a7a;stroke-linejoin:miter;\" x=\"247.439219\" xlink:href=\"#m6770f0c96c\" y=\"133.986862\"/>\r\n     <use style=\"fill:#7a7a7a;stroke:#7a7a7a;stroke-linejoin:miter;\" x=\"247.439219\" xlink:href=\"#m6770f0c96c\" y=\"130.798592\"/>\r\n     <use style=\"fill:#7a7a7a;stroke:#7a7a7a;stroke-linejoin:miter;\" x=\"247.439219\" xlink:href=\"#m6770f0c96c\" y=\"136.643754\"/>\r\n     <use style=\"fill:#7a7a7a;stroke:#7a7a7a;stroke-linejoin:miter;\" x=\"247.439219\" xlink:href=\"#m6770f0c96c\" y=\"136.643754\"/>\r\n     <use style=\"fill:#7a7a7a;stroke:#7a7a7a;stroke-linejoin:miter;\" x=\"247.439219\" xlink:href=\"#m6770f0c96c\" y=\"115.388622\"/>\r\n     <use style=\"fill:#7a7a7a;stroke:#7a7a7a;stroke-linejoin:miter;\" x=\"247.439219\" xlink:href=\"#m6770f0c96c\" y=\"115.92\"/>\r\n     <use style=\"fill:#7a7a7a;stroke:#7a7a7a;stroke-linejoin:miter;\" x=\"247.439219\" xlink:href=\"#m6770f0c96c\" y=\"56.937009\"/>\r\n     <use style=\"fill:#7a7a7a;stroke:#7a7a7a;stroke-linejoin:miter;\" x=\"247.439219\" xlink:href=\"#m6770f0c96c\" y=\"59.5939\"/>\r\n     <use style=\"fill:#7a7a7a;stroke:#7a7a7a;stroke-linejoin:miter;\" x=\"247.439219\" xlink:href=\"#m6770f0c96c\" y=\"137.175132\"/>\r\n     <use style=\"fill:#7a7a7a;stroke:#7a7a7a;stroke-linejoin:miter;\" x=\"247.439219\" xlink:href=\"#m6770f0c96c\" y=\"118.36434\"/>\r\n     <use style=\"fill:#7a7a7a;stroke:#7a7a7a;stroke-linejoin:miter;\" x=\"247.439219\" xlink:href=\"#m6770f0c96c\" y=\"120.702405\"/>\r\n     <use style=\"fill:#7a7a7a;stroke:#7a7a7a;stroke-linejoin:miter;\" x=\"247.439219\" xlink:href=\"#m6770f0c96c\" y=\"123.359296\"/>\r\n     <use style=\"fill:#7a7a7a;stroke:#7a7a7a;stroke-linejoin:miter;\" x=\"247.439219\" xlink:href=\"#m6770f0c96c\" y=\"123.359296\"/>\r\n     <use style=\"fill:#7a7a7a;stroke:#7a7a7a;stroke-linejoin:miter;\" x=\"247.439219\" xlink:href=\"#m6770f0c96c\" y=\"123.359296\"/>\r\n     <use style=\"fill:#7a7a7a;stroke:#7a7a7a;stroke-linejoin:miter;\" x=\"247.439219\" xlink:href=\"#m6770f0c96c\" y=\"84.037302\"/>\r\n     <use style=\"fill:#7a7a7a;stroke:#7a7a7a;stroke-linejoin:miter;\" x=\"247.439219\" xlink:href=\"#m6770f0c96c\" y=\"131.329971\"/>\r\n     <use style=\"fill:#7a7a7a;stroke:#7a7a7a;stroke-linejoin:miter;\" x=\"247.439219\" xlink:href=\"#m6770f0c96c\" y=\"108.253805\"/>\r\n     <use style=\"fill:#7a7a7a;stroke:#7a7a7a;stroke-linejoin:miter;\" x=\"247.439219\" xlink:href=\"#m6770f0c96c\" y=\"136.696891\"/>\r\n     <use style=\"fill:#7a7a7a;stroke:#7a7a7a;stroke-linejoin:miter;\" x=\"247.439219\" xlink:href=\"#m6770f0c96c\" y=\"131.967625\"/>\r\n     <use style=\"fill:#7a7a7a;stroke:#7a7a7a;stroke-linejoin:miter;\" x=\"247.439219\" xlink:href=\"#m6770f0c96c\" y=\"87.677243\"/>\r\n     <use style=\"fill:#7a7a7a;stroke:#7a7a7a;stroke-linejoin:miter;\" x=\"247.439219\" xlink:href=\"#m6770f0c96c\" y=\"17.083636\"/>\r\n     <use style=\"fill:#7a7a7a;stroke:#7a7a7a;stroke-linejoin:miter;\" x=\"247.439219\" xlink:href=\"#m6770f0c96c\" y=\"136.696891\"/>\r\n     <use style=\"fill:#7a7a7a;stroke:#7a7a7a;stroke-linejoin:miter;\" x=\"247.439219\" xlink:href=\"#m6770f0c96c\" y=\"88.785167\"/>\r\n     <use style=\"fill:#7a7a7a;stroke:#7a7a7a;stroke-linejoin:miter;\" x=\"247.439219\" xlink:href=\"#m6770f0c96c\" y=\"118.576891\"/>\r\n     <use style=\"fill:#7a7a7a;stroke:#7a7a7a;stroke-linejoin:miter;\" x=\"247.439219\" xlink:href=\"#m6770f0c96c\" y=\"96.790381\"/>\r\n     <use style=\"fill:#7a7a7a;stroke:#7a7a7a;stroke-linejoin:miter;\" x=\"247.439219\" xlink:href=\"#m6770f0c96c\" y=\"113.767732\"/>\r\n     <use style=\"fill:#7a7a7a;stroke:#7a7a7a;stroke-linejoin:miter;\" x=\"247.439219\" xlink:href=\"#m6770f0c96c\" y=\"136.696891\"/>\r\n     <use style=\"fill:#7a7a7a;stroke:#7a7a7a;stroke-linejoin:miter;\" x=\"247.439219\" xlink:href=\"#m6770f0c96c\" y=\"126.281877\"/>\r\n     <use style=\"fill:#7a7a7a;stroke:#7a7a7a;stroke-linejoin:miter;\" x=\"247.439219\" xlink:href=\"#m6770f0c96c\" y=\"131.329971\"/>\r\n     <use style=\"fill:#7a7a7a;stroke:#7a7a7a;stroke-linejoin:miter;\" x=\"247.439219\" xlink:href=\"#m6770f0c96c\" y=\"30.368094\"/>\r\n     <use style=\"fill:#7a7a7a;stroke:#7a7a7a;stroke-linejoin:miter;\" x=\"247.439219\" xlink:href=\"#m6770f0c96c\" y=\"126.255308\"/>\r\n     <use style=\"fill:#7a7a7a;stroke:#7a7a7a;stroke-linejoin:miter;\" x=\"247.439219\" xlink:href=\"#m6770f0c96c\" y=\"123.359296\"/>\r\n     <use style=\"fill:#7a7a7a;stroke:#7a7a7a;stroke-linejoin:miter;\" x=\"247.439219\" xlink:href=\"#m6770f0c96c\" y=\"135.315308\"/>\r\n     <use style=\"fill:#7a7a7a;stroke:#7a7a7a;stroke-linejoin:miter;\" x=\"247.439219\" xlink:href=\"#m6770f0c96c\" y=\"118.576891\"/>\r\n     <use style=\"fill:#7a7a7a;stroke:#7a7a7a;stroke-linejoin:miter;\" x=\"247.439219\" xlink:href=\"#m6770f0c96c\" y=\"59.5939\"/>\r\n     <use style=\"fill:#7a7a7a;stroke:#7a7a7a;stroke-linejoin:miter;\" x=\"247.439219\" xlink:href=\"#m6770f0c96c\" y=\"133.986862\"/>\r\n     <use style=\"fill:#7a7a7a;stroke:#7a7a7a;stroke-linejoin:miter;\" x=\"247.439219\" xlink:href=\"#m6770f0c96c\" y=\"123.359296\"/>\r\n     <use style=\"fill:#7a7a7a;stroke:#7a7a7a;stroke-linejoin:miter;\" x=\"247.439219\" xlink:href=\"#m6770f0c96c\" y=\"136.909443\"/>\r\n     <use style=\"fill:#7a7a7a;stroke:#7a7a7a;stroke-linejoin:miter;\" x=\"247.439219\" xlink:href=\"#m6770f0c96c\" y=\"118.045513\"/>\r\n     <use style=\"fill:#7a7a7a;stroke:#7a7a7a;stroke-linejoin:miter;\" x=\"247.439219\" xlink:href=\"#m6770f0c96c\" y=\"120.702405\"/>\r\n     <use style=\"fill:#7a7a7a;stroke:#7a7a7a;stroke-linejoin:miter;\" x=\"247.439219\" xlink:href=\"#m6770f0c96c\" y=\"33.024985\"/>\r\n     <use style=\"fill:#7a7a7a;stroke:#7a7a7a;stroke-linejoin:miter;\" x=\"247.439219\" xlink:href=\"#m6770f0c96c\" y=\"87.650674\"/>\r\n     <use style=\"fill:#7a7a7a;stroke:#7a7a7a;stroke-linejoin:miter;\" x=\"247.439219\" xlink:href=\"#m6770f0c96c\" y=\"88.785167\"/>\r\n     <use style=\"fill:#7a7a7a;stroke:#7a7a7a;stroke-linejoin:miter;\" x=\"247.439219\" xlink:href=\"#m6770f0c96c\" y=\"137.972199\"/>\r\n     <use style=\"fill:#7a7a7a;stroke:#7a7a7a;stroke-linejoin:miter;\" x=\"247.439219\" xlink:href=\"#m6770f0c96c\" y=\"123.571848\"/>\r\n     <use style=\"fill:#7a7a7a;stroke:#7a7a7a;stroke-linejoin:miter;\" x=\"247.439219\" xlink:href=\"#m6770f0c96c\" y=\"124.687742\"/>\r\n     <use style=\"fill:#7a7a7a;stroke:#7a7a7a;stroke-linejoin:miter;\" x=\"247.439219\" xlink:href=\"#m6770f0c96c\" y=\"123.890674\"/>\r\n     <use style=\"fill:#7a7a7a;stroke:#7a7a7a;stroke-linejoin:miter;\" x=\"247.439219\" xlink:href=\"#m6770f0c96c\" y=\"87.491261\"/>\r\n     <use style=\"fill:#7a7a7a;stroke:#7a7a7a;stroke-linejoin:miter;\" x=\"247.439219\" xlink:href=\"#m6770f0c96c\" y=\"136.643754\"/>\r\n     <use style=\"fill:#7a7a7a;stroke:#7a7a7a;stroke-linejoin:miter;\" x=\"247.439219\" xlink:href=\"#m6770f0c96c\" y=\"123.0139\"/>\r\n     <use style=\"fill:#7a7a7a;stroke:#7a7a7a;stroke-linejoin:miter;\" x=\"247.439219\" xlink:href=\"#m6770f0c96c\" y=\"110.074839\"/>\r\n     <use style=\"fill:#7a7a7a;stroke:#7a7a7a;stroke-linejoin:miter;\" x=\"247.439219\" xlink:href=\"#m6770f0c96c\" y=\"112.73173\"/>\r\n     <use style=\"fill:#7a7a7a;stroke:#7a7a7a;stroke-linejoin:miter;\" x=\"247.439219\" xlink:href=\"#m6770f0c96c\" y=\"91.503167\"/>\r\n    </g>\r\n   </g>\r\n   <g id=\"line2d_15\">\r\n    <path clip-path=\"url(#pd3e8b25a0c)\" d=\"M 97.103219 188.479707 \r\nL 397.775219 188.479707 \r\n\" style=\"fill:none;stroke:#7a7a7a;stroke-linecap:round;stroke-width:1.5;\"/>\r\n   </g>\r\n   <g id=\"patch_4\">\r\n    <path d=\"M 59.519219 224.64 \r\nL 59.519219 7.2 \r\n\" style=\"fill:none;stroke:#262626;stroke-linecap:square;stroke-linejoin:miter;stroke-width:1.25;\"/>\r\n   </g>\r\n   <g id=\"patch_5\">\r\n    <path d=\"M 435.359219 224.64 \r\nL 435.359219 7.2 \r\n\" style=\"fill:none;stroke:#262626;stroke-linecap:square;stroke-linejoin:miter;stroke-width:1.25;\"/>\r\n   </g>\r\n   <g id=\"patch_6\">\r\n    <path d=\"M 59.519219 224.64 \r\nL 435.359219 224.64 \r\n\" style=\"fill:none;stroke:#262626;stroke-linecap:square;stroke-linejoin:miter;stroke-width:1.25;\"/>\r\n   </g>\r\n   <g id=\"patch_7\">\r\n    <path d=\"M 59.519219 7.2 \r\nL 435.359219 7.2 \r\n\" style=\"fill:none;stroke:#262626;stroke-linecap:square;stroke-linejoin:miter;stroke-width:1.25;\"/>\r\n   </g>\r\n  </g>\r\n </g>\r\n <defs>\r\n  <clipPath id=\"pd3e8b25a0c\">\r\n   <rect height=\"217.44\" width=\"375.84\" x=\"59.519219\" y=\"7.2\"/>\r\n  </clipPath>\r\n </defs>\r\n</svg>\r\n",
      "image/png": "[encoded data removed]"
     },
     "metadata": {}
    }
   ],
   "source": [
    "sns.set_theme(style = 'ticks', palette = 'pastel')\n",
    "plt.ticklabel_format(style='plain', axis='y',useOffset=False)\n",
    "sns.boxplot(data = df_raw_subset['sales_price'])"
   ]
  },
  {
   "cell_type": "code",
   "execution_count": 85,
   "metadata": {},
   "outputs": [
    {
     "output_type": "execute_result",
     "data": {
      "text/plain": [
       "<AxesSubplot:xlabel='sales_price'>"
      ]
     },
     "metadata": {},
     "execution_count": 85
    },
    {
     "output_type": "display_data",
     "data": {
      "text/plain": "<Figure size 432x288 with 1 Axes>",
      "image/svg+xml": "<?xml version=\"1.0\" encoding=\"utf-8\" standalone=\"no\"?>\r\n<!DOCTYPE svg PUBLIC \"-//W3C//DTD SVG 1.1//EN\"\r\n  \"http://www.w3.org/Graphics/SVG/1.1/DTD/svg11.dtd\">\r\n<!-- Created with matplotlib (https://matplotlib.org/) -->\r\n<svg height=\"266.374219pt\" version=\"1.1\" viewBox=\"0 0 424.208125 266.374219\" width=\"424.208125pt\" xmlns=\"http://www.w3.org/2000/svg\" xmlns:xlink=\"http://www.w3.org/1999/xlink\">\r\n <metadata>\r\n  <rdf:RDF xmlns:cc=\"http://creativecommons.org/ns#\" xmlns:dc=\"http://purl.org/dc/elements/1.1/\" xmlns:rdf=\"http://www.w3.org/1999/02/22-rdf-syntax-ns#\">\r\n   <cc:Work>\r\n    <dc:type rdf:resource=\"http://purl.org/dc/dcmitype/StillImage\"/>\r\n    <dc:date>2021-04-08T20:36:10.997983</dc:date>\r\n    <dc:format>image/svg+xml</dc:format>\r\n    <dc:creator>\r\n     <cc:Agent>\r\n      <dc:title>Matplotlib v3.3.4, https://matplotlib.org/</dc:title>\r\n     </cc:Agent>\r\n    </dc:creator>\r\n   </cc:Work>\r\n  </rdf:RDF>\r\n </metadata>\r\n <defs>\r\n  <style type=\"text/css\">*{stroke-linecap:butt;stroke-linejoin:round;}</style>\r\n </defs>\r\n <g id=\"figure_1\">\r\n  <g id=\"patch_1\">\r\n   <path d=\"M 0 266.374219 \r\nL 424.208125 266.374219 \r\nL 424.208125 0 \r\nL 0 0 \r\nz\r\n\" style=\"fill:#ffffff;\"/>\r\n  </g>\r\n  <g id=\"axes_1\">\r\n   <g id=\"patch_2\">\r\n    <path d=\"M 41.168125 224.64 \r\nL 417.008125 224.64 \r\nL 417.008125 7.2 \r\nL 41.168125 7.2 \r\nz\r\n\" style=\"fill:#ffffff;\"/>\r\n   </g>\r\n   <g id=\"matplotlib.axis_1\">\r\n    <g id=\"xtick_1\">\r\n     <g id=\"line2d_1\">\r\n      <defs>\r\n       <path d=\"M 0 0 \r\nL 0 6 \r\n\" id=\"mdf954c6c1f\" style=\"stroke:#262626;stroke-width:1.25;\"/>\r\n      </defs>\r\n      <g>\r\n       <use style=\"fill:#262626;stroke:#262626;stroke-width:1.25;\" x=\"55.496336\" xlink:href=\"#mdf954c6c1f\" y=\"224.64\"/>\r\n      </g>\r\n     </g>\r\n     <g id=\"text_1\">\r\n      <!-- 0 -->\r\n      <g style=\"fill:#262626;\" transform=\"translate(52.437821 242.013594)scale(0.11 -0.11)\">\r\n       <defs>\r\n        <path d=\"M 4.15625 35.296875 \r\nQ 4.15625 48 6.765625 55.734375 \r\nQ 9.375 63.484375 14.515625 67.671875 \r\nQ 19.671875 71.875 27.484375 71.875 \r\nQ 33.25 71.875 37.59375 69.546875 \r\nQ 41.9375 67.234375 44.765625 62.859375 \r\nQ 47.609375 58.5 49.21875 52.21875 \r\nQ 50.828125 45.953125 50.828125 35.296875 \r\nQ 50.828125 22.703125 48.234375 14.96875 \r\nQ 45.65625 7.234375 40.5 3 \r\nQ 35.359375 -1.21875 27.484375 -1.21875 \r\nQ 17.140625 -1.21875 11.234375 6.203125 \r\nQ 4.15625 15.140625 4.15625 35.296875 \r\nz\r\nM 13.1875 35.296875 \r\nQ 13.1875 17.671875 17.3125 11.828125 \r\nQ 21.4375 6 27.484375 6 \r\nQ 33.546875 6 37.671875 11.859375 \r\nQ 41.796875 17.71875 41.796875 35.296875 \r\nQ 41.796875 52.984375 37.671875 58.78125 \r\nQ 33.546875 64.59375 27.390625 64.59375 \r\nQ 21.34375 64.59375 17.71875 59.46875 \r\nQ 13.1875 52.9375 13.1875 35.296875 \r\nz\r\n\" id=\"ArialMT-48\"/>\r\n       </defs>\r\n       <use xlink:href=\"#ArialMT-48\"/>\r\n      </g>\r\n     </g>\r\n    </g>\r\n    <g id=\"xtick_2\">\r\n     <g id=\"line2d_2\">\r\n      <g>\r\n       <use style=\"fill:#262626;stroke:#262626;stroke-width:1.25;\" x=\"101.42009\" xlink:href=\"#mdf954c6c1f\" y=\"224.64\"/>\r\n      </g>\r\n     </g>\r\n     <g id=\"text_2\">\r\n      <!-- 1000000 -->\r\n      <g style=\"fill:#262626;\" transform=\"translate(80.01048 242.013594)scale(0.11 -0.11)\">\r\n       <defs>\r\n        <path d=\"M 37.25 0 \r\nL 28.46875 0 \r\nL 28.46875 56 \r\nQ 25.296875 52.984375 20.140625 49.953125 \r\nQ 14.984375 46.921875 10.890625 45.40625 \r\nL 10.890625 53.90625 \r\nQ 18.265625 57.375 23.78125 62.296875 \r\nQ 29.296875 67.234375 31.59375 71.875 \r\nL 37.25 71.875 \r\nz\r\n\" id=\"ArialMT-49\"/>\r\n       </defs>\r\n       <use xlink:href=\"#ArialMT-49\"/>\r\n       <use x=\"55.615234\" xlink:href=\"#ArialMT-48\"/>\r\n       <use x=\"111.230469\" xlink:href=\"#ArialMT-48\"/>\r\n       <use x=\"166.845703\" xlink:href=\"#ArialMT-48\"/>\r\n       <use x=\"222.460938\" xlink:href=\"#ArialMT-48\"/>\r\n       <use x=\"278.076172\" xlink:href=\"#ArialMT-48\"/>\r\n       <use x=\"333.691406\" xlink:href=\"#ArialMT-48\"/>\r\n      </g>\r\n     </g>\r\n    </g>\r\n    <g id=\"xtick_3\">\r\n     <g id=\"line2d_3\">\r\n      <g>\r\n       <use style=\"fill:#262626;stroke:#262626;stroke-width:1.25;\" x=\"147.343843\" xlink:href=\"#mdf954c6c1f\" y=\"224.64\"/>\r\n      </g>\r\n     </g>\r\n     <g id=\"text_3\">\r\n      <!-- 2000000 -->\r\n      <g style=\"fill:#262626;\" transform=\"translate(125.934234 242.013594)scale(0.11 -0.11)\">\r\n       <defs>\r\n        <path d=\"M 50.34375 8.453125 \r\nL 50.34375 0 \r\nL 3.03125 0 \r\nQ 2.9375 3.171875 4.046875 6.109375 \r\nQ 5.859375 10.9375 9.828125 15.625 \r\nQ 13.8125 20.3125 21.34375 26.46875 \r\nQ 33.015625 36.03125 37.109375 41.625 \r\nQ 41.21875 47.21875 41.21875 52.203125 \r\nQ 41.21875 57.421875 37.46875 61 \r\nQ 33.734375 64.59375 27.734375 64.59375 \r\nQ 21.390625 64.59375 17.578125 60.78125 \r\nQ 13.765625 56.984375 13.71875 50.25 \r\nL 4.6875 51.171875 \r\nQ 5.609375 61.28125 11.65625 66.578125 \r\nQ 17.71875 71.875 27.9375 71.875 \r\nQ 38.234375 71.875 44.234375 66.15625 \r\nQ 50.25 60.453125 50.25 52 \r\nQ 50.25 47.703125 48.484375 43.546875 \r\nQ 46.734375 39.40625 42.65625 34.8125 \r\nQ 38.578125 30.21875 29.109375 22.21875 \r\nQ 21.1875 15.578125 18.9375 13.203125 \r\nQ 16.703125 10.84375 15.234375 8.453125 \r\nz\r\n\" id=\"ArialMT-50\"/>\r\n       </defs>\r\n       <use xlink:href=\"#ArialMT-50\"/>\r\n       <use x=\"55.615234\" xlink:href=\"#ArialMT-48\"/>\r\n       <use x=\"111.230469\" xlink:href=\"#ArialMT-48\"/>\r\n       <use x=\"166.845703\" xlink:href=\"#ArialMT-48\"/>\r\n       <use x=\"222.460938\" xlink:href=\"#ArialMT-48\"/>\r\n       <use x=\"278.076172\" xlink:href=\"#ArialMT-48\"/>\r\n       <use x=\"333.691406\" xlink:href=\"#ArialMT-48\"/>\r\n      </g>\r\n     </g>\r\n    </g>\r\n    <g id=\"xtick_4\">\r\n     <g id=\"line2d_4\">\r\n      <g>\r\n       <use style=\"fill:#262626;stroke:#262626;stroke-width:1.25;\" x=\"193.267597\" xlink:href=\"#mdf954c6c1f\" y=\"224.64\"/>\r\n      </g>\r\n     </g>\r\n     <g id=\"text_4\">\r\n      <!-- 3000000 -->\r\n      <g style=\"fill:#262626;\" transform=\"translate(171.857988 242.013594)scale(0.11 -0.11)\">\r\n       <defs>\r\n        <path d=\"M 4.203125 18.890625 \r\nL 12.984375 20.0625 \r\nQ 14.5 12.59375 18.140625 9.296875 \r\nQ 21.78125 6 27 6 \r\nQ 33.203125 6 37.46875 10.296875 \r\nQ 41.75 14.59375 41.75 20.953125 \r\nQ 41.75 27 37.796875 30.921875 \r\nQ 33.84375 34.859375 27.734375 34.859375 \r\nQ 25.25 34.859375 21.53125 33.890625 \r\nL 22.515625 41.609375 \r\nQ 23.390625 41.5 23.921875 41.5 \r\nQ 29.546875 41.5 34.03125 44.421875 \r\nQ 38.53125 47.359375 38.53125 53.46875 \r\nQ 38.53125 58.296875 35.25 61.46875 \r\nQ 31.984375 64.65625 26.8125 64.65625 \r\nQ 21.6875 64.65625 18.265625 61.421875 \r\nQ 14.84375 58.203125 13.875 51.765625 \r\nL 5.078125 53.328125 \r\nQ 6.6875 62.15625 12.390625 67.015625 \r\nQ 18.109375 71.875 26.609375 71.875 \r\nQ 32.46875 71.875 37.390625 69.359375 \r\nQ 42.328125 66.84375 44.9375 62.5 \r\nQ 47.5625 58.15625 47.5625 53.265625 \r\nQ 47.5625 48.640625 45.0625 44.828125 \r\nQ 42.578125 41.015625 37.703125 38.765625 \r\nQ 44.046875 37.3125 47.5625 32.6875 \r\nQ 51.078125 28.078125 51.078125 21.140625 \r\nQ 51.078125 11.765625 44.234375 5.25 \r\nQ 37.40625 -1.265625 26.953125 -1.265625 \r\nQ 17.53125 -1.265625 11.296875 4.34375 \r\nQ 5.078125 9.96875 4.203125 18.890625 \r\nz\r\n\" id=\"ArialMT-51\"/>\r\n       </defs>\r\n       <use xlink:href=\"#ArialMT-51\"/>\r\n       <use x=\"55.615234\" xlink:href=\"#ArialMT-48\"/>\r\n       <use x=\"111.230469\" xlink:href=\"#ArialMT-48\"/>\r\n       <use x=\"166.845703\" xlink:href=\"#ArialMT-48\"/>\r\n       <use x=\"222.460938\" xlink:href=\"#ArialMT-48\"/>\r\n       <use x=\"278.076172\" xlink:href=\"#ArialMT-48\"/>\r\n       <use x=\"333.691406\" xlink:href=\"#ArialMT-48\"/>\r\n      </g>\r\n     </g>\r\n    </g>\r\n    <g id=\"xtick_5\">\r\n     <g id=\"line2d_5\">\r\n      <g>\r\n       <use style=\"fill:#262626;stroke:#262626;stroke-width:1.25;\" x=\"239.191351\" xlink:href=\"#mdf954c6c1f\" y=\"224.64\"/>\r\n      </g>\r\n     </g>\r\n     <g id=\"text_5\">\r\n      <!-- 4000000 -->\r\n      <g style=\"fill:#262626;\" transform=\"translate(217.781741 242.013594)scale(0.11 -0.11)\">\r\n       <defs>\r\n        <path d=\"M 32.328125 0 \r\nL 32.328125 17.140625 \r\nL 1.265625 17.140625 \r\nL 1.265625 25.203125 \r\nL 33.9375 71.578125 \r\nL 41.109375 71.578125 \r\nL 41.109375 25.203125 \r\nL 50.78125 25.203125 \r\nL 50.78125 17.140625 \r\nL 41.109375 17.140625 \r\nL 41.109375 0 \r\nz\r\nM 32.328125 25.203125 \r\nL 32.328125 57.46875 \r\nL 9.90625 25.203125 \r\nz\r\n\" id=\"ArialMT-52\"/>\r\n       </defs>\r\n       <use xlink:href=\"#ArialMT-52\"/>\r\n       <use x=\"55.615234\" xlink:href=\"#ArialMT-48\"/>\r\n       <use x=\"111.230469\" xlink:href=\"#ArialMT-48\"/>\r\n       <use x=\"166.845703\" xlink:href=\"#ArialMT-48\"/>\r\n       <use x=\"222.460938\" xlink:href=\"#ArialMT-48\"/>\r\n       <use x=\"278.076172\" xlink:href=\"#ArialMT-48\"/>\r\n       <use x=\"333.691406\" xlink:href=\"#ArialMT-48\"/>\r\n      </g>\r\n     </g>\r\n    </g>\r\n    <g id=\"xtick_6\">\r\n     <g id=\"line2d_6\">\r\n      <g>\r\n       <use style=\"fill:#262626;stroke:#262626;stroke-width:1.25;\" x=\"285.115104\" xlink:href=\"#mdf954c6c1f\" y=\"224.64\"/>\r\n      </g>\r\n     </g>\r\n     <g id=\"text_6\">\r\n      <!-- 5000000 -->\r\n      <g style=\"fill:#262626;\" transform=\"translate(263.705495 242.013594)scale(0.11 -0.11)\">\r\n       <defs>\r\n        <path d=\"M 4.15625 18.75 \r\nL 13.375 19.53125 \r\nQ 14.40625 12.796875 18.140625 9.390625 \r\nQ 21.875 6 27.15625 6 \r\nQ 33.5 6 37.890625 10.78125 \r\nQ 42.28125 15.578125 42.28125 23.484375 \r\nQ 42.28125 31 38.0625 35.34375 \r\nQ 33.84375 39.703125 27 39.703125 \r\nQ 22.75 39.703125 19.328125 37.765625 \r\nQ 15.921875 35.84375 13.96875 32.765625 \r\nL 5.71875 33.84375 \r\nL 12.640625 70.609375 \r\nL 48.25 70.609375 \r\nL 48.25 62.203125 \r\nL 19.671875 62.203125 \r\nL 15.828125 42.96875 \r\nQ 22.265625 47.46875 29.34375 47.46875 \r\nQ 38.71875 47.46875 45.15625 40.96875 \r\nQ 51.609375 34.46875 51.609375 24.265625 \r\nQ 51.609375 14.546875 45.953125 7.46875 \r\nQ 39.0625 -1.21875 27.15625 -1.21875 \r\nQ 17.390625 -1.21875 11.203125 4.25 \r\nQ 5.03125 9.71875 4.15625 18.75 \r\nz\r\n\" id=\"ArialMT-53\"/>\r\n       </defs>\r\n       <use xlink:href=\"#ArialMT-53\"/>\r\n       <use x=\"55.615234\" xlink:href=\"#ArialMT-48\"/>\r\n       <use x=\"111.230469\" xlink:href=\"#ArialMT-48\"/>\r\n       <use x=\"166.845703\" xlink:href=\"#ArialMT-48\"/>\r\n       <use x=\"222.460938\" xlink:href=\"#ArialMT-48\"/>\r\n       <use x=\"278.076172\" xlink:href=\"#ArialMT-48\"/>\r\n       <use x=\"333.691406\" xlink:href=\"#ArialMT-48\"/>\r\n      </g>\r\n     </g>\r\n    </g>\r\n    <g id=\"xtick_7\">\r\n     <g id=\"line2d_7\">\r\n      <g>\r\n       <use style=\"fill:#262626;stroke:#262626;stroke-width:1.25;\" x=\"331.038858\" xlink:href=\"#mdf954c6c1f\" y=\"224.64\"/>\r\n      </g>\r\n     </g>\r\n     <g id=\"text_7\">\r\n      <!-- 6000000 -->\r\n      <g style=\"fill:#262626;\" transform=\"translate(309.629249 242.013594)scale(0.11 -0.11)\">\r\n       <defs>\r\n        <path d=\"M 49.75 54.046875 \r\nL 41.015625 53.375 \r\nQ 39.84375 58.546875 37.703125 60.890625 \r\nQ 34.125 64.65625 28.90625 64.65625 \r\nQ 24.703125 64.65625 21.53125 62.3125 \r\nQ 17.390625 59.28125 14.984375 53.46875 \r\nQ 12.59375 47.65625 12.5 36.921875 \r\nQ 15.671875 41.75 20.265625 44.09375 \r\nQ 24.859375 46.4375 29.890625 46.4375 \r\nQ 38.671875 46.4375 44.84375 39.96875 \r\nQ 51.03125 33.5 51.03125 23.25 \r\nQ 51.03125 16.5 48.125 10.71875 \r\nQ 45.21875 4.9375 40.140625 1.859375 \r\nQ 35.0625 -1.21875 28.609375 -1.21875 \r\nQ 17.625 -1.21875 10.6875 6.859375 \r\nQ 3.765625 14.9375 3.765625 33.5 \r\nQ 3.765625 54.25 11.421875 63.671875 \r\nQ 18.109375 71.875 29.4375 71.875 \r\nQ 37.890625 71.875 43.28125 67.140625 \r\nQ 48.6875 62.40625 49.75 54.046875 \r\nz\r\nM 13.875 23.1875 \r\nQ 13.875 18.65625 15.796875 14.5 \r\nQ 17.71875 10.359375 21.1875 8.171875 \r\nQ 24.65625 6 28.46875 6 \r\nQ 34.03125 6 38.03125 10.484375 \r\nQ 42.046875 14.984375 42.046875 22.703125 \r\nQ 42.046875 30.125 38.078125 34.390625 \r\nQ 34.125 38.671875 28.125 38.671875 \r\nQ 22.171875 38.671875 18.015625 34.390625 \r\nQ 13.875 30.125 13.875 23.1875 \r\nz\r\n\" id=\"ArialMT-54\"/>\r\n       </defs>\r\n       <use xlink:href=\"#ArialMT-54\"/>\r\n       <use x=\"55.615234\" xlink:href=\"#ArialMT-48\"/>\r\n       <use x=\"111.230469\" xlink:href=\"#ArialMT-48\"/>\r\n       <use x=\"166.845703\" xlink:href=\"#ArialMT-48\"/>\r\n       <use x=\"222.460938\" xlink:href=\"#ArialMT-48\"/>\r\n       <use x=\"278.076172\" xlink:href=\"#ArialMT-48\"/>\r\n       <use x=\"333.691406\" xlink:href=\"#ArialMT-48\"/>\r\n      </g>\r\n     </g>\r\n    </g>\r\n    <g id=\"xtick_8\">\r\n     <g id=\"line2d_8\">\r\n      <g>\r\n       <use style=\"fill:#262626;stroke:#262626;stroke-width:1.25;\" x=\"376.962612\" xlink:href=\"#mdf954c6c1f\" y=\"224.64\"/>\r\n      </g>\r\n     </g>\r\n     <g id=\"text_8\">\r\n      <!-- 7000000 -->\r\n      <g style=\"fill:#262626;\" transform=\"translate(355.553002 242.013594)scale(0.11 -0.11)\">\r\n       <defs>\r\n        <path d=\"M 4.734375 62.203125 \r\nL 4.734375 70.65625 \r\nL 51.078125 70.65625 \r\nL 51.078125 63.8125 \r\nQ 44.234375 56.546875 37.515625 44.484375 \r\nQ 30.8125 32.421875 27.15625 19.671875 \r\nQ 24.515625 10.6875 23.78125 0 \r\nL 14.75 0 \r\nQ 14.890625 8.453125 18.0625 20.40625 \r\nQ 21.234375 32.375 27.171875 43.484375 \r\nQ 33.109375 54.59375 39.796875 62.203125 \r\nz\r\n\" id=\"ArialMT-55\"/>\r\n       </defs>\r\n       <use xlink:href=\"#ArialMT-55\"/>\r\n       <use x=\"55.615234\" xlink:href=\"#ArialMT-48\"/>\r\n       <use x=\"111.230469\" xlink:href=\"#ArialMT-48\"/>\r\n       <use x=\"166.845703\" xlink:href=\"#ArialMT-48\"/>\r\n       <use x=\"222.460938\" xlink:href=\"#ArialMT-48\"/>\r\n       <use x=\"278.076172\" xlink:href=\"#ArialMT-48\"/>\r\n       <use x=\"333.691406\" xlink:href=\"#ArialMT-48\"/>\r\n      </g>\r\n     </g>\r\n    </g>\r\n    <g id=\"text_9\">\r\n     <!-- sales_price -->\r\n     <g style=\"fill:#262626;\" transform=\"translate(198.74125 256.789219)scale(0.12 -0.12)\">\r\n      <defs>\r\n       <path d=\"M 3.078125 15.484375 \r\nL 11.765625 16.84375 \r\nQ 12.5 11.625 15.84375 8.84375 \r\nQ 19.1875 6.0625 25.203125 6.0625 \r\nQ 31.25 6.0625 34.171875 8.515625 \r\nQ 37.109375 10.984375 37.109375 14.3125 \r\nQ 37.109375 17.28125 34.515625 19 \r\nQ 32.71875 20.171875 25.53125 21.96875 \r\nQ 15.875 24.421875 12.140625 26.203125 \r\nQ 8.40625 27.984375 6.46875 31.125 \r\nQ 4.546875 34.28125 4.546875 38.09375 \r\nQ 4.546875 41.546875 6.125 44.5 \r\nQ 7.71875 47.46875 10.453125 49.421875 \r\nQ 12.5 50.921875 16.03125 51.96875 \r\nQ 19.578125 53.03125 23.640625 53.03125 \r\nQ 29.734375 53.03125 34.34375 51.265625 \r\nQ 38.96875 49.515625 41.15625 46.5 \r\nQ 43.359375 43.5 44.1875 38.484375 \r\nL 35.59375 37.3125 \r\nQ 35.015625 41.3125 32.203125 43.546875 \r\nQ 29.390625 45.796875 24.265625 45.796875 \r\nQ 18.21875 45.796875 15.625 43.796875 \r\nQ 13.03125 41.796875 13.03125 39.109375 \r\nQ 13.03125 37.40625 14.109375 36.03125 \r\nQ 15.1875 34.625 17.484375 33.6875 \r\nQ 18.796875 33.203125 25.25 31.453125 \r\nQ 34.578125 28.953125 38.25 27.359375 \r\nQ 41.9375 25.78125 44.03125 22.75 \r\nQ 46.140625 19.734375 46.140625 15.234375 \r\nQ 46.140625 10.84375 43.578125 6.953125 \r\nQ 41.015625 3.078125 36.171875 0.953125 \r\nQ 31.34375 -1.171875 25.25 -1.171875 \r\nQ 15.140625 -1.171875 9.84375 3.03125 \r\nQ 4.546875 7.234375 3.078125 15.484375 \r\nz\r\n\" id=\"ArialMT-115\"/>\r\n       <path d=\"M 40.4375 6.390625 \r\nQ 35.546875 2.25 31.03125 0.53125 \r\nQ 26.515625 -1.171875 21.34375 -1.171875 \r\nQ 12.796875 -1.171875 8.203125 3 \r\nQ 3.609375 7.171875 3.609375 13.671875 \r\nQ 3.609375 17.484375 5.34375 20.625 \r\nQ 7.078125 23.78125 9.890625 25.6875 \r\nQ 12.703125 27.59375 16.21875 28.5625 \r\nQ 18.796875 29.25 24.03125 29.890625 \r\nQ 34.671875 31.15625 39.703125 32.90625 \r\nQ 39.75 34.71875 39.75 35.203125 \r\nQ 39.75 40.578125 37.25 42.78125 \r\nQ 33.890625 45.75 27.25 45.75 \r\nQ 21.046875 45.75 18.09375 43.578125 \r\nQ 15.140625 41.40625 13.71875 35.890625 \r\nL 5.125 37.0625 \r\nQ 6.296875 42.578125 8.984375 45.96875 \r\nQ 11.671875 49.359375 16.75 51.1875 \r\nQ 21.828125 53.03125 28.515625 53.03125 \r\nQ 35.15625 53.03125 39.296875 51.46875 \r\nQ 43.453125 49.90625 45.40625 47.53125 \r\nQ 47.359375 45.171875 48.140625 41.546875 \r\nQ 48.578125 39.3125 48.578125 33.453125 \r\nL 48.578125 21.734375 \r\nQ 48.578125 9.46875 49.140625 6.21875 \r\nQ 49.703125 2.984375 51.375 0 \r\nL 42.1875 0 \r\nQ 40.828125 2.734375 40.4375 6.390625 \r\nz\r\nM 39.703125 26.03125 \r\nQ 34.90625 24.078125 25.34375 22.703125 \r\nQ 19.921875 21.921875 17.671875 20.9375 \r\nQ 15.4375 19.96875 14.203125 18.09375 \r\nQ 12.984375 16.21875 12.984375 13.921875 \r\nQ 12.984375 10.40625 15.640625 8.0625 \r\nQ 18.3125 5.71875 23.4375 5.71875 \r\nQ 28.515625 5.71875 32.46875 7.9375 \r\nQ 36.421875 10.15625 38.28125 14.015625 \r\nQ 39.703125 17 39.703125 22.796875 \r\nz\r\n\" id=\"ArialMT-97\"/>\r\n       <path d=\"M 6.390625 0 \r\nL 6.390625 71.578125 \r\nL 15.1875 71.578125 \r\nL 15.1875 0 \r\nz\r\n\" id=\"ArialMT-108\"/>\r\n       <path d=\"M 42.09375 16.703125 \r\nL 51.171875 15.578125 \r\nQ 49.03125 7.625 43.21875 3.21875 \r\nQ 37.40625 -1.171875 28.375 -1.171875 \r\nQ 17 -1.171875 10.328125 5.828125 \r\nQ 3.65625 12.84375 3.65625 25.484375 \r\nQ 3.65625 38.578125 10.390625 45.796875 \r\nQ 17.140625 53.03125 27.875 53.03125 \r\nQ 38.28125 53.03125 44.875 45.953125 \r\nQ 51.46875 38.875 51.46875 26.03125 \r\nQ 51.46875 25.25 51.421875 23.6875 \r\nL 12.75 23.6875 \r\nQ 13.234375 15.140625 17.578125 10.59375 \r\nQ 21.921875 6.0625 28.421875 6.0625 \r\nQ 33.25 6.0625 36.671875 8.59375 \r\nQ 40.09375 11.140625 42.09375 16.703125 \r\nz\r\nM 13.234375 30.90625 \r\nL 42.1875 30.90625 \r\nQ 41.609375 37.453125 38.875 40.71875 \r\nQ 34.671875 45.796875 27.984375 45.796875 \r\nQ 21.921875 45.796875 17.796875 41.75 \r\nQ 13.671875 37.703125 13.234375 30.90625 \r\nz\r\n\" id=\"ArialMT-101\"/>\r\n       <path d=\"M -1.515625 -19.875 \r\nL -1.515625 -13.53125 \r\nL 56.734375 -13.53125 \r\nL 56.734375 -19.875 \r\nz\r\n\" id=\"ArialMT-95\"/>\r\n       <path d=\"M 6.59375 -19.875 \r\nL 6.59375 51.859375 \r\nL 14.59375 51.859375 \r\nL 14.59375 45.125 \r\nQ 17.4375 49.078125 21 51.046875 \r\nQ 24.5625 53.03125 29.640625 53.03125 \r\nQ 36.28125 53.03125 41.359375 49.609375 \r\nQ 46.4375 46.1875 49.015625 39.953125 \r\nQ 51.609375 33.734375 51.609375 26.3125 \r\nQ 51.609375 18.359375 48.75 11.984375 \r\nQ 45.90625 5.609375 40.453125 2.21875 \r\nQ 35.015625 -1.171875 29 -1.171875 \r\nQ 24.609375 -1.171875 21.109375 0.6875 \r\nQ 17.625 2.546875 15.375 5.375 \r\nL 15.375 -19.875 \r\nz\r\nM 14.546875 25.640625 \r\nQ 14.546875 15.625 18.59375 10.84375 \r\nQ 22.65625 6.0625 28.421875 6.0625 \r\nQ 34.28125 6.0625 38.453125 11.015625 \r\nQ 42.625 15.96875 42.625 26.375 \r\nQ 42.625 36.28125 38.546875 41.203125 \r\nQ 34.46875 46.140625 28.8125 46.140625 \r\nQ 23.1875 46.140625 18.859375 40.890625 \r\nQ 14.546875 35.640625 14.546875 25.640625 \r\nz\r\n\" id=\"ArialMT-112\"/>\r\n       <path d=\"M 6.5 0 \r\nL 6.5 51.859375 \r\nL 14.40625 51.859375 \r\nL 14.40625 44 \r\nQ 17.4375 49.515625 20 51.265625 \r\nQ 22.5625 53.03125 25.640625 53.03125 \r\nQ 30.078125 53.03125 34.671875 50.203125 \r\nL 31.640625 42.046875 \r\nQ 28.421875 43.953125 25.203125 43.953125 \r\nQ 22.3125 43.953125 20.015625 42.21875 \r\nQ 17.71875 40.484375 16.75 37.40625 \r\nQ 15.28125 32.71875 15.28125 27.15625 \r\nL 15.28125 0 \r\nz\r\n\" id=\"ArialMT-114\"/>\r\n       <path d=\"M 6.640625 61.46875 \r\nL 6.640625 71.578125 \r\nL 15.4375 71.578125 \r\nL 15.4375 61.46875 \r\nz\r\nM 6.640625 0 \r\nL 6.640625 51.859375 \r\nL 15.4375 51.859375 \r\nL 15.4375 0 \r\nz\r\n\" id=\"ArialMT-105\"/>\r\n       <path d=\"M 40.4375 19 \r\nL 49.078125 17.875 \r\nQ 47.65625 8.9375 41.8125 3.875 \r\nQ 35.984375 -1.171875 27.484375 -1.171875 \r\nQ 16.84375 -1.171875 10.375 5.78125 \r\nQ 3.90625 12.75 3.90625 25.734375 \r\nQ 3.90625 34.125 6.6875 40.421875 \r\nQ 9.46875 46.734375 15.15625 49.875 \r\nQ 20.84375 53.03125 27.546875 53.03125 \r\nQ 35.984375 53.03125 41.359375 48.75 \r\nQ 46.734375 44.484375 48.25 36.625 \r\nL 39.703125 35.296875 \r\nQ 38.484375 40.53125 35.375 43.15625 \r\nQ 32.28125 45.796875 27.875 45.796875 \r\nQ 21.234375 45.796875 17.078125 41.03125 \r\nQ 12.9375 36.28125 12.9375 25.984375 \r\nQ 12.9375 15.53125 16.9375 10.796875 \r\nQ 20.953125 6.0625 27.390625 6.0625 \r\nQ 32.5625 6.0625 36.03125 9.234375 \r\nQ 39.5 12.40625 40.4375 19 \r\nz\r\n\" id=\"ArialMT-99\"/>\r\n      </defs>\r\n      <use xlink:href=\"#ArialMT-115\"/>\r\n      <use x=\"50\" xlink:href=\"#ArialMT-97\"/>\r\n      <use x=\"105.615234\" xlink:href=\"#ArialMT-108\"/>\r\n      <use x=\"127.832031\" xlink:href=\"#ArialMT-101\"/>\r\n      <use x=\"183.447266\" xlink:href=\"#ArialMT-115\"/>\r\n      <use x=\"233.447266\" xlink:href=\"#ArialMT-95\"/>\r\n      <use x=\"289.0625\" xlink:href=\"#ArialMT-112\"/>\r\n      <use x=\"344.677734\" xlink:href=\"#ArialMT-114\"/>\r\n      <use x=\"377.978516\" xlink:href=\"#ArialMT-105\"/>\r\n      <use x=\"400.195312\" xlink:href=\"#ArialMT-99\"/>\r\n      <use x=\"450.195312\" xlink:href=\"#ArialMT-101\"/>\r\n     </g>\r\n    </g>\r\n   </g>\r\n   <g id=\"matplotlib.axis_2\">\r\n    <g id=\"ytick_1\">\r\n     <g id=\"line2d_9\">\r\n      <defs>\r\n       <path d=\"M 0 0 \r\nL -6 0 \r\n\" id=\"m4db6354b93\" style=\"stroke:#262626;stroke-width:1.25;\"/>\r\n      </defs>\r\n      <g>\r\n       <use style=\"fill:#262626;stroke:#262626;stroke-width:1.25;\" x=\"41.168125\" xlink:href=\"#m4db6354b93\" y=\"224.64\"/>\r\n      </g>\r\n     </g>\r\n     <g id=\"text_10\">\r\n      <!-- 0 -->\r\n      <g style=\"fill:#262626;\" transform=\"translate(25.551094 228.576797)scale(0.11 -0.11)\">\r\n       <use xlink:href=\"#ArialMT-48\"/>\r\n      </g>\r\n     </g>\r\n    </g>\r\n    <g id=\"ytick_2\">\r\n     <g id=\"line2d_10\">\r\n      <g>\r\n       <use style=\"fill:#262626;stroke:#262626;stroke-width:1.25;\" x=\"41.168125\" xlink:href=\"#m4db6354b93\" y=\"189.119294\"/>\r\n      </g>\r\n     </g>\r\n     <g id=\"text_11\">\r\n      <!-- 200 -->\r\n      <g style=\"fill:#262626;\" transform=\"translate(13.317031 193.056091)scale(0.11 -0.11)\">\r\n       <use xlink:href=\"#ArialMT-50\"/>\r\n       <use x=\"55.615234\" xlink:href=\"#ArialMT-48\"/>\r\n       <use x=\"111.230469\" xlink:href=\"#ArialMT-48\"/>\r\n      </g>\r\n     </g>\r\n    </g>\r\n    <g id=\"ytick_3\">\r\n     <g id=\"line2d_11\">\r\n      <g>\r\n       <use style=\"fill:#262626;stroke:#262626;stroke-width:1.25;\" x=\"41.168125\" xlink:href=\"#m4db6354b93\" y=\"153.598589\"/>\r\n      </g>\r\n     </g>\r\n     <g id=\"text_12\">\r\n      <!-- 400 -->\r\n      <g style=\"fill:#262626;\" transform=\"translate(13.317031 157.535385)scale(0.11 -0.11)\">\r\n       <use xlink:href=\"#ArialMT-52\"/>\r\n       <use x=\"55.615234\" xlink:href=\"#ArialMT-48\"/>\r\n       <use x=\"111.230469\" xlink:href=\"#ArialMT-48\"/>\r\n      </g>\r\n     </g>\r\n    </g>\r\n    <g id=\"ytick_4\">\r\n     <g id=\"line2d_12\">\r\n      <g>\r\n       <use style=\"fill:#262626;stroke:#262626;stroke-width:1.25;\" x=\"41.168125\" xlink:href=\"#m4db6354b93\" y=\"118.077883\"/>\r\n      </g>\r\n     </g>\r\n     <g id=\"text_13\">\r\n      <!-- 600 -->\r\n      <g style=\"fill:#262626;\" transform=\"translate(13.317031 122.01468)scale(0.11 -0.11)\">\r\n       <use xlink:href=\"#ArialMT-54\"/>\r\n       <use x=\"55.615234\" xlink:href=\"#ArialMT-48\"/>\r\n       <use x=\"111.230469\" xlink:href=\"#ArialMT-48\"/>\r\n      </g>\r\n     </g>\r\n    </g>\r\n    <g id=\"ytick_5\">\r\n     <g id=\"line2d_13\">\r\n      <g>\r\n       <use style=\"fill:#262626;stroke:#262626;stroke-width:1.25;\" x=\"41.168125\" xlink:href=\"#m4db6354b93\" y=\"82.557177\"/>\r\n      </g>\r\n     </g>\r\n     <g id=\"text_14\">\r\n      <!-- 800 -->\r\n      <g style=\"fill:#262626;\" transform=\"translate(13.317031 86.493974)scale(0.11 -0.11)\">\r\n       <defs>\r\n        <path d=\"M 17.671875 38.8125 \r\nQ 12.203125 40.828125 9.5625 44.53125 \r\nQ 6.9375 48.25 6.9375 53.421875 \r\nQ 6.9375 61.234375 12.546875 66.546875 \r\nQ 18.171875 71.875 27.484375 71.875 \r\nQ 36.859375 71.875 42.578125 66.421875 \r\nQ 48.296875 60.984375 48.296875 53.171875 \r\nQ 48.296875 48.1875 45.671875 44.5 \r\nQ 43.0625 40.828125 37.75 38.8125 \r\nQ 44.34375 36.671875 47.78125 31.875 \r\nQ 51.21875 27.09375 51.21875 20.453125 \r\nQ 51.21875 11.28125 44.71875 5.03125 \r\nQ 38.234375 -1.21875 27.640625 -1.21875 \r\nQ 17.046875 -1.21875 10.546875 5.046875 \r\nQ 4.046875 11.328125 4.046875 20.703125 \r\nQ 4.046875 27.6875 7.59375 32.390625 \r\nQ 11.140625 37.109375 17.671875 38.8125 \r\nz\r\nM 15.921875 53.71875 \r\nQ 15.921875 48.640625 19.1875 45.40625 \r\nQ 22.46875 42.1875 27.6875 42.1875 \r\nQ 32.765625 42.1875 36.015625 45.375 \r\nQ 39.265625 48.578125 39.265625 53.21875 \r\nQ 39.265625 58.0625 35.90625 61.359375 \r\nQ 32.5625 64.65625 27.59375 64.65625 \r\nQ 22.5625 64.65625 19.234375 61.421875 \r\nQ 15.921875 58.203125 15.921875 53.71875 \r\nz\r\nM 13.09375 20.65625 \r\nQ 13.09375 16.890625 14.875 13.375 \r\nQ 16.65625 9.859375 20.171875 7.921875 \r\nQ 23.6875 6 27.734375 6 \r\nQ 34.03125 6 38.125 10.046875 \r\nQ 42.234375 14.109375 42.234375 20.359375 \r\nQ 42.234375 26.703125 38.015625 30.859375 \r\nQ 33.796875 35.015625 27.4375 35.015625 \r\nQ 21.234375 35.015625 17.15625 30.90625 \r\nQ 13.09375 26.8125 13.09375 20.65625 \r\nz\r\n\" id=\"ArialMT-56\"/>\r\n       </defs>\r\n       <use xlink:href=\"#ArialMT-56\"/>\r\n       <use x=\"55.615234\" xlink:href=\"#ArialMT-48\"/>\r\n       <use x=\"111.230469\" xlink:href=\"#ArialMT-48\"/>\r\n      </g>\r\n     </g>\r\n    </g>\r\n    <g id=\"ytick_6\">\r\n     <g id=\"line2d_14\">\r\n      <g>\r\n       <use style=\"fill:#262626;stroke:#262626;stroke-width:1.25;\" x=\"41.168125\" xlink:href=\"#m4db6354b93\" y=\"47.036471\"/>\r\n      </g>\r\n     </g>\r\n     <g id=\"text_15\">\r\n      <!-- 1000 -->\r\n      <g style=\"fill:#262626;\" transform=\"translate(7.2 50.973268)scale(0.11 -0.11)\">\r\n       <use xlink:href=\"#ArialMT-49\"/>\r\n       <use x=\"55.615234\" xlink:href=\"#ArialMT-48\"/>\r\n       <use x=\"111.230469\" xlink:href=\"#ArialMT-48\"/>\r\n       <use x=\"166.845703\" xlink:href=\"#ArialMT-48\"/>\r\n      </g>\r\n     </g>\r\n    </g>\r\n    <g id=\"ytick_7\">\r\n     <g id=\"line2d_15\">\r\n      <g>\r\n       <use style=\"fill:#262626;stroke:#262626;stroke-width:1.25;\" x=\"41.168125\" xlink:href=\"#m4db6354b93\" y=\"11.515766\"/>\r\n      </g>\r\n     </g>\r\n     <g id=\"text_16\">\r\n      <!-- 1200 -->\r\n      <g style=\"fill:#262626;\" transform=\"translate(7.2 15.452563)scale(0.11 -0.11)\">\r\n       <use xlink:href=\"#ArialMT-49\"/>\r\n       <use x=\"55.615234\" xlink:href=\"#ArialMT-50\"/>\r\n       <use x=\"111.230469\" xlink:href=\"#ArialMT-48\"/>\r\n       <use x=\"166.845703\" xlink:href=\"#ArialMT-48\"/>\r\n      </g>\r\n     </g>\r\n    </g>\r\n   </g>\r\n   <g id=\"patch_3\">\r\n    <path clip-path=\"url(#p1edc73f9b4)\" d=\"M 58.251761 224.64 \r\nL 92.419034 224.64 \r\nL 92.419034 67.638481 \r\nL 58.251761 67.638481 \r\nz\r\n\" style=\"fill:#a1c9f4;opacity:0.4;stroke:#ffffff;stroke-linejoin:miter;\"/>\r\n   </g>\r\n   <g id=\"patch_4\">\r\n    <path clip-path=\"url(#p1edc73f9b4)\" d=\"M 92.419034 224.64 \r\nL 126.586307 224.64 \r\nL 126.586307 17.554286 \r\nL 92.419034 17.554286 \r\nz\r\n\" style=\"fill:#a1c9f4;opacity:0.4;stroke:#ffffff;stroke-linejoin:miter;\"/>\r\n   </g>\r\n   <g id=\"patch_5\">\r\n    <path clip-path=\"url(#p1edc73f9b4)\" d=\"M 126.586307 224.64 \r\nL 160.75358 224.64 \r\nL 160.75358 127.135663 \r\nL 126.586307 127.135663 \r\nz\r\n\" style=\"fill:#a1c9f4;opacity:0.4;stroke:#ffffff;stroke-linejoin:miter;\"/>\r\n   </g>\r\n   <g id=\"patch_6\">\r\n    <path clip-path=\"url(#p1edc73f9b4)\" d=\"M 160.75358 224.64 \r\nL 194.920852 224.64 \r\nL 194.920852 200.308317 \r\nL 160.75358 200.308317 \r\nz\r\n\" style=\"fill:#a1c9f4;opacity:0.4;stroke:#ffffff;stroke-linejoin:miter;\"/>\r\n   </g>\r\n   <g id=\"patch_7\">\r\n    <path clip-path=\"url(#p1edc73f9b4)\" d=\"M 194.920852 224.64 \r\nL 229.088125 224.64 \r\nL 229.088125 217.358255 \r\nL 194.920852 217.358255 \r\nz\r\n\" style=\"fill:#a1c9f4;opacity:0.4;stroke:#ffffff;stroke-linejoin:miter;\"/>\r\n   </g>\r\n   <g id=\"patch_8\">\r\n    <path clip-path=\"url(#p1edc73f9b4)\" d=\"M 229.088125 224.64 \r\nL 263.255398 224.64 \r\nL 263.255398 221.975947 \r\nL 229.088125 221.975947 \r\nz\r\n\" style=\"fill:#a1c9f4;opacity:0.4;stroke:#ffffff;stroke-linejoin:miter;\"/>\r\n   </g>\r\n   <g id=\"patch_9\">\r\n    <path clip-path=\"url(#p1edc73f9b4)\" d=\"M 263.255398 224.64 \r\nL 297.42267 224.64 \r\nL 297.42267 221.975947 \r\nL 263.255398 221.975947 \r\nz\r\n\" style=\"fill:#a1c9f4;opacity:0.4;stroke:#ffffff;stroke-linejoin:miter;\"/>\r\n   </g>\r\n   <g id=\"patch_10\">\r\n    <path clip-path=\"url(#p1edc73f9b4)\" d=\"M 297.42267 224.64 \r\nL 331.589943 224.64 \r\nL 331.589943 224.107189 \r\nL 297.42267 224.107189 \r\nz\r\n\" style=\"fill:#a1c9f4;opacity:0.4;stroke:#ffffff;stroke-linejoin:miter;\"/>\r\n   </g>\r\n   <g id=\"patch_11\">\r\n    <path clip-path=\"url(#p1edc73f9b4)\" d=\"M 331.589943 224.64 \r\nL 365.757216 224.64 \r\nL 365.757216 224.64 \r\nL 331.589943 224.64 \r\nz\r\n\" style=\"fill:#a1c9f4;opacity:0.4;stroke:#ffffff;stroke-linejoin:miter;\"/>\r\n   </g>\r\n   <g id=\"patch_12\">\r\n    <path clip-path=\"url(#p1edc73f9b4)\" d=\"M 365.757216 224.64 \r\nL 399.924489 224.64 \r\nL 399.924489 224.107189 \r\nL 365.757216 224.107189 \r\nz\r\n\" style=\"fill:#a1c9f4;opacity:0.4;stroke:#ffffff;stroke-linejoin:miter;\"/>\r\n   </g>\r\n   <g id=\"patch_13\">\r\n    <path d=\"M 41.168125 224.64 \r\nL 41.168125 7.2 \r\n\" style=\"fill:none;stroke:#262626;stroke-linecap:square;stroke-linejoin:miter;stroke-width:1.25;\"/>\r\n   </g>\r\n   <g id=\"patch_14\">\r\n    <path d=\"M 417.008125 224.64 \r\nL 417.008125 7.2 \r\n\" style=\"fill:none;stroke:#262626;stroke-linecap:square;stroke-linejoin:miter;stroke-width:1.25;\"/>\r\n   </g>\r\n   <g id=\"patch_15\">\r\n    <path d=\"M 41.168125 224.64 \r\nL 417.008125 224.64 \r\n\" style=\"fill:none;stroke:#262626;stroke-linecap:square;stroke-linejoin:miter;stroke-width:1.25;\"/>\r\n   </g>\r\n   <g id=\"patch_16\">\r\n    <path d=\"M 41.168125 7.2 \r\nL 417.008125 7.2 \r\n\" style=\"fill:none;stroke:#262626;stroke-linecap:square;stroke-linejoin:miter;stroke-width:1.25;\"/>\r\n   </g>\r\n  </g>\r\n </g>\r\n <defs>\r\n  <clipPath id=\"p1edc73f9b4\">\r\n   <rect height=\"217.44\" width=\"375.84\" x=\"41.168125\" y=\"7.2\"/>\r\n  </clipPath>\r\n </defs>\r\n</svg>\r\n",
      "image/png": "[encoded data removed]"
     },
     "metadata": {}
    }
   ],
   "source": [
    "plt.ticklabel_format(style='plain', axis='x',useOffset=False)\n",
    "sns.distplot(df_raw_subset['sales_price'], bins=10, kde=False)"
   ]
  },
  {
   "cell_type": "code",
   "execution_count": null,
   "metadata": {},
   "outputs": [],
   "source": []
  }
 ]
}